{
 "cells": [
  {
   "cell_type": "markdown",
   "id": "c4ebce69-059f-4259-a780-f7e38cd6e7e0",
   "metadata": {},
   "source": [
    "# **TechCareer Veri Bilimi 101**\n",
    "* Guido van Rossum tarafından 1980lerde temeli atıldı.\n",
    "* İsmi ingiliz müzik grubu Monty Python'dan gelir"
   ]
  },
  {
   "cell_type": "markdown",
   "id": "ed3facbc-bf88-43f5-9264-4f30b831872d",
   "metadata": {},
   "source": [
    "***\n",
    "* **Print-F Methodu**\n",
    "> name = \"Eray\"  \n",
    "  print(f\"Merhaba {name}\")\n",
    "\n",
    "* **Print**\n",
    "  > print(\"Merhaba\", \"Eray\")  -> Burada kendisi boşluk bırakır çünkü default bir 'sep' parametresi vardır ve \" \" bırakır"
   ]
  },
  {
   "cell_type": "code",
   "execution_count": 44,
   "id": "7eb13ec5-27d6-4f4a-9e07-f23b7857cb1b",
   "metadata": {},
   "outputs": [
    {
     "name": "stdout",
     "output_type": "stream",
     "text": [
      "Merhaba Eray\n",
      "MerhabaEray\n"
     ]
    }
   ],
   "source": [
    "name = \"Eray\"\n",
    "print(f\"Merhaba {name}\")\n",
    "\n",
    "print(\"Merhaba\" , \"Eray\", sep=\"\")"
   ]
  },
  {
   "cell_type": "markdown",
   "id": "18881053-2416-4caf-982c-e794b74e4015",
   "metadata": {},
   "source": [
    "***\n",
    "### **Arithmetich Equations**\n",
    "* 10/2 -> Bize 5.0 verir yani float çevirir\n",
    "* 10//2 -> Bize 5 verir yani int çevirir"
   ]
  },
  {
   "cell_type": "code",
   "execution_count": 81,
   "id": "6f069bed-44da-4a4f-b663-c77bf01839e3",
   "metadata": {},
   "outputs": [
    {
     "name": "stdout",
     "output_type": "stream",
     "text": [
      "Eray | Inal | 22 | 1.83 | True | Antalya | 25 | January | 72.5 | Turkey | 8 | ErayErayErayEray\n"
     ]
    }
   ],
   "source": [
    "name = \"Eray\"\n",
    "surname = \"Inal\"\n",
    "age = 22\n",
    "height = 1.83\n",
    "is_student = True\n",
    "city = \"Antalya\"\n",
    "day = 25\n",
    "month = \"January\"\n",
    "weight = 72.5\n",
    "country = \"Turkey\"\n",
    "expo = 2**3\n",
    "\n",
    "length = len(name)\n",
    "result = name * length\n",
    "\n",
    "print(name, surname, age, height, is_student, city, day, month, weight, country, expo, result, sep=\" | \")\n"
   ]
  },
  {
   "cell_type": "markdown",
   "id": "271d4abb-046b-462f-a614-d38491a55c35",
   "metadata": {},
   "source": [
    "***"
   ]
  },
  {
   "cell_type": "code",
   "execution_count": 90,
   "id": "39de6d20-828a-4660-8380-b5c5ac9df857",
   "metadata": {},
   "outputs": [
    {
     "name": "stdin",
     "output_type": "stream",
     "text": [
      "Maliyet Giriniz:  25\n"
     ]
    },
    {
     "name": "stdout",
     "output_type": "stream",
     "text": [
      "Tax: 2.0 \n",
      "Tip: 2.5 \n",
      "Total: 29.5\n"
     ]
    }
   ],
   "source": [
    "cost = input(\"Maliyet Giriniz: \")\n",
    "taxRate = 0.08\n",
    "tipRate = 0.1\n",
    "\n",
    "tax = int(cost) * taxRate\n",
    "tip = int(cost) * tipRate\n",
    "total = int(cost) + tax + tip\n",
    "print(\"Tax:\", tax, \"\\nTip:\", tip, \"\\nTotal:\", total)"
   ]
  },
  {
   "cell_type": "code",
   "execution_count": null,
   "id": "7cc0e5db-8a83-4e50-b54e-17a46d1a19d5",
   "metadata": {},
   "outputs": [],
   "source": []
  }
 ],
 "metadata": {
  "kernelspec": {
   "display_name": "Python [conda env:base] *",
   "language": "python",
   "name": "conda-base-py"
  },
  "language_info": {
   "codemirror_mode": {
    "name": "ipython",
    "version": 3
   },
   "file_extension": ".py",
   "mimetype": "text/x-python",
   "name": "python",
   "nbconvert_exporter": "python",
   "pygments_lexer": "ipython3",
   "version": "3.12.7"
  }
 },
 "nbformat": 4,
 "nbformat_minor": 5
}

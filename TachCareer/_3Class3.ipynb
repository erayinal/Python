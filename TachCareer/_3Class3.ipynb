{
 "cells": [
  {
   "cell_type": "code",
   "execution_count": 25,
   "id": "76c79829-52c9-479d-9973-29a6bb03a91d",
   "metadata": {},
   "outputs": [
    {
     "name": "stdin",
     "output_type": "stream",
     "text": [
      "Lütfen maaşınızı giriniz:  1200\n"
     ]
    },
    {
     "name": "stdout",
     "output_type": "stream",
     "text": [
      "1320.0\n"
     ]
    }
   ],
   "source": [
    "salary = float(input(\"Lütfen maaşınızı giriniz: \"))\n",
    "if(salary <= 1000 and salary > 0):\n",
    "    salary *= 1.15\n",
    "    print(salary)\n",
    "elif(salary <= 2000):\n",
    "    salary *= 1.1\n",
    "    print(salary)\n",
    "elif(salary <= 3000):\n",
    "    salary *= 1.05\n",
    "    print(salary)\n",
    "elif(salary > 3000):\n",
    "    salary *= 1.025\n",
    "    print(salary)\n",
    "else:\n",
    "    print(\"Hatalı sayı\")"
   ]
  },
  {
   "cell_type": "code",
   "execution_count": null,
   "id": "6d746f93-df3a-412d-a690-a246b2e3787e",
   "metadata": {},
   "outputs": [],
   "source": []
  }
 ],
 "metadata": {
  "kernelspec": {
   "display_name": "Python [conda env:base] *",
   "language": "python",
   "name": "conda-base-py"
  },
  "language_info": {
   "codemirror_mode": {
    "name": "ipython",
    "version": 3
   },
   "file_extension": ".py",
   "mimetype": "text/x-python",
   "name": "python",
   "nbconvert_exporter": "python",
   "pygments_lexer": "ipython3",
   "version": "3.12.7"
  }
 },
 "nbformat": 4,
 "nbformat_minor": 5
}

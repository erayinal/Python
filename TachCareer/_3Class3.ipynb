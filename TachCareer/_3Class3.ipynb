{
 "cells": [
  {
   "cell_type": "code",
   "execution_count": 25,
   "id": "76c79829-52c9-479d-9973-29a6bb03a91d",
   "metadata": {
    "editable": true,
    "slideshow": {
     "slide_type": ""
    },
    "tags": []
   },
   "outputs": [
    {
     "name": "stdin",
     "output_type": "stream",
     "text": [
      "Lütfen maaşınızı giriniz:  1200\n"
     ]
    },
    {
     "name": "stdout",
     "output_type": "stream",
     "text": [
      "1320.0\n"
     ]
    }
   ],
   "source": [
    "salary = float(input(\"Lütfen maaşınızı giriniz: \"))\n",
    "if(salary <= 1000 and salary > 0):\n",
    "    salary *= 1.15\n",
    "    print(salary)\n",
    "elif(salary <= 2000):\n",
    "    salary *= 1.1\n",
    "    print(salary)\n",
    "elif(salary <= 3000):\n",
    "    salary *= 1.05\n",
    "    print(salary)\n",
    "elif(salary > 3000):\n",
    "    salary *= 1.025\n",
    "    print(salary)\n",
    "else:\n",
    "    print(\"Hatalı sayı\")"
   ]
  },
  {
   "cell_type": "markdown",
   "id": "24e15158-7e08-4b09-b318-3c725e258175",
   "metadata": {},
   "source": [
    "## List Comprehension"
   ]
  },
  {
   "cell_type": "code",
   "execution_count": 33,
   "id": "8a024085-603c-4580-81f0-1be0afa9ae9e",
   "metadata": {},
   "outputs": [
    {
     "data": {
      "text/plain": [
       "[1100.0, 2200.0, 3300.0, 4400.0, 5500.0]"
      ]
     },
     "execution_count": 33,
     "metadata": {},
     "output_type": "execute_result"
    }
   ],
   "source": [
    "worker_salary = [1000, 2000, 3000, 4000, 5000]\n",
    "\n",
    "worker_salary = [i + i*0.1 for i in worker_salary]\n",
    "worker_salary"
   ]
  },
  {
   "cell_type": "code",
   "execution_count": 41,
   "id": "a84f81c9-f0cd-490a-80d6-d8cffefe168a",
   "metadata": {},
   "outputs": [
    {
     "data": {
      "text/plain": [
       "[0, 4, 16, 36]"
      ]
     },
     "execution_count": 41,
     "metadata": {},
     "output_type": "execute_result"
    }
   ],
   "source": [
    "[i**2 for i in list(range(8)) if i%2==0]"
   ]
  },
  {
   "cell_type": "code",
   "execution_count": null,
   "id": "e1dc4ba7-0c32-4957-8a29-d0d37d12a744",
   "metadata": {},
   "outputs": [],
   "source": [
    "# İçerisinde aşağıdaki işlemi yapamayız ama:\n",
    "sum1 = 0\n",
    "\n",
    "[sum1 += i for i in my_list]"
   ]
  },
  {
   "cell_type": "code",
   "execution_count": 43,
   "id": "8027ca62-9e5b-4df1-928b-6a9bdbf13573",
   "metadata": {},
   "outputs": [
    {
     "name": "stdout",
     "output_type": "stream",
     "text": [
      "65\n"
     ]
    }
   ],
   "source": [
    "max = 0\n",
    "mylist = [3, 5, 12 ,7 ,65, 35]\n",
    "for i in mylist:\n",
    "    if(i>max):\n",
    "        max = i\n",
    "\n",
    "print(max)"
   ]
  },
  {
   "cell_type": "code",
   "execution_count": 57,
   "id": "a3e953f0-bb34-450e-8ac1-b61a131346f4",
   "metadata": {},
   "outputs": [
    {
     "data": {
      "text/plain": [
       "[5, 7, 9]"
      ]
     },
     "execution_count": 57,
     "metadata": {},
     "output_type": "execute_result"
    }
   ],
   "source": [
    "list1 = [1,2,3]\n",
    "list2 = [4,5,6]\n",
    "result = []\n",
    "for i in list1:\n",
    "    result.append(list1[i-1] + list2[i-1])\n",
    "result"
   ]
  },
  {
   "cell_type": "code",
   "execution_count": 59,
   "id": "c04e1494-88b8-458b-a012-0f0d3df7fd74",
   "metadata": {},
   "outputs": [
    {
     "data": {
      "text/plain": [
       "[5, 7, 9]"
      ]
     },
     "execution_count": 59,
     "metadata": {},
     "output_type": "execute_result"
    }
   ],
   "source": [
    "[a + b for a, b in list(zip(list1, list2))]"
   ]
  },
  {
   "cell_type": "code",
   "execution_count": 63,
   "id": "01d0aa49-9548-4aee-af16-101f1662f834",
   "metadata": {},
   "outputs": [
    {
     "name": "stdin",
     "output_type": "stream",
     "text": [
      "Bir sayı giriniz:  10\n"
     ]
    },
    {
     "data": {
      "text/plain": [
       "45"
      ]
     },
     "execution_count": 63,
     "metadata": {},
     "output_type": "execute_result"
    }
   ],
   "source": [
    "number = int(input(\"Bir sayı giriniz: \"))\n",
    "sum = 0\n",
    "for i in range(0,number):\n",
    "    sum += i\n",
    "\n",
    "sum\n",
    "    "
   ]
  },
  {
   "cell_type": "code",
   "execution_count": 67,
   "id": "4ca98167-c36d-4d75-bd13-5028244933c1",
   "metadata": {},
   "outputs": [
    {
     "name": "stdin",
     "output_type": "stream",
     "text": [
      "Başlangıç:  3\n",
      "Bitiş:  7\n"
     ]
    },
    {
     "data": {
      "text/plain": [
       "18"
      ]
     },
     "execution_count": 67,
     "metadata": {},
     "output_type": "execute_result"
    }
   ],
   "source": [
    "start = int(input(\"Başlangıç: \"))\n",
    "end = int(input(\"Bitiş: \"))\n",
    "\n",
    "sum = 0\n",
    "for i in range(start, end):\n",
    "    sum += i\n",
    "sum"
   ]
  },
  {
   "cell_type": "code",
   "execution_count": 81,
   "id": "f8cc9b9c-1050-405d-8f73-3ee76a2e9dec",
   "metadata": {},
   "outputs": [
    {
     "name": "stdin",
     "output_type": "stream",
     "text": [
      "Başlangıç:  100\n",
      "Bitiş:  4\n"
     ]
    },
    {
     "name": "stdout",
     "output_type": "stream",
     "text": [
      "ERROR: Bitiş başlangıçtan küçük olamaz!\n"
     ]
    }
   ],
   "source": [
    "start = int(input(\"Başlangıç: \"))\n",
    "\n",
    "if(start>100):\n",
    "    print(\"ERROR: Başlangıç [0-100] aralığında olmalı\")\n",
    "else:\n",
    "    end = int(input(\"Bitiş: \"))\n",
    "\n",
    "    if(end<start):\n",
    "        print(\"ERROR: Bitiş başlangıçtan küçük olamaz!\")\n",
    "    else:\n",
    "        sum = 0\n",
    "        for i in range(start, end):\n",
    "            sum += i\n",
    "        print(sum)"
   ]
  },
  {
   "cell_type": "code",
   "execution_count": null,
   "id": "375e6335-5b0d-4f08-8e4b-6aebe4ef1647",
   "metadata": {},
   "outputs": [],
   "source": []
  }
 ],
 "metadata": {
  "kernelspec": {
   "display_name": "Python [conda env:base] *",
   "language": "python",
   "name": "conda-base-py"
  },
  "language_info": {
   "codemirror_mode": {
    "name": "ipython",
    "version": 3
   },
   "file_extension": ".py",
   "mimetype": "text/x-python",
   "name": "python",
   "nbconvert_exporter": "python",
   "pygments_lexer": "ipython3",
   "version": "3.12.7"
  }
 },
 "nbformat": 4,
 "nbformat_minor": 5
}

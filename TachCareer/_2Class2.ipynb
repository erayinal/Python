{
 "cells": [
  {
   "cell_type": "markdown",
   "id": "0f51b522-f258-436b-9a55-83da6271aeed",
   "metadata": {},
   "source": [
    "## **List**\n",
    "* Farklı türde veri tipleri barındırabilen bir veri yapısıdır.\n",
    "* Oluşturulması:\n",
    "  > ls = [1, 2, \"eray\", 3.14, [1,2]]\n",
    "\n",
    "### Erişim:\n",
    "ls[0]"
   ]
  },
  {
   "cell_type": "code",
   "execution_count": 43,
   "id": "ba3ca1b7-36c1-4683-93c9-5cd3e40e0c43",
   "metadata": {},
   "outputs": [
    {
     "data": {
      "text/plain": [
       "[1, 2, 'eray', 3.14, [1, 2]]"
      ]
     },
     "execution_count": 43,
     "metadata": {},
     "output_type": "execute_result"
    }
   ],
   "source": [
    "ls2 = [1, 2, \"eray\", 3.14, [1,2]]\n",
    "ls2"
   ]
  },
  {
   "cell_type": "code",
   "execution_count": 52,
   "id": "ec47a2f5-b68c-45c9-8630-783799daf806",
   "metadata": {},
   "outputs": [
    {
     "data": {
      "text/plain": [
       "[[1, 2, 3, 4], [9, 8, 7, 6]]"
      ]
     },
     "execution_count": 52,
     "metadata": {},
     "output_type": "execute_result"
    }
   ],
   "source": [
    "m = [[1,2,3,4], [9,8,7,6]]\n",
    "m"
   ]
  },
  {
   "cell_type": "markdown",
   "id": "d7e82b2f-2082-4b9f-8844-6c86fbefa3bd",
   "metadata": {},
   "source": [
    "***"
   ]
  },
  {
   "cell_type": "code",
   "execution_count": 86,
   "id": "08192d1b-2410-4d44-9405-9a3f8b16f982",
   "metadata": {},
   "outputs": [
    {
     "name": "stdout",
     "output_type": "stream",
     "text": [
      "[['Eray', 'Salih', 'Selin', 'Gizem', 'Nisa'], [23, 22, 19, 21, 21], ['05523233729', '05523233729', '05523233729', '05523233729'], ['Java D', 'Embeded', 'CTO', 'Arthitecture', 'HR'], [46200.00000000001, 57200.00000000001, 88000.0, 44000.0, 38500.0]]\n"
     ]
    }
   ],
   "source": [
    "employees = [[\"Eray\", \"Salih\", \"Selin\", \"Gizem\", \"Nisa\"],\n",
    "             [23, 22, 19, 21, 21], \n",
    "             [\"05523233729\", \"05523233729\", \"05523233729\", \"05523233729\"],\n",
    "             [\"Java D\", \"Embeded\", \"CTO\", \"Arthitecture\", \"HR\"]]\n",
    "             \n",
    "salaries = [42000, 52000, 80000, 40000, 35000]\n",
    "employees.append(salaries)\n",
    "\n",
    "for i in range(len(employees[4])):\n",
    "    employees[4][i] *= 1.10\n",
    "\n",
    "print(employees)"
   ]
  },
  {
   "cell_type": "code",
   "execution_count": null,
   "id": "a9616740-46f8-4bde-a375-3ad925723680",
   "metadata": {},
   "outputs": [],
   "source": []
  }
 ],
 "metadata": {
  "kernelspec": {
   "display_name": "Python [conda env:base] *",
   "language": "python",
   "name": "conda-base-py"
  },
  "language_info": {
   "codemirror_mode": {
    "name": "ipython",
    "version": 3
   },
   "file_extension": ".py",
   "mimetype": "text/x-python",
   "name": "python",
   "nbconvert_exporter": "python",
   "pygments_lexer": "ipython3",
   "version": "3.12.7"
  }
 },
 "nbformat": 4,
 "nbformat_minor": 5
}

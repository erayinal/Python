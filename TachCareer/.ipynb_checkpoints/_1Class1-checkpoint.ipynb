{
 "cells": [
  {
   "cell_type": "markdown",
   "id": "c4ebce69-059f-4259-a780-f7e38cd6e7e0",
   "metadata": {},
   "source": [
    "# **TechCareer Veri Bilimi 101**\n",
    "* Guido van Rossum tarafından 1980lerde temeli atıldı.\n",
    "* İsmi ingiliz müzik grubu Monty Python'dan gelir\n",
    "* "
   ]
  },
  {
   "cell_type": "code",
   "execution_count": null,
   "id": "588187d2-06f7-4ca0-a884-0de8f6ebff25",
   "metadata": {},
   "outputs": [],
   "source": []
  }
 ],
 "metadata": {
  "kernelspec": {
   "display_name": "Python [conda env:base] *",
   "language": "python",
   "name": "conda-base-py"
  },
  "language_info": {
   "codemirror_mode": {
    "name": "ipython",
    "version": 3
   },
   "file_extension": ".py",
   "mimetype": "text/x-python",
   "name": "python",
   "nbconvert_exporter": "python",
   "pygments_lexer": "ipython3",
   "version": "3.12.7"
  }
 },
 "nbformat": 4,
 "nbformat_minor": 5
}

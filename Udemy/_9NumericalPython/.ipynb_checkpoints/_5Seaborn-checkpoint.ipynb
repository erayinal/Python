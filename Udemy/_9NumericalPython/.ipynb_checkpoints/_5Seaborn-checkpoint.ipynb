{
 "cells": [
  {
   "cell_type": "markdown",
   "id": "225d0416-bcd3-4734-a698-077e3bdd4142",
   "metadata": {},
   "source": [
    "# **Python ile Veri Görselleştirme**\n",
    "* Veri görselleştirmek için kullanılan en yaygın kütüphaneler:\n",
    "  > * **Matplotlib:** Python veri görselleştirme dünyasının **büyükbabasıdır.** Çok güçlüdür ama biraz karmaşıktır, Low-Level erişim sağlar yani yapılmak istenen işlemi ifade etmek için daha fazla çaba anlamına gelir. Diğer kütüphaneler Matplotlib'in üzerine inşa edilmiştir. <br>\n",
    "  > * **Pandas:** Pandas'ı veri analizi için kullanmıştık yine aynı şekilde veri görselleştirmek içinde çok zengin bir içerik barındırır. Matplotlib üzerine inşa edilmiştir. High-Level API sahibidir. <br>\n",
    "  > * **Seaborn:** Yine Pandas gibi Matplotlib üzerine inşa edilmitir ve yine High-Level interface sunmaktadır. <br>\n",
    "  > * **ggplot:** Aslında R dünyasında var olan bir kütüphanedir ve bu Python'a uyarlanmış halidir. Kişisel düşünce olarak; veri görselleştirmede dünyanın en iyi araçlarıdan birisidir. High-Level inteface sağlamaktadır. Görselleştirme işlemini 'Katmanlaştırma' mantığıyla ele almaktadır. <br>\n",
    "  > * **Bokeh:**  Matplotlib üzerine kurulu **değildir.** Interactive bir görselleştirme kütüphanesidir, büyük veri setleri ve akan veri setlerini  yüksek performaslı olarak interactive şekilde sunabilmektedir. <br>\n",
    "  > * **Plot.ly:** Veri görselleştirme alanına sonradan girmesine rağmen birçok programlama dili ile beraber çalışabilmesinden dolayı güzel imkanlar sunmaktadır. Yine Bokeh gibi interactive veri görselleştimeyi sağlar.\n",
    "  >\n",
    "* Biz daha çok **'Seaborn'** kütüphanesini bazen Pandas bazen de Matplotlib kütüphanelerinden de destek alarak kullanacağız "
   ]
  },
  {
   "cell_type": "markdown",
   "id": "5dac89fe-8b1b-4c6c-bf38-385cf99b5c9a",
   "metadata": {},
   "source": [
    "<hr style=\"border: 1px solid red;\">\n",
    "\n",
    "## **Veriye İlk Bakış**\n",
    "* **1) Elimizdeki veri setinin hikayesi nedir?**\n",
    "  > Elimizdeki veri setinin adı 'Planets'dir. Nasa tarafından galaksi keşfi ile alakalı bir veri setidir.\n",
    "  >> method: Gezegenlerin bulunma şekli <br>\n",
    "     number: Bulunan sistemlerdeki gezegen sayısı <br>\n",
    "     orbital_period: Yörünge dönemini ifade eden teknik bir ifadedir <br>\n",
    "     mass: Kütle <br>\n",
    "     distance: Uzaklık <br>\n",
    "     year: Keşfedilme tarihi <br>\n",
    "\n",
    "* **2) Ana veri setinin bir kopyasını almak**\n",
    "  > df = planets.copy()\n",
    "\n",
    "* **3) Veri setinin yapısal bilgileri**\n",
    "  > * df.info()\n",
    "  >> Eğer 'object' görüyorsak bunu Kategorik bir değişken olarak düşüneceğiz. <br>\n",
    "  >> Değişkenlerin(kolonların) türlerin 'df.dtypes' yazarak da olaşabiliriz\n",
    "\n",
    "  > * 'object' yazan Kategorik değişkenleri, Kategorik olarak tanımla:\n",
    "  >> df.method = pd.Categorical(df.method)\n",
    "  >>> Gelişmiş fonksiyonlar, bunu biz yapmasak da Categorik bir değişken olduğunu anlıyor ama bazıları String muamelesi yapabiliyor. Biz object yazanları kategorik olarak tanımladıktan sonra df.info() yazarsak; eskiden object yazan yerde 'category' yazacağını göreceğiz.\n",
    "\n",
    "* ****"
   ]
  },
  {
   "cell_type": "code",
   "execution_count": 42,
   "id": "5dbc2435-d733-47a9-bcef-e8fa02c6da91",
   "metadata": {},
   "outputs": [
    {
     "name": "stdout",
     "output_type": "stream",
     "text": [
      "<class 'pandas.core.frame.DataFrame'>\n",
      "RangeIndex: 1035 entries, 0 to 1034\n",
      "Data columns (total 6 columns):\n",
      " #   Column          Non-Null Count  Dtype   \n",
      "---  ------          --------------  -----   \n",
      " 0   method          1035 non-null   category\n",
      " 1   number          1035 non-null   int64   \n",
      " 2   orbital_period  992 non-null    float64 \n",
      " 3   mass            513 non-null    float64 \n",
      " 4   distance        808 non-null    float64 \n",
      " 5   year            1035 non-null   int64   \n",
      "dtypes: category(1), float64(3), int64(2)\n",
      "memory usage: 41.9 KB\n"
     ]
    }
   ],
   "source": [
    "import seaborn as sns\n",
    "planets = sns.load_dataset(\"planets\")\n",
    "planets.head()\n",
    "\n",
    "df = planets.copy()\n",
    "#df.info()\n",
    "\n",
    "import pandas as pd\n",
    "df.method = pd.Categorical(df.method)\n",
    "df.info()"
   ]
  },
  {
   "cell_type": "markdown",
   "id": "5a8139b8-de4e-48d2-89d1-6dd7f619da47",
   "metadata": {},
   "source": [
    "<hr style=\"border: 1px solid red;\">\n",
    "\n",
    "## **Veri Setinin Betimlenmesi**\n",
    "* Sayır ve sütun sayısını kontrolü:\n",
    "  > df.shape\n",
    "* Sadece değişken isimlerine erişmek istersek:\n",
    "  > df.columns\n",
    "* Veri setinin betimsel istatikleri:\n",
    "  > df.describe().T\n",
    "  >> **Eksik gözlemleri** göz ardı eder ve **kategorik değişkenleri** dışarıda bırakır.\n",
    "  >>> İstersek 'df.describe(include = \"all\").T' yazarak eksik ve kategorik değerleri de içeren bilgiler verir ama anlamsız olur\n"
   ]
  },
  {
   "cell_type": "code",
   "execution_count": 51,
   "id": "0b9e505c-745d-4203-ae7b-b03555ce9e06",
   "metadata": {},
   "outputs": [
    {
     "data": {
      "text/html": [
       "<div>\n",
       "<style scoped>\n",
       "    .dataframe tbody tr th:only-of-type {\n",
       "        vertical-align: middle;\n",
       "    }\n",
       "\n",
       "    .dataframe tbody tr th {\n",
       "        vertical-align: top;\n",
       "    }\n",
       "\n",
       "    .dataframe thead th {\n",
       "        text-align: right;\n",
       "    }\n",
       "</style>\n",
       "<table border=\"1\" class=\"dataframe\">\n",
       "  <thead>\n",
       "    <tr style=\"text-align: right;\">\n",
       "      <th></th>\n",
       "      <th>count</th>\n",
       "      <th>mean</th>\n",
       "      <th>std</th>\n",
       "      <th>min</th>\n",
       "      <th>25%</th>\n",
       "      <th>50%</th>\n",
       "      <th>75%</th>\n",
       "      <th>max</th>\n",
       "    </tr>\n",
       "  </thead>\n",
       "  <tbody>\n",
       "    <tr>\n",
       "      <th>number</th>\n",
       "      <td>1035.0</td>\n",
       "      <td>1.785507</td>\n",
       "      <td>1.240976</td>\n",
       "      <td>1.000000</td>\n",
       "      <td>1.00000</td>\n",
       "      <td>1.0000</td>\n",
       "      <td>2.000</td>\n",
       "      <td>7.0</td>\n",
       "    </tr>\n",
       "    <tr>\n",
       "      <th>orbital_period</th>\n",
       "      <td>992.0</td>\n",
       "      <td>2002.917596</td>\n",
       "      <td>26014.728304</td>\n",
       "      <td>0.090706</td>\n",
       "      <td>5.44254</td>\n",
       "      <td>39.9795</td>\n",
       "      <td>526.005</td>\n",
       "      <td>730000.0</td>\n",
       "    </tr>\n",
       "    <tr>\n",
       "      <th>mass</th>\n",
       "      <td>513.0</td>\n",
       "      <td>2.638161</td>\n",
       "      <td>3.818617</td>\n",
       "      <td>0.003600</td>\n",
       "      <td>0.22900</td>\n",
       "      <td>1.2600</td>\n",
       "      <td>3.040</td>\n",
       "      <td>25.0</td>\n",
       "    </tr>\n",
       "    <tr>\n",
       "      <th>distance</th>\n",
       "      <td>808.0</td>\n",
       "      <td>264.069282</td>\n",
       "      <td>733.116493</td>\n",
       "      <td>1.350000</td>\n",
       "      <td>32.56000</td>\n",
       "      <td>55.2500</td>\n",
       "      <td>178.500</td>\n",
       "      <td>8500.0</td>\n",
       "    </tr>\n",
       "    <tr>\n",
       "      <th>year</th>\n",
       "      <td>1035.0</td>\n",
       "      <td>2009.070531</td>\n",
       "      <td>3.972567</td>\n",
       "      <td>1989.000000</td>\n",
       "      <td>2007.00000</td>\n",
       "      <td>2010.0000</td>\n",
       "      <td>2012.000</td>\n",
       "      <td>2014.0</td>\n",
       "    </tr>\n",
       "  </tbody>\n",
       "</table>\n",
       "</div>"
      ],
      "text/plain": [
       "                 count         mean           std          min         25%  \\\n",
       "number          1035.0     1.785507      1.240976     1.000000     1.00000   \n",
       "orbital_period   992.0  2002.917596  26014.728304     0.090706     5.44254   \n",
       "mass             513.0     2.638161      3.818617     0.003600     0.22900   \n",
       "distance         808.0   264.069282    733.116493     1.350000    32.56000   \n",
       "year            1035.0  2009.070531      3.972567  1989.000000  2007.00000   \n",
       "\n",
       "                      50%       75%       max  \n",
       "number             1.0000     2.000       7.0  \n",
       "orbital_period    39.9795   526.005  730000.0  \n",
       "mass               1.2600     3.040      25.0  \n",
       "distance          55.2500   178.500    8500.0  \n",
       "year            2010.0000  2012.000    2014.0  "
      ]
     },
     "execution_count": 51,
     "metadata": {},
     "output_type": "execute_result"
    }
   ],
   "source": [
    "df.describe().T"
   ]
  },
  {
   "cell_type": "markdown",
   "id": "b66cfe44-0e28-4c40-8e19-b7403880e029",
   "metadata": {},
   "source": [
    "<hr style=\"border: 1px solid blue;\">\n",
    "\n",
    "### **Eksik Değerlerin İncelenmesi**\n",
    "* Öncelikle eksik gözlem(değer) olup olmadığını kontrol edelim:\n",
    "  > df.isnull().values.any()\n",
    "* Hangi değişkende kaçar tane eksik değer var:\n",
    "  > df.isnull().sum()\n",
    "* Eğer NaN değerlerin sorun çıkartmasını istemiyorsak hepsinin yerine 0 basabiliriz:\n",
    "  > df[\"orbital_period\"].fillna(0, inplace=True)\n",
    "  > * İstersek 0 yerine o değişkenin ortalamasını da yazabiliriz:\n",
    "  >> df[\"orbital_period\"].fillna(df.orbital_period.mean(), inplace=True)\n",
    "  > * Yine istersek her değer için o değerlerin ortalamasını da basabiliriz:\n",
    "  >> df.fillna(df.mean(), inplace=True)\n",
    "* NaN değer yerine bir şey yerleştirme olayı tehlikelidir ve veriyi temsil etmediği bir şekle sokabiliriz."
   ]
  },
  {
   "cell_type": "code",
   "execution_count": 60,
   "id": "d6b40776-7748-444b-a79d-c5f4844a852d",
   "metadata": {},
   "outputs": [
    {
     "data": {
      "text/plain": [
       "method              0\n",
       "number              0\n",
       "orbital_period     43\n",
       "mass              522\n",
       "distance          227\n",
       "year                0\n",
       "dtype: int64"
      ]
     },
     "execution_count": 60,
     "metadata": {},
     "output_type": "execute_result"
    }
   ],
   "source": [
    "df.isnull().values.any()\n",
    "df.isnull().sum()"
   ]
  },
  {
   "cell_type": "markdown",
   "id": "976aca84-47aa-42ee-af75-45713418e782",
   "metadata": {},
   "source": [
    "<hr style=\"border: 1px solid blue;\">\n",
    "\n",
    "### **Kategorik Değişkenlerin Özetleri(Sınıf, Sınıfların sayısı ve Sınıfların frekansı)**\n",
    "* Kategorik bir değişken varsa onun bir de sınıfı vardır. Ve o sınıfların sayısı ve frekansı vardır.\n",
    "* DataFrame içerisinden istediğimiz tipe göre değişkenleri almamızı sağlayan bir fonksiyon vardır: **'select_dtypes(include=\"...\")'**. Şimdi bu fonksiyon ile kategorik değişkenleri seçelim:\n",
    "  > df.select_dtypes(include=\"object\")\n",
    "* Peki bu değişken altındaki sınıflara erişelim:\n",
    "  > df.method.unique()\n",
    "* Peki bu sınıfların sayısını nasıl öğreniriz:\n",
    "  > df[\"method\"].value_counts().count()\n",
    "* Peki hangi sınıftan kaçar tane var(frekansları):\n",
    "  > df[\"method\"].value_counts()\n",
    "***\n",
    "#### **Görselleştirme**\n",
    "* Şimdi bu yukarıdaki işlemi tablo halinde görselleştirelim:\n",
    "  > df[\"method\"].value_counts().plot.barh()\n",
    "  >> Sonuna ':' koyarsak bilgilendirme satırı gider."
   ]
  },
  {
   "cell_type": "code",
   "execution_count": 100,
   "id": "bfc0cd5f-71fa-43fc-960a-6ecad1b87fb1",
   "metadata": {},
   "outputs": [
    {
     "data": {
      "image/png": "[encoded data removed]",
      "text/plain": [
       "<Figure size 640x480 with 1 Axes>"
      ]
     },
     "metadata": {},
     "output_type": "display_data"
    }
   ],
   "source": [
    "df.select_dtypes(include=[\"category\"]).head()\n",
    "df.method.unique()\n",
    "df[\"method\"].value_counts().count()\n",
    "df[\"method\"].value_counts()\n",
    "df[\"method\"].value_counts().plot.barh();"
   ]
  },
  {
   "cell_type": "markdown",
   "id": "5e233acd-9ecd-428d-b7b7-1f2fc9dd2a67",
   "metadata": {},
   "source": [
    "<hr style=\"border: 1px solid blue;\">\n",
    "\n",
    "## Sürekli Değişkenlerin Özeti\n",
    "* Sürekli değişkenleri şu şekilde seçebiliriz:\n",
    "  > df.select_dtypes(include=[\"int64\", \"float64\"])\n",
    "* Hatırlarsak sürekli değişkenlerin betimsel istatistiklerine ulaşmak için:\n",
    "  > df.describe()"
   ]
  },
  {
   "cell_type": "code",
   "execution_count": 111,
   "id": "9b550c40-6083-4c6b-8343-39fb70cf7b06",
   "metadata": {},
   "outputs": [
    {
     "data": {
      "text/html": [
       "<div>\n",
       "<style scoped>\n",
       "    .dataframe tbody tr th:only-of-type {\n",
       "        vertical-align: middle;\n",
       "    }\n",
       "\n",
       "    .dataframe tbody tr th {\n",
       "        vertical-align: top;\n",
       "    }\n",
       "\n",
       "    .dataframe thead th {\n",
       "        text-align: right;\n",
       "    }\n",
       "</style>\n",
       "<table border=\"1\" class=\"dataframe\">\n",
       "  <thead>\n",
       "    <tr style=\"text-align: right;\">\n",
       "      <th></th>\n",
       "      <th>number</th>\n",
       "      <th>orbital_period</th>\n",
       "      <th>mass</th>\n",
       "      <th>distance</th>\n",
       "      <th>year</th>\n",
       "    </tr>\n",
       "  </thead>\n",
       "  <tbody>\n",
       "    <tr>\n",
       "      <th>count</th>\n",
       "      <td>1035.000000</td>\n",
       "      <td>992.000000</td>\n",
       "      <td>513.000000</td>\n",
       "      <td>808.000000</td>\n",
       "      <td>1035.000000</td>\n",
       "    </tr>\n",
       "    <tr>\n",
       "      <th>mean</th>\n",
       "      <td>1.785507</td>\n",
       "      <td>2002.917596</td>\n",
       "      <td>2.638161</td>\n",
       "      <td>264.069282</td>\n",
       "      <td>2009.070531</td>\n",
       "    </tr>\n",
       "    <tr>\n",
       "      <th>std</th>\n",
       "      <td>1.240976</td>\n",
       "      <td>26014.728304</td>\n",
       "      <td>3.818617</td>\n",
       "      <td>733.116493</td>\n",
       "      <td>3.972567</td>\n",
       "    </tr>\n",
       "    <tr>\n",
       "      <th>min</th>\n",
       "      <td>1.000000</td>\n",
       "      <td>0.090706</td>\n",
       "      <td>0.003600</td>\n",
       "      <td>1.350000</td>\n",
       "      <td>1989.000000</td>\n",
       "    </tr>\n",
       "    <tr>\n",
       "      <th>25%</th>\n",
       "      <td>1.000000</td>\n",
       "      <td>5.442540</td>\n",
       "      <td>0.229000</td>\n",
       "      <td>32.560000</td>\n",
       "      <td>2007.000000</td>\n",
       "    </tr>\n",
       "    <tr>\n",
       "      <th>50%</th>\n",
       "      <td>1.000000</td>\n",
       "      <td>39.979500</td>\n",
       "      <td>1.260000</td>\n",
       "      <td>55.250000</td>\n",
       "      <td>2010.000000</td>\n",
       "    </tr>\n",
       "    <tr>\n",
       "      <th>75%</th>\n",
       "      <td>2.000000</td>\n",
       "      <td>526.005000</td>\n",
       "      <td>3.040000</td>\n",
       "      <td>178.500000</td>\n",
       "      <td>2012.000000</td>\n",
       "    </tr>\n",
       "    <tr>\n",
       "      <th>max</th>\n",
       "      <td>7.000000</td>\n",
       "      <td>730000.000000</td>\n",
       "      <td>25.000000</td>\n",
       "      <td>8500.000000</td>\n",
       "      <td>2014.000000</td>\n",
       "    </tr>\n",
       "  </tbody>\n",
       "</table>\n",
       "</div>"
      ],
      "text/plain": [
       "            number  orbital_period        mass     distance         year\n",
       "count  1035.000000      992.000000  513.000000   808.000000  1035.000000\n",
       "mean      1.785507     2002.917596    2.638161   264.069282  2009.070531\n",
       "std       1.240976    26014.728304    3.818617   733.116493     3.972567\n",
       "min       1.000000        0.090706    0.003600     1.350000  1989.000000\n",
       "25%       1.000000        5.442540    0.229000    32.560000  2007.000000\n",
       "50%       1.000000       39.979500    1.260000    55.250000  2010.000000\n",
       "75%       2.000000      526.005000    3.040000   178.500000  2012.000000\n",
       "max       7.000000   730000.000000   25.000000  8500.000000  2014.000000"
      ]
     },
     "execution_count": 111,
     "metadata": {},
     "output_type": "execute_result"
    }
   ],
   "source": [
    "df.select_dtypes(include=[\"int64\", \"float64\"])\n",
    "df.describe()"
   ]
  },
  {
   "cell_type": "markdown",
   "id": "3f7a9146-c096-4596-8c30-96a6b7d4d7f3",
   "metadata": {},
   "source": [
    "<hr style=\"border: 4px solid red;\">\n",
    "\n",
    "# **Dağılım Grafikleri**\n",
    "## **Barplot**\n",
    "* Sütun grafik tekniğidir.\n",
    "* Elimizdeki **kategorik** değişkenleri görselleştirmek için kullanılır.\n",
    ">\n",
    "* Önceki veri setini değil de başka bir veri setini kullanacağız: Diamond\n",
    "* Diamond verisinin hikayesi:\n",
    "  > carat: Ağırlık <br>\n",
    "  > cut: Kalite <br>\n",
    "  > color: Renk -> from J(worst) to D(best) <br>\n",
    "  > clarity: temizliği, berraklığı <br>\n",
    "  > price: Dolar cinsinden fiyat <br>\n",
    "  > x: length in mm <br>\n",
    "  > y: width in mm <br>\n",
    "  > z: depth in mm <br>\n",
    "  > depth: toplam derinlik yüzdesi\n",
    "\n"
   ]
  },
  {
   "cell_type": "code",
   "execution_count": 150,
   "id": "361a9808-d5ea-4ef9-8202-920e0e49bcf3",
   "metadata": {},
   "outputs": [
    {
     "data": {
      "text/plain": [
       "color\n",
       "G    11292\n",
       "E     9797\n",
       "F     9542\n",
       "H     8304\n",
       "D     6775\n",
       "I     5422\n",
       "J     2808\n",
       "Name: count, dtype: int64"
      ]
     },
     "execution_count": 150,
     "metadata": {},
     "output_type": "execute_result"
    }
   ],
   "source": [
    "import seaborn as sns\n",
    "diamonds = sns.load_dataset('diamonds')\n",
    "df = diamonds.copy()\n",
    "df.head(10)\n",
    "\n",
    "#df.info()\n",
    "#df.describe()\n",
    "df[\"cut\"].value_counts()\n",
    "df[\"color\"].value_counts()"
   ]
  },
  {
   "cell_type": "markdown",
   "id": "3ff700dc-00c4-4c1d-9191-5c21698883e7",
   "metadata": {},
   "source": [
    "***\n",
    "* Elimizde veride nominal değil ordinal bir sıralama var. Mesela 'color' ve 'cut' değişkeni harflerle bir kaliteyi temsil ediyor ama bunu python anlamaz o yüzden bunu belirtmemiz lazım: **(Ordinal Tanımlama)**\n",
    "  > from pandas.api.types import CategoricalDtype <br>\n",
    "    cut_categories = [\"Fair\",\"Good\",\"Very Good\",\"Premium\",\"Ideal\"] <br>\n",
    "    df.cut.astype(CategoricalDtype(categories = cut_categories, ordered = True)) <br>"
   ]
  },
  {
   "cell_type": "code",
   "execution_count": 173,
   "id": "c7443f46-4538-43be-b27e-1368082690ad",
   "metadata": {},
   "outputs": [
    {
     "data": {
      "text/plain": [
       "0      Ideal\n",
       "1    Premium\n",
       "2       Good\n",
       "3    Premium\n",
       "4       Good\n",
       "Name: cut, dtype: category\n",
       "Categories (5, object): ['Fair' < 'Good' < 'Very Good' < 'Premium' < 'Ideal']"
      ]
     },
     "execution_count": 173,
     "metadata": {},
     "output_type": "execute_result"
    }
   ],
   "source": [
    "from pandas.api.types import CategoricalDtype\n",
    "cut_categories = [\"Fair\",\"Good\",\"Very Good\",\"Premium\",\"Ideal\"]\n",
    "df.cut.astype(CategoricalDtype(categories = cut_categories, ordered = True)).head()"
   ]
  },
  {
   "cell_type": "markdown",
   "id": "916449af-179c-4c49-9594-f72c53d0620c",
   "metadata": {},
   "source": [
    "***\n",
    "**Sütun grafiğinin oluşturulması:**\n",
    "* Pandas:\n",
    "  > * df[\"cut\"].value_counts().plot.barh()\n",
    "  >> İstersek başlık da ekleyebiliriz: df[\"cut\"].value_counts().plot.barh().set_title(\"Cut Değişkeninin Sınıf Frekansları\")\n",
    "\n",
    "* Seaborn:\n",
    "  > sns.barplot(x=\"cut\" , y=df.cut.index , data=df)"
   ]
  },
  {
   "cell_type": "code",
   "execution_count": 170,
   "id": "e7934fac-1bee-48fe-9f70-4251d71354c3",
   "metadata": {},
   "outputs": [
    {
     "data": {
      "text/plain": [
       "<Axes: xlabel='cut', ylabel='None'>"
      ]
     },
     "execution_count": 170,
     "metadata": {},
     "output_type": "execute_result"
    },
    {
     "data": {
      "image/png": "[encoded data removed]",
      "text/plain": [
       "<Figure size 640x480 with 1 Axes>"
      ]
     },
     "metadata": {},
     "output_type": "display_data"
    }
   ],
   "source": [
    "#df[\"cut\"].value_counts().plot.barh().set_title(\"Cut Değişkeninin Sınıf Frekansları\")\n",
    "sns.barplot(x=\"cut\" , y=df.cut.index , data=df)"
   ]
  },
  {
   "cell_type": "markdown",
   "id": "a15961c5-7cae-45a0-b227-03aa018c3629",
   "metadata": {},
   "source": [
    "<hr style=\"border: 1px solid blue;\">\n",
    "\n",
    "## **Sütun Grafik Çaprazlamalar**\n",
    "* Çaprazlama, veri seti içerisinde yer alan değişkenlerin birlikte değerlendirilmesi yani kırılımların göz önünde bulundurulmasını sağlar\n",
    "* 'cut' kategorik değişkenini dönüştürmüştük\n",
    "* Şimdi bu 'cut' kategorik değişkeni ile 'price' sayısal değişkenini çaprazlayarak, bir arada görselleştirerek çaprazlaştırma işini yapalım: Burada '**Cat**egorik **Plot**' kullanacağız catplot()\n",
    "  > sns.catplot(x=\"cut\", y=\"price\", data=df)"
   ]
  },
  {
   "cell_type": "code",
   "execution_count": 193,
   "id": "204fb96f-ee5f-44c7-8e6e-783a68e873f7",
   "metadata": {},
   "outputs": [
    {
     "data": {
      "text/plain": [
       "<seaborn.axisgrid.FacetGrid at 0x15a7ebb00>"
      ]
     },
     "execution_count": 193,
     "metadata": {},
     "output_type": "execute_result"
    },
    {
     "data": {
      "image/png": "[encoded data removed]",
      "text/plain": [
       "<Figure size 511.111x500 with 1 Axes>"
      ]
     },
     "metadata": {},
     "output_type": "display_data"
    }
   ],
   "source": [
    "sns.catplot(x=\"cut\", y=\"price\", data=df)"
   ]
  },
  {
   "cell_type": "markdown",
   "id": "23140986-a29e-40e5-ac72-99d7708d358a",
   "metadata": {
    "editable": true,
    "slideshow": {
     "slide_type": ""
    },
    "tags": []
   },
   "source": [
    "***\n",
    "* Şimdi bu yukarıdaki grafiğe bir boyut daha ekleyebiliriz mesela 'color' gibi:\n",
    "  > sns.barplot(x=\"cut\", y=\"price\", hue=\"color\")\n",
    "* Yukarıdaki grafikte 'price' 0dan 17500e kadar bir aralığa sahipken bu yaptığımız yeni grafik 0dan 6000e kadar gidiyor, neden?\n",
    "  > * Seaborn, biz 3. boyutu eklediğimizde bunu teknik olarak bir arada göstermek sütun grafiği ile pek mümkün olmayacağı için  arka tarafta kendisi veriyi temsil edecek bir değer oluşturup buna göre bir yansıtma yaptı. Yani aşağıdaki 'price' değişkeninin değeri: **İki kategorik değişken bir arada bulunduğunda, price değişkeninin ortalaması.**\n",
    "  > * Üzerine koyulan çubuklar ise Standart Sapma değerleri.\n",
    "\n",
    "* Peki bunu nasıl doğrularız:\n",
    "  > df.groupby([\"cut\", \"color\"])[\"price\"].mean() ->  Önce 'cut'a göre kır(grupla), sonra 'color'a göre kır(grupla) ve bunun neticesinde de 'price' değerine göre bir ortalama işlemi yap\n",
    "\n",
    "* Yani barplot fonksiyonu ile 'hue' aracılığıyla 3. boyutu eklediğimizde, y ekseni bozulmuş gibi gözükse de aslında boyutlar arasındaki değişkenliği/durumu belli etmek için bir toplulaştırma/temsil işlemi yapılmıştır "
   ]
  },
  {
   "cell_type": "code",
   "execution_count": 203,
   "id": "dc0a56d3-b2bd-44e7-b507-cfb0c3e553db",
   "metadata": {},
   "outputs": [
    {
     "name": "stderr",
     "output_type": "stream",
     "text": [
      "/var/folders/8t/_v6tn9mj28d6v4qkjfcq5phw0000gn/T/ipykernel_24423/2735265657.py:2: FutureWarning: The default of observed=False is deprecated and will be changed to True in a future version of pandas. Pass observed=False to retain current behavior or observed=True to adopt the future default and silence this warning.\n",
      "  df.groupby([\"cut\", \"color\"])[\"price\"].mean()\n"
     ]
    },
    {
     "data": {
      "text/plain": [
       "cut        color\n",
       "Ideal      D        2629.094566\n",
       "           E        2597.550090\n",
       "           F        3374.939362\n",
       "           G        3720.706388\n",
       "           H        3889.334831\n",
       "           I        4451.970377\n",
       "           J        4918.186384\n",
       "Premium    D        3631.292576\n",
       "           E        3538.914420\n",
       "           F        4324.890176\n",
       "           G        4500.742134\n",
       "           H        5216.706780\n",
       "           I        5946.180672\n",
       "           J        6294.591584\n",
       "Very Good  D        3470.467284\n",
       "           E        3214.652083\n",
       "           F        3778.820240\n",
       "           G        3872.753806\n",
       "           H        4535.390351\n",
       "           I        5255.879568\n",
       "           J        5103.513274\n",
       "Good       D        3405.382175\n",
       "           E        3423.644159\n",
       "           F        3495.750275\n",
       "           G        4123.482204\n",
       "           H        4276.254986\n",
       "           I        5078.532567\n",
       "           J        4574.172638\n",
       "Fair       D        4291.061350\n",
       "           E        3682.312500\n",
       "           F        3827.003205\n",
       "           G        4239.254777\n",
       "           H        5135.683168\n",
       "           I        4685.445714\n",
       "           J        4975.655462\n",
       "Name: price, dtype: float64"
      ]
     },
     "execution_count": 203,
     "metadata": {},
     "output_type": "execute_result"
    },
    {
     "data": {
      "image/png": "[encoded data removed]",
      "text/plain": [
       "<Figure size 640x480 with 1 Axes>"
      ]
     },
     "metadata": {},
     "output_type": "display_data"
    }
   ],
   "source": [
    "sns.barplot(x=\"cut\", y=\"price\", hue=\"color\", data=df)\n",
    "df.groupby([\"cut\", \"color\"])[\"price\"].mean()  #Doğrulama"
   ]
  },
  {
   "cell_type": "code",
   "execution_count": null,
   "id": "cd50cbc9-02f7-403d-add5-5be81fcf79dc",
   "metadata": {},
   "outputs": [],
   "source": []
  }
 ],
 "metadata": {
  "kernelspec": {
   "display_name": "Python [conda env:base] *",
   "language": "python",
   "name": "conda-base-py"
  },
  "language_info": {
   "codemirror_mode": {
    "name": "ipython",
    "version": 3
   },
   "file_extension": ".py",
   "mimetype": "text/x-python",
   "name": "python",
   "nbconvert_exporter": "python",
   "pygments_lexer": "ipython3",
   "version": "3.12.7"
  }
 },
 "nbformat": 4,
 "nbformat_minor": 5
}

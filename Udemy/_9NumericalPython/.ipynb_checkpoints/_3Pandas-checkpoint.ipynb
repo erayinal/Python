{
 "cells": [
  {
   "cell_type": "markdown",
   "id": "0245b846-81df-4c72-b305-6701e09a901c",
   "metadata": {},
   "source": [
    "# **Pandas**\n",
    "* '**Panel Data**'nın kısaltılmasıdır\n",
    "* NumPy'ın alternatifi değildir, NumPy'ın özelliklerini kullanan ve bunu genişleten bir kütüphanedir\n",
    "* En büyük farklarından birisi: NumPy'da 'Fixed Type' varken Pandas'ta farklı veri tipleri barınabilir\n",
    "* **Panel Data** nedir peki?\n",
    "> Pandas temelinde ekonometrik ve finansal çalışmalar için doğmuştur.  \n",
    ">  * Panel Data: Kesit veri ve zaman verisinin bir arada olduğu veri tipidir.  \n",
    ">  * Klasik veri yerine zaman verisini daha önemseyen bir yapıdır\n",
    "* Temeli 2008 yılında atılmıştır\n",
    "* R DataFrame yapısını Python dünyasına taşımıs ve DataFrame'ler üzerinde hızlı ve etkili çalışabilme imkani sağlamıştır."
   ]
  },
  {
   "cell_type": "markdown",
   "id": "0b60e7ee-d1bc-4676-b50f-abf914eae935",
   "metadata": {},
   "source": [
    "***\n",
    "### **Pandas Serisi Oluşturmak**\n",
    "* import pandas as pd\n",
    "* Değerleri onların indexleri ile beraber tutar\n",
    "  > mySeries.axes -> Bize index bilgilerini verir (start=0, stop=5 step=1)  \n",
    "  > mySeries.ndim  \n",
    "  > mySeries.size  \n",
    "  > mySeries.values -> İçerisindeki değerleri numpy array'i gibiymişçesine bize array çevirir  \n",
    "  > mySeries.head(4) -> İlk 4 elemanı verir"
   ]
  },
  {
   "cell_type": "code",
   "execution_count": 29,
   "id": "9b770b7e-6f1e-44f1-b8f8-46710932431c",
   "metadata": {},
   "outputs": [
    {
     "data": {
      "text/plain": [
       "[RangeIndex(start=0, stop=4, step=1)]"
      ]
     },
     "execution_count": 29,
     "metadata": {},
     "output_type": "execute_result"
    }
   ],
   "source": [
    "import pandas as pd\n",
    "mySeries = pd.Series([11,12,13,14,15])\n"
   ]
  },
  {
   "cell_type": "markdown",
   "id": "bfb47fc8-4571-4c42-afff-81ee16e2c8a1",
   "metadata": {},
   "source": [
    "***\n",
    "#### **Index İsimlendirme**\n",
    "* Kendisi default olarka indexleri 0dan başlayarak tutar ama biz istersek indexlerin isimlerindirebiliriz\n",
    "  > pd.Series([199,22,332,94,51], index = [\"a\",3,5,7,9])  "
   ]
  },
  {
   "cell_type": "code",
   "execution_count": 44,
   "id": "2abd9ad9-b493-445c-8fbc-7850a863e620",
   "metadata": {},
   "outputs": [
    {
     "data": {
      "text/plain": [
       "a    199\n",
       "3     22\n",
       "5    332\n",
       "7     94\n",
       "9     51\n",
       "dtype: int64"
      ]
     },
     "execution_count": 44,
     "metadata": {},
     "output_type": "execute_result"
    }
   ],
   "source": [
    "pd.Series([199,22,332,94,51], index = [\"a\",3,5,7,9]) "
   ]
  },
  {
   "cell_type": "code",
   "execution_count": null,
   "id": "be248d47-9f9b-4ab4-a773-4233a9c93918",
   "metadata": {},
   "outputs": [],
   "source": []
  }
 ],
 "metadata": {
  "kernelspec": {
   "display_name": "Python [conda env:base] *",
   "language": "python",
   "name": "conda-base-py"
  },
  "language_info": {
   "codemirror_mode": {
    "name": "ipython",
    "version": 3
   },
   "file_extension": ".py",
   "mimetype": "text/x-python",
   "name": "python",
   "nbconvert_exporter": "python",
   "pygments_lexer": "ipython3",
   "version": "3.12.7"
  }
 },
 "nbformat": 4,
 "nbformat_minor": 5
}

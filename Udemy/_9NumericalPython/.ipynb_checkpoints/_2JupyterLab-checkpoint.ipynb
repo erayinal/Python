{
 "cells": [
  {
   "cell_type": "markdown",
   "id": "9a737a7d-9385-415d-8b2c-946e42722c6f",
   "metadata": {},
   "source": [
    "Notebook'lar hücre dediğimiz yapılardan oluşur. Yukarıdan bu hücreleri 'Code' ve 'Markdown' olarak seçebiliriz.\n",
    "\n",
    "* İki satır arası boşluk için: Satır sonuna iki tane boşluk bırak veya <'br'> yaz\n",
    "\n",
    "**Code**: Python kodlarını çalıştırabildiğimiz alandır. Shift+enter ile çalıştırılabilir. <br>\n",
    "**Markdown**: Norlarımızı zengin bir şekilde oluşturabilmemizi sağlayan alandır\n",
    "\n",
    "_italik_\n",
    "\n",
    "* Madde\n",
    "\n",
    "> Alıntı\n",
    ">> Alıntı2\n",
    "\n",
    "\n",
    "#### Tablolar: \n",
    "| Başlık 1 | Başlık 2 | Başlık 3 |\n",
    "|----------|----------|----------|\n",
    "| İçerik 1  | İçerik 2  | İçerik 3  |\n",
    "| İçerik 4  | İçerik 5  | İçerik 6  |\n",
    "\n",
    "\n",
    "#### Yatay çizgi:\n",
    "***\n",
    "\n",
    "\n",
    "#### Görev Listesi:\n",
    "- [x] Yapıldı\n",
    "- [ ] Yapılacak\n",
    "- [ ] İncelenecek"
   ]
  },
  {
   "cell_type": "code",
   "execution_count": 3,
   "id": "56cb1803-ec77-4e32-89fe-223e12d183cb",
   "metadata": {},
   "outputs": [
    {
     "name": "stdout",
     "output_type": "stream",
     "text": [
      "a\n"
     ]
    }
   ],
   "source": [
    "print(\"a\")"
   ]
  },
  {
   "cell_type": "markdown",
   "id": "b56428ba-be45-4ae0-9b64-21acf5d46b7b",
   "metadata": {},
   "source": [
    "## **NumPy Nedir?**\n",
    "Açılımı Numerical Python'dır. Python'ın bazı numerik işlemlerde yetersiz kaldığı noktalarda ihtiyaçlarımızı gidermek için çıkmış bir modüldür.  \n",
    "-> Lineer Cebir'in bir alt dalı gibi düşünülmelidir.\n",
    "\n",
    "\n",
    "* Bilimsel hesaplamalar için kullanılır.\n",
    "* Arraylar / Çok boyutlu arrayler ve matrisler üzerinde yüksek performanslı çalışma imkanı sağlar.\n",
    "* Temelleri 1995 yılında içersinde Guido Van Rossum da olan bir topluluk tarafından atılmıştır ve 2005'te Travis Oliphant hayata geçmiştir.\n",
    "* Kullanacağımız npArray, Listelere benzerdir. Farkı ise verimli veri saklama ve vektörel operasyonlardır.\n"
   ]
  },
  {
   "cell_type": "markdown",
   "id": "511f5c0f-0682-4ab0-8981-5740c069bb54",
   "metadata": {},
   "source": [
    "#### **Neden NumPy?**\n",
    "* Daha üst seviye işlemleri daha kolay şekilde yapmamıza olanak sağlar\n",
    "* Maliyetleri de çok azaltır(Memorization)\n",
    "* Aşağıdaki hücrelerde sağladığı kolaylıklara bakalım:"
   ]
  },
  {
   "cell_type": "code",
   "execution_count": 95,
   "id": "34c2b67c-112e-45e3-909b-862cde387b4c",
   "metadata": {},
   "outputs": [],
   "source": [
    "import numpy as np\n",
    "a = np.array([1,2,3,4])\n",
    "b = np.array([2,4,6,8])"
   ]
  },
  {
   "cell_type": "code",
   "execution_count": 97,
   "id": "cedee49c-8a33-4ca7-81a6-439545a3b6c1",
   "metadata": {},
   "outputs": [
    {
     "data": {
      "text/plain": [
       "array([ 2,  8, 18, 32])"
      ]
     },
     "execution_count": 97,
     "metadata": {},
     "output_type": "execute_result"
    }
   ],
   "source": [
    "a*b #Gördüğümüz gibi arrayler arası kolayca çarpma yapabiliyoruz"
   ]
  },
  {
   "cell_type": "markdown",
   "id": "9785cdf7-c9ab-4567-82f2-4683355dd229",
   "metadata": {},
   "source": [
    "***\n",
    "***\n",
    "### **Array**\n",
    "Tek boyutlu array = **Vektör**  \n",
    "İki boyutlu array = **Matrix**\n",
    "\n",
    "* İstersek array'lerin type'ını belirleyebiliriz:\n",
    "> np.array([1,2,3,4], dtype = \"float32\")\n",
    "\n",
    "* Her elemanı 0 olan array oluşturabiliriz:\n",
    "> np.zeros(5)\n",
    ">> np.zeros(5, dtype=\"int\")\n",
    "\n",
    "* Aynı şekilde her elemanı 1 olan array de oluşturabiliriz ve hatta iki boyutlu array de oluşturabiliriz:\n",
    "  > np.ones(5)\n",
    "  >> np.ones((3,5))\n",
    "\n",
    "* Eğer belli bir sayıdan oluşan bir array oluşturmak istiyorsak:\n",
    "  > np.full((3,5) , 22)\n",
    "\n",
    "* Belirli bir aralıkta belirlediğimiz aralıklarla artan array de oluşturabiliriz:\n",
    "  > np.arange(0,31 , 3) **(kaçtan, kaça, kaçar kaçar)**\n",
    "\n",
    "* İki değer arasında istediğimiz sayıda eleman içeren array de oluştutabiliriz:\n",
    "  > np.linspace(0,1 , 10) **0 ile 1 arasında 10 tane eleman olacak şekilde array oluşturur**\n",
    "\n",
    "* İstediğimiz ortalama(average) ve standart sapmaya sahip olan ve istediğimiz boyuttta array oluşturma:\n",
    "  > np.random.normal(10, 4, (4,4)) **(ortalama, ss, arrayBoyutu)**\n",
    "\n",
    "* Ortlama ve ss ile uğraşmadan da istediğimiz boyutta random array oluşturabiliriz:\n",
    "  > np.random.randint(low, high=None, size=None, dtype=int)  \n",
    "    np.random.randint(0, 10 , (4,4)) **(kaçtan, kaça, arrayBoyutu)**  \n",
    "    np.random.randint(0, 5 , 11)\n",
    "  >> np.random.randint(10, (4,4)) **Başlangıcı 0 olarak kabul eder ve aralığı 0-10 alır**"
   ]
  },
  {
   "cell_type": "code",
   "execution_count": 117,
   "id": "1a012fa0-40e9-404d-b2c6-1e61ee6f91f6",
   "metadata": {},
   "outputs": [
    {
     "data": {
      "text/plain": [
       "array([ 0,  3,  6,  9, 12, 15, 18, 21, 24, 27, 30])"
      ]
     },
     "execution_count": 117,
     "metadata": {},
     "output_type": "execute_result"
    }
   ],
   "source": [
    "a = np.arange(0,31 , 3)\n",
    "a"
   ]
  },
  {
   "cell_type": "markdown",
   "id": "4be4b509-79c2-43ef-889a-67d167692b73",
   "metadata": {},
   "source": [
    "***\n",
    "#### **Array Özellikleri**\n",
    "* **ndim:** Array'in boyut bilgisini verir\n",
    "* **shape:** Hem boyut bilgisini verir hem de eleman sayısını verir\n",
    "  > (10,) şeklinde verirse 1 boyutlu ve 10 elemana sahip demektir\n",
    "  >> (3, 4) şeklinde verirse 3 satır 4 sütunlu iki boyutlu bir arraydir \n",
    "* **size:** Array'in toplam eleman sayısını verir\n",
    "* **dtype:** Array'in veri tipini verir\n",
    "\n"
   ]
  },
  {
   "cell_type": "code",
   "execution_count": 109,
   "id": "38c7f26a-f9d4-4239-b934-efee89d20b69",
   "metadata": {},
   "outputs": [
    {
     "data": {
      "text/plain": [
       "(3, 4)"
      ]
     },
     "execution_count": 109,
     "metadata": {},
     "output_type": "execute_result"
    }
   ],
   "source": [
    "a = np.random.randint(0, 10 , (3,4))\n",
    "a.shape"
   ]
  },
  {
   "cell_type": "markdown",
   "id": "6ec120ed-6808-42c6-82e2-272bd069408a",
   "metadata": {},
   "source": [
    "***\n",
    "#### **Yeniden Şekillendirme (Reshaping)**\n",
    "* Mesela elimizde 1den 10a kadar sayıların olduğu 9 elemanlı tek boyutlu bir array var ve biz bu arrayi iki boyutlu 3x3 bir array yapmak istiyoruz:\n",
    "  > a = np.arange(1,10)  \n",
    "    a.reshape((3,3))"
   ]
  },
  {
   "cell_type": "code",
   "execution_count": 177,
   "id": "1c933051-0f75-4d39-a4c7-dfaa158c9fd9",
   "metadata": {},
   "outputs": [
    {
     "name": "stdout",
     "output_type": "stream",
     "text": [
      "[[1 2 3]\n",
      " [4 5 6]\n",
      " [7 8 9]]\n"
     ]
    }
   ],
   "source": [
    "a = np.arange(1,10)\n",
    "b = a.reshape((3,3))\n",
    "print(b)"
   ]
  },
  {
   "cell_type": "markdown",
   "id": "3a23a375-c9ac-4d68-9ee6-97100fd5a3cd",
   "metadata": {},
   "source": [
    "***\n",
    "#### **Birleştirme (Concatenation)**\n",
    "* Tek Boyutlu:\n",
    "  > a = np.array([1,2,3,4])  \n",
    "    b = np.array([5,6,7,8])  \n",
    "    c = np.array([1,3,5])\n",
    "    >> np.concatenate([a,b,c])\n",
    "\n",
    "* İki boyutlu:\n",
    "  > a = np.array( [[1,2,3], [4,5,6]] )\n",
    "  > b = np.array( [[7,8,9], [1,3,5]] )\n",
    "    >> np.concatenate([a,b])  \n",
    "\n",
    "**NOT:** Peki biz satır bazlı birşeltirmek istersek:\n",
    "> np.concatenate([a,b] , axis = 1)  **Normalde axis'in default değeri 0dır ve bu da sütun bazlı birleştirme yapar**"
   ]
  },
  {
   "cell_type": "code",
   "execution_count": 175,
   "id": "e0c46981-9894-44cb-a667-73669809c497",
   "metadata": {},
   "outputs": [
    {
     "name": "stdout",
     "output_type": "stream",
     "text": [
      "[1 2 3 4 5 6 7 8 1 3 5]\n",
      " \n",
      "[[1 2 3]\n",
      " [4 5 6]\n",
      " [7 8 9]\n",
      " [1 3 5]]\n",
      " \n",
      "[[ 1  2  3  7  8  9 10]\n",
      " [ 4  5  6  1  3  5  7]]\n"
     ]
    }
   ],
   "source": [
    "a = np.array([1,2,3,4])  \n",
    "b = np.array([5,6,7,8])\n",
    "c = np.array([1,3,5])\n",
    "d = np.concatenate([a,b,c])\n",
    "print(d)\n",
    "print(\" \")\n",
    "\n",
    "\n",
    "a = np.array( [[1,2,3],\n",
    "               [4,5,6]] )\n",
    "b = np.array( [[7,8,9],\n",
    "               [1,3,5]] )\n",
    "c = np.concatenate([a,b])\n",
    "print(c)\n",
    "print(\" \")\n",
    "\n",
    "\n",
    "a = np.array( [[1,2,3],\n",
    "               [4,5,6]] )\n",
    "b = np.array( [[7,8,9,10],\n",
    "               [1,3,5,7]] )\n",
    "c = np.concatenate([a,b] , axis = 1)\n",
    "\n",
    "print(c)"
   ]
  },
  {
   "cell_type": "markdown",
   "id": "a161d70a-372f-4122-bd62-5952ef2934ff",
   "metadata": {},
   "source": [
    "***\n",
    "#### **Ayırma (Splitting)**\n",
    "* a = np.array([1,2,3,99,99,3,2,1])  \n",
    "  np.split(a, [3, 5]) **(Array, [kadar, kadar])**\n",
    "\n",
    "* Peki bu ayırdığımız arrayleri nasıl saklayacağız:  \n",
    "  k,l,m = np.split(a, [3, 5])\n",
    "\n",
    "\n",
    "##### **İki Boyutlu ayırma**\n",
    "* Diyelim ki elimizdeki 4x4lük bir array'in ilk iki satırını bir array kalan iki satırını başka bir arraye ayıracağız:  \n",
    "  x = np.arange(16).reshape(4,4)  \n",
    "  np.split(x, [2]) **(array, [kadar])**  \n",
    "  bottom, top = np.split(x, [2])"
   ]
  },
  {
   "cell_type": "code",
   "execution_count": 194,
   "id": "72933fda-fbdd-487a-a23f-65ba70a38547",
   "metadata": {},
   "outputs": [
    {
     "name": "stdout",
     "output_type": "stream",
     "text": [
      "[1 2 3] [99 99] [3 2 1]\n",
      " \n",
      "[[0 1 2 3]\n",
      " [4 5 6 7]]\n",
      "[[ 8  9 10 11]\n",
      " [12 13 14 15]]\n"
     ]
    }
   ],
   "source": [
    "a = np.array([1,2,3,99,99,3,2,1])\n",
    "k,l,m = np.split(a, [3, 5])\n",
    "print(k,l,m)\n",
    "print(\" \")\n",
    "\n",
    "x = np.arange(16).reshape(4,4)\n",
    "bottom, top = np.split(x, [2])\n",
    "print(bottom)\n",
    "print(top)"
   ]
  },
  {
   "cell_type": "markdown",
   "id": "112cff67-cf9d-4970-ae48-62f4e712ee0e",
   "metadata": {},
   "source": [
    "***\n",
    "#### **Sıralama (Sorting)**\n",
    "* v = np.array([2,1,4,8,5])  \n",
    "  np.sort(v)\n",
    "\n",
    "* Bunu biz normal python içerisinde de NumPy'a ihtiyaç duymadan yapabiliyorduk ama v.sort() yaptığımız an numpy array'imizin türünü değiştirir ve normal array olarak tanımlar.\n",
    "\n",
    "##### **İki Boyutlu Sıralama**\n",
    "* Diyelim ki biz 3x3lük arrayin satırlarını sıramalak istiyorum.  \n",
    "  m = np.random.normal(20, 5, (3,3))  \n",
    "  np.sort(m, axis=1)\n",
    "\n",
    "* Sütunlarını sıralamak istersek:\n",
    "  np.sort(m, axis=0)"
   ]
  },
  {
   "cell_type": "code",
   "execution_count": 214,
   "id": "af920a27-1c72-4972-baaa-901bfec80279",
   "metadata": {},
   "outputs": [
    {
     "name": "stdout",
     "output_type": "stream",
     "text": [
      "[[11.33748784 16.87943449 23.83334123]\n",
      " [18.5023492  22.69072285 28.7893152 ]\n",
      " [12.92376904 16.52635104 18.24242182]]\n",
      "\n",
      "[[16.49817916 10.96631571 14.96151904]\n",
      " [18.34727596 22.36273952 24.49934744]\n",
      " [24.97555679 28.23708321 24.63181349]]\n"
     ]
    }
   ],
   "source": [
    "m = np.random.normal(20, 5, (3,3))  \n",
    "a = np.sort(m, axis=1)\n",
    "print(n)\n",
    "print()\n",
    "\n",
    "b = np.sort(m, axis=0)\n",
    "print(b)"
   ]
  },
  {
   "cell_type": "markdown",
   "id": "23c1343c-f49d-4b7f-99ff-8df4c2e07f24",
   "metadata": {},
   "source": [
    "***\n",
    "#### **Indeks ile Elemanlara Erişim**\n",
    "* a[0]\n",
    "* sondaki elemana da erişebiliriz: a[-1]\n",
    "* Elemanlar üzerinden değişiklik yapabiliriz: a[0] = 5\n",
    "  \n",
    "\n",
    "##### **İki boyutlu array**\n",
    "* m[0,0]\n",
    "\n",
    "#### **Slicing ile Elemanlara Erişim**\n",
    "* Slice anlamı dilimlemektir yani aslında bir yerden bir yere kadar olan elemanlara erişmek istediğimizde kullanırız\n",
    "* a[0:3] , a[:3] , a[3:]\n",
    "* İkişer ikişer atlamak için a[1::2]"
   ]
  },
  {
   "cell_type": "code",
   "execution_count": 223,
   "id": "9501e16d-ef9e-4d26-8cba-8defafc182c1",
   "metadata": {},
   "outputs": [
    {
     "name": "stdout",
     "output_type": "stream",
     "text": [
      "4\n"
     ]
    }
   ],
   "source": [
    "a = np.array([1,2,3,4])\n",
    "print(a[-1])"
   ]
  },
  {
   "cell_type": "markdown",
   "id": "a0cd26d1-ae31-4970-8133-b4b7ee6f534f",
   "metadata": {},
   "source": [
    "***\n",
    "#### **Slicing ile Elemanlara Erişim**\n",
    "* Slice anlamı dilimlemektir yani aslında bir yerden bir yere kadar olan elemanlara erişmek istediğimizde kullanırız\n",
    "* a[0:3] , a[:3] , a[3:]\n",
    "* İkişer ikişer atlamak için a[1::2]\n",
    "\n",
    "##### **İki boyutlu array**\n",
    "* a[: , 0] -> tüm satırları seç, 0. sütunu seç. Ve güzel tarafı bunu yine bize bir array olarak verir ve bunu başka bir array değişkenine atayabiliriz\n",
    "* a[0 , :] -> 0. sütun elemanlarını verir\n",
    "* Bunları mixleyerek de çalıştırabilirliz:  \n",
    "  a[0:2 , 0:3] -> İlk iki satırın ilk üç sütununu verir  \n",
    "  a[:: , :2] -> Tüm satırları al, ve onların sadece 0 ve 1. sütununu ver yani 2. indekse kadar"
   ]
  },
  {
   "cell_type": "code",
   "execution_count": 234,
   "id": "7df1fac8-38b8-49db-8b6d-a48ce844f8bd",
   "metadata": {},
   "outputs": [
    {
     "data": {
      "text/plain": [
       "array([[7, 7, 0, 7, 5],\n",
       "       [3, 1, 7, 3, 9],\n",
       "       [3, 7, 6, 0, 4],\n",
       "       [7, 6, 4, 1, 5],\n",
       "       [2, 4, 6, 8, 7]])"
      ]
     },
     "execution_count": 234,
     "metadata": {},
     "output_type": "execute_result"
    }
   ],
   "source": [
    "a = np.random.randint(10, size=(5,5))\n",
    "a"
   ]
  },
  {
   "cell_type": "code",
   "execution_count": 242,
   "id": "6d9d3258-634c-4961-88ed-600c46c84cfd",
   "metadata": {},
   "outputs": [
    {
     "data": {
      "text/plain": [
       "array([7, 3, 3, 7, 2])"
      ]
     },
     "execution_count": 242,
     "metadata": {},
     "output_type": "execute_result"
    }
   ],
   "source": [
    "b = a[:, 0]\n",
    "b"
   ]
  },
  {
   "cell_type": "code",
   "execution_count": 244,
   "id": "ee107ec0-8df9-42c4-afd3-dfca9b0965bf",
   "metadata": {},
   "outputs": [
    {
     "data": {
      "text/plain": [
       "array([[7, 7, 0],\n",
       "       [3, 1, 7]])"
      ]
     },
     "execution_count": 244,
     "metadata": {},
     "output_type": "execute_result"
    }
   ],
   "source": [
    "a[0:2 , 0:3]"
   ]
  },
  {
   "cell_type": "code",
   "execution_count": null,
   "id": "db55da3c-3289-411d-b591-180a6e7b40fe",
   "metadata": {},
   "outputs": [],
   "source": []
  },
  {
   "cell_type": "code",
   "execution_count": null,
   "id": "b7c0c193-80ea-4904-a4b6-9b6117d2c066",
   "metadata": {},
   "outputs": [],
   "source": []
  },
  {
   "cell_type": "markdown",
   "id": "6cc28314-d36b-4054-a55f-5ea9ea4d3f49",
   "metadata": {},
   "source": [
    "***\n",
    "#### **Alt Küme Bağımlılık/Bağımsızlık**\n",
    "* Diyelim bir array oluşturduk: a = np. random.randint(10, size = (5, 5))\n",
    "* Ve sonra bu arraydan bir alt küme oluşturduk: sub_a = a[0:3 , 0:2]\n",
    "* Peki şu an sub_a üzerinden bir değişiklik yapalım: sub_a[0,0] = 9999\n",
    "* Yapılan işlem 'a' array'ini etkileyecek mi? **Evet!!!**\n",
    "\n",
    "##### Peki bunun olmamasını istiyorsak?\n",
    "* copy() methodu kullanmalıyız:  \n",
    "  sub_a2 = a[0:2 , 0:3]. copy()"
   ]
  },
  {
   "cell_type": "code",
   "execution_count": 258,
   "id": "d858e87a-7ca3-4b85-85b4-f62690c59dc4",
   "metadata": {},
   "outputs": [
    {
     "name": "stdout",
     "output_type": "stream",
     "text": [
      "[[9999    4    1]\n",
      " [   0    7    7]]\n",
      "\n",
      "[[9999    4    1    9    2]\n",
      " [   0    7    7    8    0]\n",
      " [   8    6    5    9    2]\n",
      " [   6    7    1    9    0]\n",
      " [   5    8    1    9    8]]\n"
     ]
    }
   ],
   "source": [
    "a = np. random.randint(10, size = (5, 5))\n",
    "sub_a = a[0:2 , 0:3]\n",
    "sub_a[0,0] = 9999\n",
    "print(sub_a)\n",
    "print()\n",
    "print(a)"
   ]
  },
  {
   "cell_type": "markdown",
   "id": "7b6e0a08-aa76-4880-9bc2-db93ebf06ba6",
   "metadata": {},
   "source": [
    "***\n",
    "#### **Fancy İndex ile Elemanlara Erişim**\n",
    "* Önce eleman filtreleme array'i ıluşturuyoruz: myFilter = [1,3,9]\n",
    "* Daha sonra oluşturduğumuz bu array'i filtrelemek istediğimiz array içerisinde kullanıyoruz: a[myFilter]\n",
    "\n",
    "##### **İki Boyutlu**\n",
    "* a = np.arange(9).reshape((3,3))  \n",
    "  line = [0,1]  \n",
    "  column = np.array([1,2])  \n",
    "  a[line, column]  "
   ]
  },
  {
   "cell_type": "code",
   "execution_count": 280,
   "id": "9fe25d52-1538-4b2b-9e93-d51b54a6f6a6",
   "metadata": {},
   "outputs": [
    {
     "data": {
      "text/plain": [
       "array([ 3,  9, 27])"
      ]
     },
     "execution_count": 280,
     "metadata": {},
     "output_type": "execute_result"
    }
   ],
   "source": [
    "a = np.arange(0,50,3)\n",
    "myFilter = [1,3,9]\n",
    "a[myFilter]"
   ]
  },
  {
   "cell_type": "code",
   "execution_count": 294,
   "id": "52197ef9-8386-46b5-bcf9-af7b279d3e4f",
   "metadata": {},
   "outputs": [
    {
     "data": {
      "text/plain": [
       "array([1, 5])"
      ]
     },
     "execution_count": 294,
     "metadata": {},
     "output_type": "execute_result"
    }
   ],
   "source": [
    "a = np.arange(9).reshape((3,3))\n",
    "line = [0,1]\n",
    "column = np.array([1,2])\n",
    "a[line, column]"
   ]
  },
  {
   "cell_type": "markdown",
   "id": "e2ff1bc7-8936-459c-b37b-9041c2806d19",
   "metadata": {},
   "source": [
    "***\n",
    "#### **Fancy ile Koşullu Eleman İşlemleri**\n",
    "* Mesela biz bir arraydeki 3'ten küçük elemanları listelemek istiyoruz: a = np.arange(0,50)  \n",
    "  a < 3 -> Bu bize 3ten küçükler için 'True', büyük ve eşitler için 'False' verir\n",
    "* Peki direkt elemanların kendisine erişmek istersek:  \n",
    "  v[v<3]\n",
    "\n",
    "######\n",
    "* İstersek tüm elemanları da bir işleme tabi tutabiliriz:  \n",
    "  a*5 -> a'nın tüm elemanlarını 5 ile çarpar"
   ]
  },
  {
   "cell_type": "code",
   "execution_count": 323,
   "id": "6f5190e6-532f-4903-82dd-10c950482e51",
   "metadata": {},
   "outputs": [
    {
     "data": {
      "text/plain": [
       "array([2, 0, 6, 2, 0, 2, 8, 4, 0, 6, 0, 4])"
      ]
     },
     "execution_count": 323,
     "metadata": {},
     "output_type": "execute_result"
    }
   ],
   "source": [
    "a = np.random.randint(0,5,12)\n",
    "a*2"
   ]
  },
  {
   "cell_type": "markdown",
   "id": "48eb00e2-b3e5-4391-bb1e-5c2dbe1cf843",
   "metadata": {},
   "source": [
    "***\n",
    "#### **Matematiksel İşlemler**\n",
    "* np.cos(180)  \n",
    "  np.log(array), np.log10(array)\n",
    "  \n",
    "##### **İki Bilinmeyenli Denklem**\n",
    "* Bunun için NumPy'ın lineer cebir için üretilmiş alt paketi olan '**linalg**' kullanıyor olacağız. \n",
    "* 5x0 + x1 = 12  \n",
    "  x0 + 3x1 = 10\n",
    "> Yukarıdaki iki bilinmeyenli denkemi çözelim:  \n",
    "  a = np.array( [[5,1] , [1,3]] )  \n",
    "  b = np.array([12,10])\n",
    ">> solution = np.linalg.solve(a,b)"
   ]
  },
  {
   "cell_type": "code",
   "execution_count": 344,
   "id": "7c5ba778-d94e-4508-aaca-4419734a0ca8",
   "metadata": {},
   "outputs": [
    {
     "data": {
      "text/plain": [
       "array([1.85714286, 2.71428571])"
      ]
     },
     "execution_count": 344,
     "metadata": {},
     "output_type": "execute_result"
    }
   ],
   "source": [
    "a = np.array([[5,1] , [1,3]])\n",
    "b = np.array([12,10])\n",
    "solution = np.linalg.solve(a,b)\n",
    "solution"
   ]
  },
  {
   "cell_type": "code",
   "execution_count": null,
   "id": "58aeb335-be4a-41e0-8db2-3b80e851dab1",
   "metadata": {},
   "outputs": [],
   "source": []
  }
 ],
 "metadata": {
  "kernelspec": {
   "display_name": "Python [conda env:base] *",
   "language": "python",
   "name": "conda-base-py"
  },
  "language_info": {
   "codemirror_mode": {
    "name": "ipython",
    "version": 3
   },
   "file_extension": ".py",
   "mimetype": "text/x-python",
   "name": "python",
   "nbconvert_exporter": "python",
   "pygments_lexer": "ipython3",
   "version": "3.12.7"
  }
 },
 "nbformat": 4,
 "nbformat_minor": 5
}

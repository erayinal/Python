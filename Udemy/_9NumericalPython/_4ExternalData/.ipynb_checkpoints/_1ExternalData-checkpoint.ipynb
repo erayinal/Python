{
 "cells": [
  {
   "cell_type": "markdown",
   "id": "6a616331-9203-4004-9da2-3729026a926f",
   "metadata": {},
   "source": [
    "<hr style=\"border: 4px solid red;\">\n",
    "\n",
    "## **Dış Kaynaklı Veri Okumak**\n",
    "* "
   ]
  },
  {
   "cell_type": "code",
   "execution_count": null,
   "id": "d5ca4e19-dc4e-4dad-b6af-38bec60b3a02",
   "metadata": {},
   "outputs": [],
   "source": []
  }
 ],
 "metadata": {
  "kernelspec": {
   "display_name": "Python [conda env:base] *",
   "language": "python",
   "name": "conda-base-py"
  },
  "language_info": {
   "codemirror_mode": {
    "name": "ipython",
    "version": 3
   },
   "file_extension": ".py",
   "mimetype": "text/x-python",
   "name": "python",
   "nbconvert_exporter": "python",
   "pygments_lexer": "ipython3",
   "version": "3.12.7"
  }
 },
 "nbformat": 4,
 "nbformat_minor": 5
}

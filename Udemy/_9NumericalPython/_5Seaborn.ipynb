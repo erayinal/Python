{
 "cells": [
  {
   "cell_type": "markdown",
   "id": "225d0416-bcd3-4734-a698-077e3bdd4142",
   "metadata": {},
   "source": [
    "# **Python ile Veri Görselleştirme**\n",
    "* Veri görselleştirmek için kullanılan en yaygın kütüphaneler:\n",
    "  > * **Matplotlib:** Python veri görselleştirme dünyasının **büyükbabasıdır.** Çok güçlüdür ama biraz karmaşıktır, Low-Level erişim sağlar yani yapılmak istenen işlemi ifade etmek için daha fazla çaba anlamına gelir. Diğer kütüphaneler Matplotlib'in üzerine inşa edilmiştir. <br>\n",
    "  > * **Pandas:** Pandas'ı veri analizi için kullanmıştık yine aynı şekilde veri görselleştirmek içinde çok zengin bir içerik barındırır. Matplotlib üzerine inşa edilmiştir. High-Level API sahibidir. <br>\n",
    "  > * **Seaborn:** Yine Pandas gibi Matplotlib üzerine inşa edilmitir ve yine High-Level interface sunmaktadır. <br>\n",
    "  > * **ggplot:** Aslında R dünyasında var olan bir kütüphanedir ve bu Python'a uyarlanmış halidir. Kişisel düşünce olarak; veri görselleştirmede dünyanın en iyi araçlarıdan birisidir. High-Level inteface sağlamaktadır. Görselleştirme işlemini 'Katmanlaştırma' mantığıyla ele almaktadır. <br>\n",
    "  > * **Bokeh:**  Matplotlib üzerine kurulu **değildir.** Interactive bir görselleştirme kütüphanesidir, büyük veri setleri ve akan veri setlerini  yüksek performaslı olarak interactive şekilde sunabilmektedir. <br>\n",
    "  > * **Plot.ly:** Veri görselleştirme alanına sonradan girmesine rağmen birçok programlama dili ile beraber çalışabilmesinden dolayı güzel imkanlar sunmaktadır. Yine Bokeh gibi interactive veri görselleştimeyi sağlar.\n",
    "  >\n",
    "* Biz daha çok **'Seaborn'** kütüphanesini bazen Pandas bazen de Matplotlib kütüphanelerinden de destek alarak kullanacağız "
   ]
  },
  {
   "cell_type": "markdown",
   "id": "5dac89fe-8b1b-4c6c-bf38-385cf99b5c9a",
   "metadata": {},
   "source": [
    "<hr style=\"border: 1px solid blue;\">\n",
    "\n",
    "## **Veriye İlk Bakış**\n",
    "* **1) Elimizdeki veri setinin hikayesi nedir?**\n",
    "  > Elimizdeki veri setinin adı 'Planets'dir. Nasa tarafından galaksi keşfi ile alakalı bir veri setidir.\n",
    "  >> method: Gezegenlerin bulunma şekli <br>\n",
    "     number: Bulunan sistemlerdeki gezegen sayısı <br>\n",
    "     orbital_period: Yörünge dönemini ifade eden teknik bir ifadedir <br>\n",
    "     mass: Kütle <br>\n",
    "     distance: Uzaklık <br>\n",
    "     year: Keşfedilme tarihi <br>\n",
    "\n",
    "* **2) Ana veri setinin bir kopyasını almak**\n",
    "  > df = planets.copy()\n",
    "\n",
    "* **3) Veri setinin yapısal bilgileri**\n",
    "  > * df.info()\n",
    "  >> Eğer 'object' görüyorsak bunu Kategorik bir değişken olarak düşüneceğiz. <br>\n",
    "  >> Değişkenlerin(kolonların) türlerin 'df.dtypes' yazarak da olaşabiliriz\n",
    "\n",
    "  > * 'object' yazan Kategorik değişkenleri, Kategorik olarak tanımla:\n",
    "  >> df.method = pd.Categorical(df.method)\n",
    "  >>> Gelişmiş fonksiyonlar, bunu biz yapmasak da Categorik bir değişken olduğunu anlıyor ama bazıları String muamelesi yapabiliyor. Biz object yazanları kategorik olarak tanımladıktan sonra df.info() yazarsak; eskiden object yazan yerde 'category' yazacağını göreceğiz.\n",
    "\n",
    "* ****"
   ]
  },
  {
   "cell_type": "code",
   "execution_count": 31,
   "id": "5dbc2435-d733-47a9-bcef-e8fa02c6da91",
   "metadata": {},
   "outputs": [
    {
     "name": "stdout",
     "output_type": "stream",
     "text": [
      "<class 'pandas.core.frame.DataFrame'>\n",
      "RangeIndex: 1035 entries, 0 to 1034\n",
      "Data columns (total 6 columns):\n",
      " #   Column          Non-Null Count  Dtype   \n",
      "---  ------          --------------  -----   \n",
      " 0   method          1035 non-null   category\n",
      " 1   number          1035 non-null   int64   \n",
      " 2   orbital_period  992 non-null    float64 \n",
      " 3   mass            513 non-null    float64 \n",
      " 4   distance        808 non-null    float64 \n",
      " 5   year            1035 non-null   int64   \n",
      "dtypes: category(1), float64(3), int64(2)\n",
      "memory usage: 41.9 KB\n"
     ]
    }
   ],
   "source": [
    "import seaborn as sns\n",
    "planets = sns.load_dataset(\"planets\")\n",
    "planets.head()\n",
    "\n",
    "df = planets.copy()\n",
    "df.info()\n",
    "\n",
    "import pandas as pd\n",
    "df.method = pd.Categorical(df.method)\n",
    "df.info()"
   ]
  },
  {
   "cell_type": "code",
   "execution_count": null,
   "id": "6649e959-495c-4fc0-bf63-e4bf9f1aec78",
   "metadata": {},
   "outputs": [],
   "source": []
  }
 ],
 "metadata": {
  "kernelspec": {
   "display_name": "Python [conda env:base] *",
   "language": "python",
   "name": "conda-base-py"
  },
  "language_info": {
   "codemirror_mode": {
    "name": "ipython",
    "version": 3
   },
   "file_extension": ".py",
   "mimetype": "text/x-python",
   "name": "python",
   "nbconvert_exporter": "python",
   "pygments_lexer": "ipython3",
   "version": "3.12.7"
  }
 },
 "nbformat": 4,
 "nbformat_minor": 5
}

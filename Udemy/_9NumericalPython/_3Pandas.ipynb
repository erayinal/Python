{
 "cells": [
  {
   "cell_type": "markdown",
   "id": "0245b846-81df-4c72-b305-6701e09a901c",
   "metadata": {},
   "source": [
    "# **Pandas**\n",
    "* '**Panel Data**'nın kısaltılmasıdır\n",
    "* NumPy'ın alternatifi değildir, NumPy'ın özelliklerini kullanan ve bunu genişleten bir kütüphanedir\n",
    "* En büyük farklarından birisi: NumPy'da 'Fixed Type' varken Pandas'ta farklı veri tipleri barınabilir\n",
    "* **Panel Data** nedir peki?\n",
    "> Pandas temelinde ekonometrik ve finansal çalışmalar için doğmuştur.  \n",
    ">  * Panel Data: Kesit veri ve zaman verisinin bir arada olduğu veri tipidir.  \n",
    ">  * Klasik veri yerine zaman verisini daha önemseyen bir yapıdır\n",
    "* Temeli 2008 yılında atılmıştır\n",
    "* R DataFrame yapısını Python dünyasına taşımıs ve DataFrame'ler üzerinde hızlı ve etkili çalışabilme imkani sağlamıştır."
   ]
  },
  {
   "cell_type": "markdown",
   "id": "0b60e7ee-d1bc-4676-b50f-abf914eae935",
   "metadata": {},
   "source": [
    "***\n",
    "### **Pandas Serisi Oluşturmak**\n",
    "* import pandas as pd\n",
    "* Değerleri onların indexleri ile beraber tutar\n",
    "  > mySeries.axes -> Bize index bilgilerini verir (start=0, stop=5 step=1)  \n",
    "  > mySeries.ndim  \n",
    "  > mySeries.size  \n",
    "  > mySeries.values -> İçerisindeki değerleri numpy array'i gibiymişçesine bize array çevirir  \n",
    "  > mySeries.head(4) -> İlk 4 elemanı verir"
   ]
  },
  {
   "cell_type": "code",
   "execution_count": 8,
   "id": "9b770b7e-6f1e-44f1-b8f8-46710932431c",
   "metadata": {},
   "outputs": [],
   "source": [
    "import numpy as np\n",
    "import pandas as pd\n",
    "mySeries = pd.Series([11,12,13,14,15])"
   ]
  },
  {
   "cell_type": "markdown",
   "id": "bfb47fc8-4571-4c42-afff-81ee16e2c8a1",
   "metadata": {},
   "source": [
    "<hr style=\"border: 1px solid blue;\">\n",
    "\n",
    "#### **Index İsimlendirme**\n",
    "* Kendisi default olarka indexleri 0dan başlayarak tutar ama biz istersek indexlerin isimlerindirebiliriz\n",
    "  > pd.Series([199,22,332,94,51], index = [\"a\",3,5,7,9]) "
   ]
  },
  {
   "cell_type": "code",
   "execution_count": 44,
   "id": "2abd9ad9-b493-445c-8fbc-7850a863e620",
   "metadata": {},
   "outputs": [
    {
     "data": {
      "text/plain": [
       "a    199\n",
       "3     22\n",
       "5    332\n",
       "7     94\n",
       "9     51\n",
       "dtype: int64"
      ]
     },
     "execution_count": 44,
     "metadata": {},
     "output_type": "execute_result"
    }
   ],
   "source": [
    "pd.Series([199,22,332,94,51], index = [\"a\",3,5,7,9]) "
   ]
  },
  {
   "cell_type": "markdown",
   "id": "ef8536af-8910-4314-b6ed-10ba4b85fd72",
   "metadata": {},
   "source": [
    "<hr style=\"border: 1px solid blue;\">\n",
    "\n",
    "#### **Sözlük ile pandas serisi oluşturma**\n",
    "* Önce sözlük tanımlayıp sonra içine yerleştirelim:\n",
    "  > dict = {\"reg\":10, \"log\":11, \"cart\": 12}  \n",
    "    mySeries = pd.Series(dict)\n",
    "  \n",
    "* Yine bunun aynısını numpy arrayleri ile de yapabiliriz:\n",
    "  > a = np.array([99,88,34,67])\n",
    "    series = pd.Series(a)"
   ]
  },
  {
   "cell_type": "code",
   "execution_count": 51,
   "id": "d562f4a2-4d06-4edd-b0de-11690de77fbd",
   "metadata": {},
   "outputs": [
    {
     "data": {
      "text/plain": [
       "reg     10\n",
       "log     11\n",
       "cart    12\n",
       "dtype: int64"
      ]
     },
     "execution_count": 51,
     "metadata": {},
     "output_type": "execute_result"
    }
   ],
   "source": [
    "dict = {\"reg\":10, \"log\":11, \"cart\": 12}\n",
    "mySeries = pd.Series(dict)\n",
    "mySeries"
   ]
  },
  {
   "cell_type": "markdown",
   "id": "dc82fd9f-a237-4a33-a715-9f840605c43a",
   "metadata": {},
   "source": [
    "<hr style=\"border: 1px solid blue;\">\n",
    "\n",
    "#### **Pandas'ın Önemli Fonksiyonları**\n",
    "#### **Birleştirme**\n",
    "* pd.concat([seri1, seri2])"
   ]
  },
  {
   "cell_type": "markdown",
   "id": "4eca004d-8dff-44eb-be45-8d2f157951fd",
   "metadata": {},
   "source": [
    "<hr style=\"border: 1px solid blue;\">\n",
    "\n",
    "#### **Eleman Sorgulama**\n",
    "* \"reg\" in mySeries -> mySeries serisinde \"reg\" **index**'i varsa true döner."
   ]
  },
  {
   "cell_type": "code",
   "execution_count": 10,
   "id": "3ee2fb92-afd8-40ae-90e2-a17bce49655d",
   "metadata": {},
   "outputs": [
    {
     "name": "stdout",
     "output_type": "stream",
     "text": [
      "False\n",
      "True\n",
      "3 s\n"
     ]
    }
   ],
   "source": [
    "s = pd.Series([1,2,3,4],\n",
    "             index = [\"e\", \"r\", \"a\", \"y\"])\n",
    "print('3' in s)\n",
    "print('r' in s)\n",
    "print(3, \"s\")"
   ]
  },
  {
   "cell_type": "markdown",
   "id": "1c386689-d94b-440a-ad5c-6d494cbb74fc",
   "metadata": {},
   "source": [
    "<hr style=\"border: 4px solid red;\">\n",
    "\n",
    "## **Pandas DataFrame**\n",
    "* Pandas kütüphanesi içerisinde yer alır.\n",
    "* **Nedir?** Yapısal bir veri tipidir. Excel veri yapısına benzerdir.\n",
    "* **NumPy varken neden DataFrame'ine ihtiyacımız var?** NumPy fix type veri tipidir.\n",
    "* Satır = **Gözlem**\n",
    "* Sütun = **Değişken**\n",
    "##### **Nasıl oluşturulur:** \n",
    "* Bir Boyutlu:\n",
    "  > pd.DataFrame([1,3,56,44], columns = [\"My Var\"])\n",
    "  > * Tabi istersek np array ile de oluşturabiliriz:\n",
    "  >> pd.DataFrame(np.array([1,4,9,7]), columns=[\"Numbers\"])\n",
    "* İki boyutlu:\n",
    "  > m = np.arange(1,10).reshape((3,3))  \n",
    "  > pd.DataFrame(m , columns=[\"Var1\", \"Var2\", \"Var3\"])\n",
    "\n",
    "##### **Nasıl Erişilir:**"
   ]
  },
  {
   "cell_type": "code",
   "execution_count": 202,
   "id": "c369e299-65b0-4739-baad-e57fe3404ae2",
   "metadata": {},
   "outputs": [
    {
     "data": {
      "text/html": [
       "<div>\n",
       "<style scoped>\n",
       "    .dataframe tbody tr th:only-of-type {\n",
       "        vertical-align: middle;\n",
       "    }\n",
       "\n",
       "    .dataframe tbody tr th {\n",
       "        vertical-align: top;\n",
       "    }\n",
       "\n",
       "    .dataframe thead th {\n",
       "        text-align: right;\n",
       "    }\n",
       "</style>\n",
       "<table border=\"1\" class=\"dataframe\">\n",
       "  <thead>\n",
       "    <tr style=\"text-align: right;\">\n",
       "      <th></th>\n",
       "      <th>My Var</th>\n",
       "    </tr>\n",
       "  </thead>\n",
       "  <tbody>\n",
       "    <tr>\n",
       "      <th>0</th>\n",
       "      <td>1</td>\n",
       "    </tr>\n",
       "    <tr>\n",
       "      <th>1</th>\n",
       "      <td>2</td>\n",
       "    </tr>\n",
       "    <tr>\n",
       "      <th>2</th>\n",
       "      <td>39</td>\n",
       "    </tr>\n",
       "    <tr>\n",
       "      <th>3</th>\n",
       "      <td>34</td>\n",
       "    </tr>\n",
       "  </tbody>\n",
       "</table>\n",
       "</div>"
      ],
      "text/plain": [
       "   My Var\n",
       "0       1\n",
       "1       2\n",
       "2      39\n",
       "3      34"
      ]
     },
     "execution_count": 202,
     "metadata": {},
     "output_type": "execute_result"
    }
   ],
   "source": [
    "import pandas as pd\n",
    "import numpy as np\n",
    "pd.DataFrame([1,2,39,34], columns = [\"My Var\"])"
   ]
  },
  {
   "cell_type": "code",
   "execution_count": 204,
   "id": "82467124-ce63-4b9b-95dd-24cde1bd7bf5",
   "metadata": {},
   "outputs": [
    {
     "data": {
      "text/html": [
       "<div>\n",
       "<style scoped>\n",
       "    .dataframe tbody tr th:only-of-type {\n",
       "        vertical-align: middle;\n",
       "    }\n",
       "\n",
       "    .dataframe tbody tr th {\n",
       "        vertical-align: top;\n",
       "    }\n",
       "\n",
       "    .dataframe thead th {\n",
       "        text-align: right;\n",
       "    }\n",
       "</style>\n",
       "<table border=\"1\" class=\"dataframe\">\n",
       "  <thead>\n",
       "    <tr style=\"text-align: right;\">\n",
       "      <th></th>\n",
       "      <th>Var1</th>\n",
       "      <th>Var2</th>\n",
       "      <th>Var3</th>\n",
       "    </tr>\n",
       "  </thead>\n",
       "  <tbody>\n",
       "    <tr>\n",
       "      <th>0</th>\n",
       "      <td>1</td>\n",
       "      <td>2</td>\n",
       "      <td>3</td>\n",
       "    </tr>\n",
       "    <tr>\n",
       "      <th>1</th>\n",
       "      <td>4</td>\n",
       "      <td>5</td>\n",
       "      <td>6</td>\n",
       "    </tr>\n",
       "    <tr>\n",
       "      <th>2</th>\n",
       "      <td>7</td>\n",
       "      <td>8</td>\n",
       "      <td>9</td>\n",
       "    </tr>\n",
       "  </tbody>\n",
       "</table>\n",
       "</div>"
      ],
      "text/plain": [
       "   Var1  Var2  Var3\n",
       "0     1     2     3\n",
       "1     4     5     6\n",
       "2     7     8     9"
      ]
     },
     "execution_count": 204,
     "metadata": {},
     "output_type": "execute_result"
    }
   ],
   "source": [
    "m = np.arange(1,10).reshape((3,3))\n",
    "pd.DataFrame(m , columns=[\"Var1\", \"Var2\", \"Var3\"])"
   ]
  },
  {
   "cell_type": "markdown",
   "id": "52c1b5cc-4484-431e-98b3-2eaf86ba72c5",
   "metadata": {},
   "source": [
    "<hr style=\"border: 1px solid blue;\">\n",
    "\n",
    "##### **Kolon isimlendirmeleri nasıl değiştirilir:**\n",
    "  > df = pd.DataFrame(m , columns=[\"Var1\", \"Var2\", \"Var3\"])  \n",
    "    df.columns -> Kolon isimlerini verir  \n",
    "    df.columns = (\"deg1\", \"deg2\", \"deg3\")"
   ]
  },
  {
   "cell_type": "code",
   "execution_count": 2,
   "id": "4f6040f3-740e-47a6-8c77-6ba0b3fa4d0f",
   "metadata": {},
   "outputs": [
    {
     "ename": "NameError",
     "evalue": "name 'pd' is not defined",
     "output_type": "error",
     "traceback": [
      "\u001b[0;31m---------------------------------------------------------------------------\u001b[0m",
      "\u001b[0;31mNameError\u001b[0m                                 Traceback (most recent call last)",
      "Cell \u001b[0;32mIn[2], line 1\u001b[0m\n\u001b[0;32m----> 1\u001b[0m df \u001b[38;5;241m=\u001b[39m pd\u001b[38;5;241m.\u001b[39mDataFrame(m , columns\u001b[38;5;241m=\u001b[39m[\u001b[38;5;124m\"\u001b[39m\u001b[38;5;124mVar1\u001b[39m\u001b[38;5;124m\"\u001b[39m, \u001b[38;5;124m\"\u001b[39m\u001b[38;5;124mVar2\u001b[39m\u001b[38;5;124m\"\u001b[39m, \u001b[38;5;124m\"\u001b[39m\u001b[38;5;124mVar3\u001b[39m\u001b[38;5;124m\"\u001b[39m])\n\u001b[1;32m      2\u001b[0m \u001b[38;5;28mprint\u001b[39m(df\u001b[38;5;241m.\u001b[39mcolumns)\n\u001b[1;32m      3\u001b[0m df\u001b[38;5;241m.\u001b[39mcolumns \u001b[38;5;241m=\u001b[39m (\u001b[38;5;124m\"\u001b[39m\u001b[38;5;124mdeg1\u001b[39m\u001b[38;5;124m\"\u001b[39m, \u001b[38;5;124m\"\u001b[39m\u001b[38;5;124mdeg2\u001b[39m\u001b[38;5;124m\"\u001b[39m, \u001b[38;5;124m\"\u001b[39m\u001b[38;5;124mdeg3\u001b[39m\u001b[38;5;124m\"\u001b[39m)\n",
      "\u001b[0;31mNameError\u001b[0m: name 'pd' is not defined"
     ]
    }
   ],
   "source": [
    "df = pd.DataFrame(m , columns=[\"Var1\", \"Var2\", \"Var3\"])\n",
    "print(df.columns)\n",
    "df.columns = (\"deg1\", \"deg2\", \"deg3\")\n",
    "df"
   ]
  },
  {
   "cell_type": "markdown",
   "id": "b8cdc040-9db7-43f5-9c49-6fa9a41c0b0f",
   "metadata": {},
   "source": [
    "<hr style=\"border: 1px solid red;\">\n",
    "\n",
    "## **Eleman İşlemleri**\n",
    "* s1 = np.random.randint(10, size=5)  \n",
    "  s2 = np.random.randint(10, size=5)  \n",
    "  s3 = np.random.randint(10, size=5)\n",
    "  \n",
    "* dictinory = {\"var1\": s1 , \"var2\": s2 , \"var3\": s3}\n",
    "\n",
    "* Şimdi DataFrame oluşturalım:  \n",
    "  df = pd.DataFrame(dictionary)\n",
    "\n",
    "* Eğer pandas index isimlerini değiştirmek de istersek onu da yapabiliyorduk hatırlarsak:\n",
    "  df.index = [\"a\", \"b\", \"c\", \"d\", \"e\"]"
   ]
  },
  {
   "cell_type": "code",
   "execution_count": 123,
   "id": "3df5b5b1-6508-4436-a209-94dd9ded766c",
   "metadata": {},
   "outputs": [
    {
     "data": {
      "text/html": [
       "<div>\n",
       "<style scoped>\n",
       "    .dataframe tbody tr th:only-of-type {\n",
       "        vertical-align: middle;\n",
       "    }\n",
       "\n",
       "    .dataframe tbody tr th {\n",
       "        vertical-align: top;\n",
       "    }\n",
       "\n",
       "    .dataframe thead th {\n",
       "        text-align: right;\n",
       "    }\n",
       "</style>\n",
       "<table border=\"1\" class=\"dataframe\">\n",
       "  <thead>\n",
       "    <tr style=\"text-align: right;\">\n",
       "      <th></th>\n",
       "      <th>var1</th>\n",
       "      <th>var2</th>\n",
       "      <th>var3</th>\n",
       "    </tr>\n",
       "  </thead>\n",
       "  <tbody>\n",
       "    <tr>\n",
       "      <th>a</th>\n",
       "      <td>8</td>\n",
       "      <td>9</td>\n",
       "      <td>9</td>\n",
       "    </tr>\n",
       "    <tr>\n",
       "      <th>b</th>\n",
       "      <td>0</td>\n",
       "      <td>5</td>\n",
       "      <td>3</td>\n",
       "    </tr>\n",
       "    <tr>\n",
       "      <th>c</th>\n",
       "      <td>4</td>\n",
       "      <td>4</td>\n",
       "      <td>3</td>\n",
       "    </tr>\n",
       "    <tr>\n",
       "      <th>d</th>\n",
       "      <td>2</td>\n",
       "      <td>5</td>\n",
       "      <td>0</td>\n",
       "    </tr>\n",
       "    <tr>\n",
       "      <th>e</th>\n",
       "      <td>7</td>\n",
       "      <td>1</td>\n",
       "      <td>1</td>\n",
       "    </tr>\n",
       "  </tbody>\n",
       "</table>\n",
       "</div>"
      ],
      "text/plain": [
       "   var1  var2  var3\n",
       "a     8     9     9\n",
       "b     0     5     3\n",
       "c     4     4     3\n",
       "d     2     5     0\n",
       "e     7     1     1"
      ]
     },
     "execution_count": 123,
     "metadata": {},
     "output_type": "execute_result"
    }
   ],
   "source": [
    "s1 = np.random.randint(10, size=5)\n",
    "s2 = np.random.randint(10, size=5)\n",
    "s3 = np.random.randint(10, size=5)\n",
    "dictionary = {\"var1\": s1 , \"var2\": s2 , \"var3\": s3}\n",
    "\n",
    "df = pd.DataFrame(dictionary)\n",
    "df.index = [\"a\", \"b\", \"c\", \"d\", \"e\"]\n",
    "df"
   ]
  },
  {
   "cell_type": "markdown",
   "id": "db236e7b-7f36-4582-9ae5-11a687d532b8",
   "metadata": {},
   "source": [
    "<hr style=\"border: 1px solid blue;\">\n",
    "\n",
    "#### **Çağırma**\n",
    "* df[\"var1\"][\"a\"] -> Bu bize 6 ifadesini verir\n",
    "* Tüm sütunu çağırmak istersek:\n",
    "  > df[\"var1\"]"
   ]
  },
  {
   "cell_type": "code",
   "execution_count": 81,
   "id": "92c4871d-f5c4-4f9b-ba92-8d8f9156996a",
   "metadata": {},
   "outputs": [
    {
     "data": {
      "text/plain": [
       "6"
      ]
     },
     "execution_count": 81,
     "metadata": {},
     "output_type": "execute_result"
    }
   ],
   "source": [
    "df[\"var1\"][\"a\"]"
   ]
  },
  {
   "cell_type": "markdown",
   "id": "b56c422f-8249-42c9-b58c-213cd6bbee6c",
   "metadata": {},
   "source": [
    "<hr style=\"border: 1px solid blue;\">\n",
    "\n",
    "#### **Silme**\n",
    "##### **Satır:**\n",
    "* df.drop(\"var1\", axis=1)  **-> Tek sütun silmek**  \n",
    "  df.drop([\"var1\", \"var2\"], axis=1)  **-> Birden fazla sütun silmek**\n",
    "\n",
    "##### **Sütun:**\n",
    "* df.drop(\"a\", axis=0)  **-> Tek satır silmek**  \n",
    "  df.drop([\"a\", \"b\"], axis=0)  **-> Birden fazla satır silmek**\n",
    "\n",
    "##### **Eleman:**\n",
    "* Pandas'ta tek bil elemanı silmek diye bir şey **yoktur** Pandas DataFrame'ler matris benzeri bir yapıdadır.\n",
    "* Eksik değerler veya silmek istediğimiz değer yerine **NaN** barındırabilir:\n",
    "  > df.at[\"b\", \"var2\"] = np.nan **-> b. satır var2. sütununu**\n",
    "\n",
    "##### **Inplace:**\n",
    "* Bu yukarıdaki yapılan değişiklikler ana DataFrame yapısı üzerinde değişikliğe neden olmaz sadece istersek başka bir değişkene atayabiliriz.\n",
    "* Eğer ana DataFrame üzerinde değişikliklerin kaydedilmesini istiyorsak **inplace=True** yapmalıyız"
   ]
  },
  {
   "cell_type": "code",
   "execution_count": 125,
   "id": "81433905-0f09-41c1-b146-d074fa1e7682",
   "metadata": {},
   "outputs": [
    {
     "name": "stdout",
     "output_type": "stream",
     "text": [
      "   var1  var2  var3\n",
      "a     8     9     9\n",
      "b     0     5     3\n",
      "c     4     4     3\n",
      "d     2     5     0\n",
      "e     7     1     1 \n",
      "\n",
      "   var1  var2  var3\n",
      "b     0     5     3\n",
      "c     4     4     3\n",
      "d     2     5     0\n",
      "e     7     1     1 \n",
      "\n",
      "   var2  var3\n",
      "b     5     3\n",
      "c     4     3\n",
      "d     5     0\n",
      "e     1     1\n"
     ]
    }
   ],
   "source": [
    "df.drop(\"a\", axis=0)\n",
    "print(df, \"\\n\")\n",
    "\n",
    "df.drop(\"a\", axis=0, inplace=True)\n",
    "print(df, \"\\n\")\n",
    "\n",
    "df.drop(\"var1\", axis=1, inplace=True)\n",
    "print(df)"
   ]
  },
  {
   "cell_type": "markdown",
   "id": "1b45c9ed-2164-4804-9e6c-e97fd40dc9e2",
   "metadata": {},
   "source": [
    "<hr style=\"border: 1px solid blue;\">\n",
    "\n",
    "#### **Ekleme**\n",
    "##### **Satır Ekleme:**\n",
    "* df.loc[\"f\"] = [8, 2, 2] -> 'f' adında yeni bir satır oluşturur ve kolonlara 8,2,2 değerlerini verir.\n",
    "  > Eğer kolon sayısından az veya fazla eleman yazarsak error verir\n",
    "\n",
    "##### **Sütun Ekleme:**\n",
    "* df[\"var4\"] = [8,2,3,4,5,6] -> Eğer 'var4' adında bir sütun yoksa yeni elemanlar ile o sütunu oluşturur\n",
    "  > Yok eğer 'var4' adında bir sütun varsa o dütundaki elemanların değerlerini yeni elemanlarla değiştirir\n",
    "* df = df.assign(var4=[8,2,1,2,3,4]) -> Yine önceki gibi 'var4' adında bir sütun yoksa yeni elemanlar ile o sütunu oluşturur\n",
    "* df.insert(1, \"var0\", [0, 0, 0, 0, 0, 0]) -> Belirtmiş olduğumuz sayıdaki sütuna ekleme yapar. Yani birinci sütundan hemen sonra ikinci bir sütun ekler.\n",
    "\n",
    "##### **Belirli Hücreye Eleman Ekleme/Güncelleme:**\n",
    "* df.loc[\"b\", \"var2\"] = 99\n",
    "* df.at[\"c\", \"var3\"] = 100\n",
    "* df.iloc[2, 1] = 50  **-> Index bazlı eleman ekler yani 2. satır, 1. sütundaki değeri günceller**\n",
    "\n",
    "<div style=\"background-color:yellow; padding:10px; border-radius:5px;\">\n",
    "    Peki satır veya sütun eklerken eleman sayılarını nasıl öğrenicez de doğru gireceğiz:<br>\n",
    "  <strong>Satır Eklemek İçin Sütun Sayısı:</strong>  <br>\n",
    "  * sütun_sayısı = df.shape[1] <br>\n",
    "    sütun_sayısı = len(df.columns) <br>\n",
    "  <br>\n",
    "  <strong>Sütun Eklemek İçin Satır Sayısı:</strong>  <br>\n",
    "    * satır_sayısı = df.shape[0] <br>\n",
    "      satır_sayısı = len(df.index)\n",
    "</div>"
   ]
  },
  {
   "cell_type": "code",
   "execution_count": 297,
   "id": "338fc410-8748-4c85-97a7-81385d738fc0",
   "metadata": {},
   "outputs": [
    {
     "data": {
      "text/html": [
       "<div>\n",
       "<style scoped>\n",
       "    .dataframe tbody tr th:only-of-type {\n",
       "        vertical-align: middle;\n",
       "    }\n",
       "\n",
       "    .dataframe tbody tr th {\n",
       "        vertical-align: top;\n",
       "    }\n",
       "\n",
       "    .dataframe thead th {\n",
       "        text-align: right;\n",
       "    }\n",
       "</style>\n",
       "<table border=\"1\" class=\"dataframe\">\n",
       "  <thead>\n",
       "    <tr style=\"text-align: right;\">\n",
       "      <th></th>\n",
       "      <th>var1</th>\n",
       "      <th>var0</th>\n",
       "      <th>var2</th>\n",
       "      <th>var3</th>\n",
       "      <th>var4</th>\n",
       "    </tr>\n",
       "  </thead>\n",
       "  <tbody>\n",
       "    <tr>\n",
       "      <th>a</th>\n",
       "      <td>6</td>\n",
       "      <td>0</td>\n",
       "      <td>2</td>\n",
       "      <td>3</td>\n",
       "      <td>8</td>\n",
       "    </tr>\n",
       "    <tr>\n",
       "      <th>b</th>\n",
       "      <td>0</td>\n",
       "      <td>0</td>\n",
       "      <td>4</td>\n",
       "      <td>9</td>\n",
       "      <td>2</td>\n",
       "    </tr>\n",
       "    <tr>\n",
       "      <th>c</th>\n",
       "      <td>4</td>\n",
       "      <td>0</td>\n",
       "      <td>1</td>\n",
       "      <td>8</td>\n",
       "      <td>1</td>\n",
       "    </tr>\n",
       "    <tr>\n",
       "      <th>d</th>\n",
       "      <td>7</td>\n",
       "      <td>0</td>\n",
       "      <td>4</td>\n",
       "      <td>9</td>\n",
       "      <td>2</td>\n",
       "    </tr>\n",
       "    <tr>\n",
       "      <th>e</th>\n",
       "      <td>2</td>\n",
       "      <td>0</td>\n",
       "      <td>6</td>\n",
       "      <td>2</td>\n",
       "      <td>3</td>\n",
       "    </tr>\n",
       "    <tr>\n",
       "      <th>f</th>\n",
       "      <td>8</td>\n",
       "      <td>0</td>\n",
       "      <td>2</td>\n",
       "      <td>3</td>\n",
       "      <td>4</td>\n",
       "    </tr>\n",
       "  </tbody>\n",
       "</table>\n",
       "</div>"
      ],
      "text/plain": [
       "   var1  var0  var2  var3  var4\n",
       "a     6     0     2     3     8\n",
       "b     0     0     4     9     2\n",
       "c     4     0     1     8     1\n",
       "d     7     0     4     9     2\n",
       "e     2     0     6     2     3\n",
       "f     8     0     2     3     4"
      ]
     },
     "execution_count": 297,
     "metadata": {},
     "output_type": "execute_result"
    }
   ],
   "source": [
    "s1 = np.random.randint(10, size=5)\n",
    "s2 = np.random.randint(10, size=5)\n",
    "s3 = np.random.randint(10, size=5)\n",
    "dictionary = {\"var1\": s1 , \"var2\": s2 , \"var3\": s3}\n",
    "\n",
    "df = pd.DataFrame(dictionary)\n",
    "df.index = [\"a\", \"b\", \"c\", \"d\", \"e\"]\n",
    "\n",
    "df.loc[\"f\"] = [8,2,3]\n",
    "df[\"var4\"] = [8,2,3,4,5,6]\n",
    "\n",
    "df = df.assign(var4=[8,2,1,2,3,4])\n",
    "df.insert(1, \"var0\", [0, 0, 0, 0, 0, 0])\n",
    "\n",
    "\n",
    "df"
   ]
  },
  {
   "cell_type": "markdown",
   "id": "82a083fc-d5d2-43dd-9f64-0d29dad369aa",
   "metadata": {},
   "source": [
    "<hr style=\"border: 1px solid red;\">\n",
    "\n",
    "### **Koşullu Eleman İşlemleri**\n",
    "\n",
    "#### **Koşullu Listeleme:**\n",
    "* df[df.var1 > 5] **->** 'var1' sütunundaki 5'ten büyük olan **tüm sütunları** listeler sadece var1'i değil\n",
    "* df[df.var1 > 5][\"var1\"] **->** **var1 altındaki** de 5ten büyük olan var1 altındaki değerleri listeler\n",
    "* df.loc[(df.var1>5), [\"var1\", \"var2\"]] **->** var1 sütunundaki 5'ten büyük olan değelerin bulunduğu var1 ve var2 sütununu listeler\n",
    "* df[df.var1>5][[\"var1\", \"var2\"]] **->** Yukarıdaki işlemle aynı\n",
    "> ***\n",
    "* df[(df.var1 > 5) & (df.var4 >2)] **->** Birden fazla koşul ekleyebiliriz\n",
    "\n",
    "#### **Ekleme/Güncelleme:**\n",
    "* df.loc[df[\"var1\"] > 5, \"var3\"] = -1  **->** 'var1' sütununda değeri 5'ten büyük olan satırların 'var3' sütununu -1 yap"
   ]
  },
  {
   "cell_type": "code",
   "execution_count": 314,
   "id": "24b7cd21-84db-4ebb-a744-682a111ec31d",
   "metadata": {},
   "outputs": [
    {
     "data": {
      "text/html": [
       "<div>\n",
       "<style scoped>\n",
       "    .dataframe tbody tr th:only-of-type {\n",
       "        vertical-align: middle;\n",
       "    }\n",
       "\n",
       "    .dataframe tbody tr th {\n",
       "        vertical-align: top;\n",
       "    }\n",
       "\n",
       "    .dataframe thead th {\n",
       "        text-align: right;\n",
       "    }\n",
       "</style>\n",
       "<table border=\"1\" class=\"dataframe\">\n",
       "  <thead>\n",
       "    <tr style=\"text-align: right;\">\n",
       "      <th></th>\n",
       "      <th>var1</th>\n",
       "      <th>var3</th>\n",
       "    </tr>\n",
       "  </thead>\n",
       "  <tbody>\n",
       "    <tr>\n",
       "      <th>a</th>\n",
       "      <td>6</td>\n",
       "      <td>3</td>\n",
       "    </tr>\n",
       "    <tr>\n",
       "      <th>d</th>\n",
       "      <td>7</td>\n",
       "      <td>9</td>\n",
       "    </tr>\n",
       "    <tr>\n",
       "      <th>f</th>\n",
       "      <td>8</td>\n",
       "      <td>3</td>\n",
       "    </tr>\n",
       "  </tbody>\n",
       "</table>\n",
       "</div>"
      ],
      "text/plain": [
       "   var1  var3\n",
       "a     6     3\n",
       "d     7     9\n",
       "f     8     3"
      ]
     },
     "execution_count": 314,
     "metadata": {},
     "output_type": "execute_result"
    }
   ],
   "source": [
    "df[df.var1>5][[\"var1\", \"var3\"]]"
   ]
  },
  {
   "cell_type": "code",
   "execution_count": 341,
   "id": "aae66804-be72-4faa-b18f-47243efe9e15",
   "metadata": {},
   "outputs": [],
   "source": [
    "m = np.random.randint(1,30, (5,3))\n",
    "df = pd.DataFrame(m, columns=[\"var1\", \"var2\", \"var3\"]) # Sonraki adımlar için df'yi güncelledim"
   ]
  },
  {
   "cell_type": "markdown",
   "id": "3afef9c1-bdfd-4ee4-84e3-5a45e0e764eb",
   "metadata": {},
   "source": [
    "<hr style=\"border: 1px solid blue;\">\n",
    "\n",
    "#### **Index Bazlı Birleştirme (Join)**\n",
    "* **Index bazlı birleştirme yapar**\n",
    "* df2 = df + 99  **->** df'nin tüm elemanlarına 99 ekler ve bu iki DataFrame'i birleştirmek istersek:\n",
    "  > pd.concat([df, df2])\n",
    "  >> Ama burada şöyle bir sorun var, iki DF'i de aynı indexlerle birleştirir yani iki defa 0'dan 4'e gider: **ignore_index**\n",
    "  >> * pd.concat([df, df2], ignore_index=True)\n",
    "\n",
    "* Peki iki arrayde de aynı kolon ismine sahip değilse veya birisi 3x5 diğeri 4x4 ise ne olacak:\n",
    "  > pd.concat([df, df2], join=\"inner\") **->** iki DF arasındaki aynı olan kolon isimlerini birleştirir"
   ]
  },
  {
   "cell_type": "code",
   "execution_count": 352,
   "id": "9f8edf94-11dd-4bb6-bead-c54925737a12",
   "metadata": {},
   "outputs": [
    {
     "data": {
      "text/html": [
       "<div>\n",
       "<style scoped>\n",
       "    .dataframe tbody tr th:only-of-type {\n",
       "        vertical-align: middle;\n",
       "    }\n",
       "\n",
       "    .dataframe tbody tr th {\n",
       "        vertical-align: top;\n",
       "    }\n",
       "\n",
       "    .dataframe thead th {\n",
       "        text-align: right;\n",
       "    }\n",
       "</style>\n",
       "<table border=\"1\" class=\"dataframe\">\n",
       "  <thead>\n",
       "    <tr style=\"text-align: right;\">\n",
       "      <th></th>\n",
       "      <th>var1</th>\n",
       "      <th>var2</th>\n",
       "      <th>var3</th>\n",
       "    </tr>\n",
       "  </thead>\n",
       "  <tbody>\n",
       "    <tr>\n",
       "      <th>0</th>\n",
       "      <td>26</td>\n",
       "      <td>9</td>\n",
       "      <td>17</td>\n",
       "    </tr>\n",
       "    <tr>\n",
       "      <th>1</th>\n",
       "      <td>6</td>\n",
       "      <td>19</td>\n",
       "      <td>21</td>\n",
       "    </tr>\n",
       "    <tr>\n",
       "      <th>2</th>\n",
       "      <td>1</td>\n",
       "      <td>13</td>\n",
       "      <td>16</td>\n",
       "    </tr>\n",
       "    <tr>\n",
       "      <th>3</th>\n",
       "      <td>8</td>\n",
       "      <td>10</td>\n",
       "      <td>11</td>\n",
       "    </tr>\n",
       "    <tr>\n",
       "      <th>4</th>\n",
       "      <td>14</td>\n",
       "      <td>21</td>\n",
       "      <td>19</td>\n",
       "    </tr>\n",
       "    <tr>\n",
       "      <th>0</th>\n",
       "      <td>31</td>\n",
       "      <td>14</td>\n",
       "      <td>22</td>\n",
       "    </tr>\n",
       "    <tr>\n",
       "      <th>1</th>\n",
       "      <td>11</td>\n",
       "      <td>24</td>\n",
       "      <td>26</td>\n",
       "    </tr>\n",
       "    <tr>\n",
       "      <th>2</th>\n",
       "      <td>6</td>\n",
       "      <td>18</td>\n",
       "      <td>21</td>\n",
       "    </tr>\n",
       "    <tr>\n",
       "      <th>3</th>\n",
       "      <td>13</td>\n",
       "      <td>15</td>\n",
       "      <td>16</td>\n",
       "    </tr>\n",
       "    <tr>\n",
       "      <th>4</th>\n",
       "      <td>19</td>\n",
       "      <td>26</td>\n",
       "      <td>24</td>\n",
       "    </tr>\n",
       "  </tbody>\n",
       "</table>\n",
       "</div>"
      ],
      "text/plain": [
       "   var1  var2  var3\n",
       "0    26     9    17\n",
       "1     6    19    21\n",
       "2     1    13    16\n",
       "3     8    10    11\n",
       "4    14    21    19\n",
       "0    31    14    22\n",
       "1    11    24    26\n",
       "2     6    18    21\n",
       "3    13    15    16\n",
       "4    19    26    24"
      ]
     },
     "execution_count": 352,
     "metadata": {},
     "output_type": "execute_result"
    }
   ],
   "source": [
    "df2 = df + 5\n",
    "pd.concat([df, df2])\n",
    "pd.concat([df, df2], ignore_index=True)\n",
    "pd.concat([df, df2], join=\"inner\")"
   ]
  },
  {
   "cell_type": "markdown",
   "id": "88acb20a-b63a-4846-ac6d-2f7351dfc3d5",
   "metadata": {},
   "source": [
    "* Tüm Sütunları Birleştirmek:\n",
    "  > pd.concat( [df, df2], join=\"outer\", axis=0 ) **->** Aynı isimde olsun olmasın tüm kolonları basar ve kesişmeyenlere 'NaN'\n",
    " yazar\n",
    "\n",
    "* Belirli Sütunları Birleştirmek:\n",
    "  > pd.concat( [df, df2.reindex(columns=df.columns)], axis=0 ) **->** Yine kesişen elemanları birleştirir ama onların dışında 'df' DF'inin tüm kolonlarını yazdırır, ve kesişmeyen kısımlara 'NaN' yazdırır."
   ]
  },
  {
   "cell_type": "code",
   "execution_count": 387,
   "id": "5f19dfea-a456-430d-a803-b4750a687b10",
   "metadata": {},
   "outputs": [
    {
     "data": {
      "text/html": [
       "<div>\n",
       "<style scoped>\n",
       "    .dataframe tbody tr th:only-of-type {\n",
       "        vertical-align: middle;\n",
       "    }\n",
       "\n",
       "    .dataframe tbody tr th {\n",
       "        vertical-align: top;\n",
       "    }\n",
       "\n",
       "    .dataframe thead th {\n",
       "        text-align: right;\n",
       "    }\n",
       "</style>\n",
       "<table border=\"1\" class=\"dataframe\">\n",
       "  <thead>\n",
       "    <tr style=\"text-align: right;\">\n",
       "      <th></th>\n",
       "      <th>var1</th>\n",
       "      <th>var2</th>\n",
       "      <th>var3</th>\n",
       "    </tr>\n",
       "  </thead>\n",
       "  <tbody>\n",
       "    <tr>\n",
       "      <th>0</th>\n",
       "      <td>26</td>\n",
       "      <td>9</td>\n",
       "      <td>17.0</td>\n",
       "    </tr>\n",
       "    <tr>\n",
       "      <th>1</th>\n",
       "      <td>6</td>\n",
       "      <td>19</td>\n",
       "      <td>21.0</td>\n",
       "    </tr>\n",
       "    <tr>\n",
       "      <th>2</th>\n",
       "      <td>1</td>\n",
       "      <td>13</td>\n",
       "      <td>16.0</td>\n",
       "    </tr>\n",
       "    <tr>\n",
       "      <th>3</th>\n",
       "      <td>8</td>\n",
       "      <td>10</td>\n",
       "      <td>11.0</td>\n",
       "    </tr>\n",
       "    <tr>\n",
       "      <th>4</th>\n",
       "      <td>14</td>\n",
       "      <td>21</td>\n",
       "      <td>19.0</td>\n",
       "    </tr>\n",
       "    <tr>\n",
       "      <th>0</th>\n",
       "      <td>31</td>\n",
       "      <td>14</td>\n",
       "      <td>NaN</td>\n",
       "    </tr>\n",
       "    <tr>\n",
       "      <th>1</th>\n",
       "      <td>11</td>\n",
       "      <td>24</td>\n",
       "      <td>NaN</td>\n",
       "    </tr>\n",
       "    <tr>\n",
       "      <th>2</th>\n",
       "      <td>6</td>\n",
       "      <td>18</td>\n",
       "      <td>NaN</td>\n",
       "    </tr>\n",
       "    <tr>\n",
       "      <th>3</th>\n",
       "      <td>13</td>\n",
       "      <td>15</td>\n",
       "      <td>NaN</td>\n",
       "    </tr>\n",
       "    <tr>\n",
       "      <th>4</th>\n",
       "      <td>19</td>\n",
       "      <td>26</td>\n",
       "      <td>NaN</td>\n",
       "    </tr>\n",
       "  </tbody>\n",
       "</table>\n",
       "</div>"
      ],
      "text/plain": [
       "   var1  var2  var3\n",
       "0    26     9  17.0\n",
       "1     6    19  21.0\n",
       "2     1    13  16.0\n",
       "3     8    10  11.0\n",
       "4    14    21  19.0\n",
       "0    31    14   NaN\n",
       "1    11    24   NaN\n",
       "2     6    18   NaN\n",
       "3    13    15   NaN\n",
       "4    19    26   NaN"
      ]
     },
     "execution_count": 387,
     "metadata": {},
     "output_type": "execute_result"
    }
   ],
   "source": [
    "df2.columns = [\"var1\", \"var2\", \"clm\"] #Burada pd2'nin kolon isimlerini değiştirdik.\n",
    "\n",
    "pd.concat( [df, df2.reindex(columns=df.columns)], axis=0 )"
   ]
  },
  {
   "cell_type": "markdown",
   "id": "e61576c0-4b6e-4994-9165-2c4d1d6a10d4",
   "metadata": {},
   "source": [
    "<hr style=\"border: 1px solid blue;\">\n",
    "\n",
    "#### **Sütun Bazlı Birleştirme (merge)**\n",
    "* Birleştirmelerin hangi değişkene göre yapılacağını kendisi anlıyor\n",
    "  > pd.merge(df1, df2) **->** Ortak olan sütunun yanına ortak olmayan sütunları da ekler\n",
    "\n",
    "* Eğer birleştirilecek değişkeni belirtmek istersek:\n",
    "  > pd.merge(df1, df2, on='employees')"
   ]
  },
  {
   "cell_type": "code",
   "execution_count": 466,
   "id": "dc7d1b2e-0cf9-47a5-81cf-72914c65ea42",
   "metadata": {},
   "outputs": [
    {
     "data": {
      "text/html": [
       "<div>\n",
       "<style scoped>\n",
       "    .dataframe tbody tr th:only-of-type {\n",
       "        vertical-align: middle;\n",
       "    }\n",
       "\n",
       "    .dataframe tbody tr th {\n",
       "        vertical-align: top;\n",
       "    }\n",
       "\n",
       "    .dataframe thead th {\n",
       "        text-align: right;\n",
       "    }\n",
       "</style>\n",
       "<table border=\"1\" class=\"dataframe\">\n",
       "  <thead>\n",
       "    <tr style=\"text-align: right;\">\n",
       "      <th></th>\n",
       "      <th>Employees</th>\n",
       "      <th>Department</th>\n",
       "      <th>Salaries</th>\n",
       "    </tr>\n",
       "  </thead>\n",
       "  <tbody>\n",
       "    <tr>\n",
       "      <th>0</th>\n",
       "      <td>Eray</td>\n",
       "      <td>IT</td>\n",
       "      <td>59000</td>\n",
       "    </tr>\n",
       "    <tr>\n",
       "      <th>1</th>\n",
       "      <td>Salih</td>\n",
       "      <td>IT</td>\n",
       "      <td>45000</td>\n",
       "    </tr>\n",
       "    <tr>\n",
       "      <th>2</th>\n",
       "      <td>Selin</td>\n",
       "      <td>HR</td>\n",
       "      <td>32000</td>\n",
       "    </tr>\n",
       "    <tr>\n",
       "      <th>3</th>\n",
       "      <td>Gizem</td>\n",
       "      <td>Finance</td>\n",
       "      <td>54000</td>\n",
       "    </tr>\n",
       "  </tbody>\n",
       "</table>\n",
       "</div>"
      ],
      "text/plain": [
       "  Employees Department Salaries\n",
       "0      Eray         IT    59000\n",
       "1     Salih         IT    45000\n",
       "2     Selin         HR    32000\n",
       "3     Gizem    Finance    54000"
      ]
     },
     "execution_count": 466,
     "metadata": {},
     "output_type": "execute_result"
    }
   ],
   "source": [
    "df1 = pd.DataFrame( {'Employees': ['Eray', 'Salih', 'Selin', 'Gizem'],\n",
    "                   'Department': ['IT', 'IT', 'HR', 'Finance']} )\n",
    "\n",
    "df2 = pd.DataFrame( {'Employees': ['Eray', 'Salih', 'Selin', 'Gizem'],\n",
    "                   'Salaries': ['59000', '45000', '32000', '54000']} )\n",
    "\n",
    "pd.merge(df1, df2)"
   ]
  },
  {
   "cell_type": "markdown",
   "id": "46d0eeda-65de-4035-9935-8610faf6ffd2",
   "metadata": {},
   "source": [
    "***\n",
    "##### **Many to One Birleştirme:**\n",
    "* Aynı sayıda eleman içerese de ortak olanları yine de birleştirir. Mesela aşadıda Salih'in Manager bilhisi girilmemesine rağmen IT departmanında olduğu için, ve biz de 'Department' üzerinden bir merge yaptığımız için, IT departmanında çalışan tüm kişilerin 'Manager'ini Caner yapar"
   ]
  },
  {
   "cell_type": "code",
   "execution_count": 468,
   "id": "549358c9-0cde-4fcb-be3f-69ab2f13d20c",
   "metadata": {},
   "outputs": [
    {
     "data": {
      "text/html": [
       "<div>\n",
       "<style scoped>\n",
       "    .dataframe tbody tr th:only-of-type {\n",
       "        vertical-align: middle;\n",
       "    }\n",
       "\n",
       "    .dataframe tbody tr th {\n",
       "        vertical-align: top;\n",
       "    }\n",
       "\n",
       "    .dataframe thead th {\n",
       "        text-align: right;\n",
       "    }\n",
       "</style>\n",
       "<table border=\"1\" class=\"dataframe\">\n",
       "  <thead>\n",
       "    <tr style=\"text-align: right;\">\n",
       "      <th></th>\n",
       "      <th>Employees</th>\n",
       "      <th>Department</th>\n",
       "      <th>Salaries</th>\n",
       "      <th>Manager</th>\n",
       "    </tr>\n",
       "  </thead>\n",
       "  <tbody>\n",
       "    <tr>\n",
       "      <th>0</th>\n",
       "      <td>Eray</td>\n",
       "      <td>IT</td>\n",
       "      <td>59000</td>\n",
       "      <td>Caner</td>\n",
       "    </tr>\n",
       "    <tr>\n",
       "      <th>1</th>\n",
       "      <td>Salih</td>\n",
       "      <td>IT</td>\n",
       "      <td>45000</td>\n",
       "      <td>Caner</td>\n",
       "    </tr>\n",
       "    <tr>\n",
       "      <th>2</th>\n",
       "      <td>Selin</td>\n",
       "      <td>HR</td>\n",
       "      <td>32000</td>\n",
       "      <td>Melike</td>\n",
       "    </tr>\n",
       "    <tr>\n",
       "      <th>3</th>\n",
       "      <td>Gizem</td>\n",
       "      <td>Finance</td>\n",
       "      <td>54000</td>\n",
       "      <td>Eray</td>\n",
       "    </tr>\n",
       "  </tbody>\n",
       "</table>\n",
       "</div>"
      ],
      "text/plain": [
       "  Employees Department Salaries Manager\n",
       "0      Eray         IT    59000   Caner\n",
       "1     Salih         IT    45000   Caner\n",
       "2     Selin         HR    32000  Melike\n",
       "3     Gizem    Finance    54000    Eray"
      ]
     },
     "execution_count": 468,
     "metadata": {},
     "output_type": "execute_result"
    }
   ],
   "source": [
    "df3 = pd.merge(df1, df2)\n",
    "df4 = pd.DataFrame( {'Department': ['IT', 'HR', 'Finance'],\n",
    "                    'Manager': ['Caner', 'Melike', 'Eray']} )\n",
    "\n",
    "pd.merge(df3, df4, on='Department') "
   ]
  },
  {
   "cell_type": "markdown",
   "id": "7bab3b35-f385-49c2-89b4-cc787f72d2ab",
   "metadata": {},
   "source": [
    "***\n",
    "##### **Many to One Birleştirme:**\n",
    "* Birleştirek istediğimiz DF'lerden birisinde bizim üzerine birleştirme yapacağımız kolon üzerinde birden fazla aynı isimlendirmeye sahip satır olabilir. Birleştirme yaparsak aynı isimden birden fazla sayıda verir"
   ]
  },
  {
   "cell_type": "code",
   "execution_count": 475,
   "id": "e307cf0a-979c-4c89-9514-127c4c2acf11",
   "metadata": {},
   "outputs": [
    {
     "data": {
      "text/html": [
       "<div>\n",
       "<style scoped>\n",
       "    .dataframe tbody tr th:only-of-type {\n",
       "        vertical-align: middle;\n",
       "    }\n",
       "\n",
       "    .dataframe tbody tr th {\n",
       "        vertical-align: top;\n",
       "    }\n",
       "\n",
       "    .dataframe thead th {\n",
       "        text-align: right;\n",
       "    }\n",
       "</style>\n",
       "<table border=\"1\" class=\"dataframe\">\n",
       "  <thead>\n",
       "    <tr style=\"text-align: right;\">\n",
       "      <th></th>\n",
       "      <th>Employees</th>\n",
       "      <th>Department</th>\n",
       "      <th>Skills</th>\n",
       "    </tr>\n",
       "  </thead>\n",
       "  <tbody>\n",
       "    <tr>\n",
       "      <th>0</th>\n",
       "      <td>Eray</td>\n",
       "      <td>IT</td>\n",
       "      <td>Python</td>\n",
       "    </tr>\n",
       "    <tr>\n",
       "      <th>1</th>\n",
       "      <td>Eray</td>\n",
       "      <td>IT</td>\n",
       "      <td>C#</td>\n",
       "    </tr>\n",
       "    <tr>\n",
       "      <th>2</th>\n",
       "      <td>Salih</td>\n",
       "      <td>IT</td>\n",
       "      <td>Python</td>\n",
       "    </tr>\n",
       "    <tr>\n",
       "      <th>3</th>\n",
       "      <td>Salih</td>\n",
       "      <td>IT</td>\n",
       "      <td>C#</td>\n",
       "    </tr>\n",
       "    <tr>\n",
       "      <th>4</th>\n",
       "      <td>Selin</td>\n",
       "      <td>HR</td>\n",
       "      <td>Miring</td>\n",
       "    </tr>\n",
       "    <tr>\n",
       "      <th>5</th>\n",
       "      <td>Gizem</td>\n",
       "      <td>Finance</td>\n",
       "      <td>Math</td>\n",
       "    </tr>\n",
       "    <tr>\n",
       "      <th>6</th>\n",
       "      <td>Gizem</td>\n",
       "      <td>Finance</td>\n",
       "      <td>Excel</td>\n",
       "    </tr>\n",
       "  </tbody>\n",
       "</table>\n",
       "</div>"
      ],
      "text/plain": [
       "  Employees Department  Skills\n",
       "0      Eray         IT  Python\n",
       "1      Eray         IT      C#\n",
       "2     Salih         IT  Python\n",
       "3     Salih         IT      C#\n",
       "4     Selin         HR  Miring\n",
       "5     Gizem    Finance    Math\n",
       "6     Gizem    Finance   Excel"
      ]
     },
     "execution_count": 475,
     "metadata": {},
     "output_type": "execute_result"
    }
   ],
   "source": [
    "df5 = pd.DataFrame( {'Department': ['Finance', 'Finance', 'IT', 'IT', 'HR'],\n",
    "                    'Skills': ['Math', 'Excel', 'Python', 'C#', 'Miring']} )\n",
    "pd.merge(df1, df5)"
   ]
  },
  {
   "cell_type": "markdown",
   "id": "3eaa7f87-0081-4c96-a9a9-d9cbae40b97d",
   "metadata": {},
   "source": [
    "<hr style=\"border: 1px solid red;\">\n",
    "\n",
    "## **Toplulaştırma ve Gruplama (Aggregation & Grouping)**\n",
    "* Öncelikle aşağıda 'Seaborn' kütüphanesini import edeceğiz\n",
    "* Ve seaborn üzerinden 'Planet' veri setini yükleyeceğiz\n",
    "  > * Yükleyebileceğimiz veri setlerini aşağıdaki siteden bulabiliriz:\n",
    "      https://github.com/nwaskon/seaborn-data\n",
    "\n",
    "#### **Basit Aggregation Fonksiyonları:**\n",
    "* count() **->** Her bir değişken için kaç tane değer olduğunu verir\n",
    "* first()\n",
    "* last()\n",
    "* mean() **->** Her bir değerin ortalamasını verir. İstersek df[\"mass\"].mean() yaparak belirli bir değerin ortalamasını da alabiliriz\n",
    "* median()\n",
    "* min()\n",
    "* max()\n",
    "* std() **->** Standart sapması\n",
    "* var() **->** Varyansı\n",
    "#####\n",
    "* İşte bunların hepsini tek bir fonksiyon ile de alabiliriz: **df.describe()**\n",
    "  > İstersek tabloyu ters çevirerek(Transpose) daha okunaklı bir hale de getirebiliriz: df.describe().T"
   ]
  },
  {
   "cell_type": "code",
   "execution_count": 68,
   "id": "541fb3d3-2589-4f07-9c61-b7a73a29bf7a",
   "metadata": {},
   "outputs": [
    {
     "data": {
      "text/plain": [
       "513"
      ]
     },
     "execution_count": 68,
     "metadata": {},
     "output_type": "execute_result"
    }
   ],
   "source": [
    "import seaborn as sns\n",
    "df = sns.load_dataset(\"planets\")\n",
    "df[\"mass\"].count()"
   ]
  },
  {
   "cell_type": "code",
   "execution_count": 72,
   "id": "99fb4d2d-8668-49bd-83ff-8bb8dcc45ee0",
   "metadata": {},
   "outputs": [
    {
     "data": {
      "text/html": [
       "<div>\n",
       "<style scoped>\n",
       "    .dataframe tbody tr th:only-of-type {\n",
       "        vertical-align: middle;\n",
       "    }\n",
       "\n",
       "    .dataframe tbody tr th {\n",
       "        vertical-align: top;\n",
       "    }\n",
       "\n",
       "    .dataframe thead th {\n",
       "        text-align: right;\n",
       "    }\n",
       "</style>\n",
       "<table border=\"1\" class=\"dataframe\">\n",
       "  <thead>\n",
       "    <tr style=\"text-align: right;\">\n",
       "      <th></th>\n",
       "      <th>number</th>\n",
       "      <th>orbital_period</th>\n",
       "      <th>mass</th>\n",
       "      <th>distance</th>\n",
       "      <th>year</th>\n",
       "    </tr>\n",
       "  </thead>\n",
       "  <tbody>\n",
       "    <tr>\n",
       "      <th>count</th>\n",
       "      <td>1035.000000</td>\n",
       "      <td>992.000000</td>\n",
       "      <td>513.000000</td>\n",
       "      <td>808.000000</td>\n",
       "      <td>1035.000000</td>\n",
       "    </tr>\n",
       "    <tr>\n",
       "      <th>mean</th>\n",
       "      <td>1.785507</td>\n",
       "      <td>2002.917596</td>\n",
       "      <td>2.638161</td>\n",
       "      <td>264.069282</td>\n",
       "      <td>2009.070531</td>\n",
       "    </tr>\n",
       "    <tr>\n",
       "      <th>std</th>\n",
       "      <td>1.240976</td>\n",
       "      <td>26014.728304</td>\n",
       "      <td>3.818617</td>\n",
       "      <td>733.116493</td>\n",
       "      <td>3.972567</td>\n",
       "    </tr>\n",
       "    <tr>\n",
       "      <th>min</th>\n",
       "      <td>1.000000</td>\n",
       "      <td>0.090706</td>\n",
       "      <td>0.003600</td>\n",
       "      <td>1.350000</td>\n",
       "      <td>1989.000000</td>\n",
       "    </tr>\n",
       "    <tr>\n",
       "      <th>25%</th>\n",
       "      <td>1.000000</td>\n",
       "      <td>5.442540</td>\n",
       "      <td>0.229000</td>\n",
       "      <td>32.560000</td>\n",
       "      <td>2007.000000</td>\n",
       "    </tr>\n",
       "    <tr>\n",
       "      <th>50%</th>\n",
       "      <td>1.000000</td>\n",
       "      <td>39.979500</td>\n",
       "      <td>1.260000</td>\n",
       "      <td>55.250000</td>\n",
       "      <td>2010.000000</td>\n",
       "    </tr>\n",
       "    <tr>\n",
       "      <th>75%</th>\n",
       "      <td>2.000000</td>\n",
       "      <td>526.005000</td>\n",
       "      <td>3.040000</td>\n",
       "      <td>178.500000</td>\n",
       "      <td>2012.000000</td>\n",
       "    </tr>\n",
       "    <tr>\n",
       "      <th>max</th>\n",
       "      <td>7.000000</td>\n",
       "      <td>730000.000000</td>\n",
       "      <td>25.000000</td>\n",
       "      <td>8500.000000</td>\n",
       "      <td>2014.000000</td>\n",
       "    </tr>\n",
       "  </tbody>\n",
       "</table>\n",
       "</div>"
      ],
      "text/plain": [
       "            number  orbital_period        mass     distance         year\n",
       "count  1035.000000      992.000000  513.000000   808.000000  1035.000000\n",
       "mean      1.785507     2002.917596    2.638161   264.069282  2009.070531\n",
       "std       1.240976    26014.728304    3.818617   733.116493     3.972567\n",
       "min       1.000000        0.090706    0.003600     1.350000  1989.000000\n",
       "25%       1.000000        5.442540    0.229000    32.560000  2007.000000\n",
       "50%       1.000000       39.979500    1.260000    55.250000  2010.000000\n",
       "75%       2.000000      526.005000    3.040000   178.500000  2012.000000\n",
       "max       7.000000   730000.000000   25.000000  8500.000000  2014.000000"
      ]
     },
     "execution_count": 72,
     "metadata": {},
     "output_type": "execute_result"
    }
   ],
   "source": [
    "df.describe()"
   ]
  },
  {
   "cell_type": "markdown",
   "id": "022e3e3d-f354-457e-9ad9-eb6733913244",
   "metadata": {},
   "source": [
    "<hr style=\"border: 1px solid blue;\">\n",
    "\n",
    "#### **Basit Grouping İşlemleri:**\n",
    "* Aşağıdaki yapacağımız işlemlerde A,B ve C şubelerinden ikişer öğrencinin notları elimizde olan bir DataFrame olacak\n",
    "* İşte burada gruplama yapalım:\n",
    "  > df.groupby(\"şubeler\")\n",
    "* İşte bu yukarıda yaptığımız groupby() işlemi bir gruplamadır ama Aggregation olmadan anlamsızdır o yüzden her şubenin ortalamasını bulmak için aggregation işlemi de yapalım\n",
    "  > df.groupby(\"şubeler\").mean()\n",
    ">\n",
    "* Basit bir örnek üzerinden konuyu anladığımıza göre yularıdaki planet veri setinden her 'Method'un 'orbital_period' ortalamasını alalım:\n",
    "  > df.groupby(\"method\")[\"orbital_period\"].mean()"
   ]
  },
  {
   "cell_type": "code",
   "execution_count": 64,
   "id": "af7c88e7-3f80-4819-8667-c78e2bd58cf6",
   "metadata": {},
   "outputs": [
    {
     "data": {
      "text/html": [
       "<div>\n",
       "<style scoped>\n",
       "    .dataframe tbody tr th:only-of-type {\n",
       "        vertical-align: middle;\n",
       "    }\n",
       "\n",
       "    .dataframe tbody tr th {\n",
       "        vertical-align: top;\n",
       "    }\n",
       "\n",
       "    .dataframe thead th {\n",
       "        text-align: right;\n",
       "    }\n",
       "</style>\n",
       "<table border=\"1\" class=\"dataframe\">\n",
       "  <thead>\n",
       "    <tr style=\"text-align: right;\">\n",
       "      <th></th>\n",
       "      <th>veri</th>\n",
       "    </tr>\n",
       "    <tr>\n",
       "      <th>şubeler</th>\n",
       "      <th></th>\n",
       "    </tr>\n",
       "  </thead>\n",
       "  <tbody>\n",
       "    <tr>\n",
       "      <th>A</th>\n",
       "      <td>41.5</td>\n",
       "    </tr>\n",
       "    <tr>\n",
       "      <th>B</th>\n",
       "      <td>27.0</td>\n",
       "    </tr>\n",
       "    <tr>\n",
       "      <th>C</th>\n",
       "      <td>53.5</td>\n",
       "    </tr>\n",
       "  </tbody>\n",
       "</table>\n",
       "</div>"
      ],
      "text/plain": [
       "         veri\n",
       "şubeler      \n",
       "A        41.5\n",
       "B        27.0\n",
       "C        53.5"
      ]
     },
     "execution_count": 64,
     "metadata": {},
     "output_type": "execute_result"
    }
   ],
   "source": [
    "import pandas as pd\n",
    "df = pd.DataFrame({'şubeler': ['A', 'B', 'C', 'A', 'B', 'C'], 'veri': [60,11,52,23,43,55]}, columns=['şubeler', 'veri'])\n",
    "df.groupby(\"şubeler\").mean()"
   ]
  },
  {
   "cell_type": "markdown",
   "id": "feb44ba8-1bac-47b9-ba06-c60185bc7e70",
   "metadata": {},
   "source": [
    "<hr style=\"border: 1px solid blue;\">\n",
    "\n",
    "### **İleri Aggregation İşlemleri (Filter, Transform, Apply)**\n",
    "* Bazen bir değişkenin üzerinde öyle bir işlem yapmamız gerekiyor ki bu mevcut Pandas yapılarıyla tanımlanmamış oluyor işte bu yüzden ileri düzey aggregation işlemlerine ihtiyaç duyuyoruz.\n",
    "* Şimdi aşağıda oluşturmuş olduğum df adındaki DF üzerinden min, median ve max değerlerini elde edelim:\n",
    "  > min ve max 'Aggregation'ın birer parçaları ama 'median' bir NumPy fonksiyonudur o yüzden şu şekilde çağırmalıyız (\"min\", np.median, \"max\")\n",
    "  >> min veya max'ı tırnak içerisine almasak da olur ama alsak daha iyi\n",
    "* Peki biz var1 için farklı var2 için farklı bir istatistik verileri elde etmek istersek: Dictionary kullanmalıyız\n",
    "  > df.groupby(\"groups\").aggregate( {'var1': [\"min\", \"max\"], 'var2': [\"min\", np.median, \"max\"]} )"
   ]
  },
  {
   "cell_type": "code",
   "execution_count": 38,
   "id": "07cc6598-eb42-4068-8557-9ab7ef2e05e9",
   "metadata": {},
   "outputs": [
    {
     "name": "stderr",
     "output_type": "stream",
     "text": [
      "/var/folders/8t/_v6tn9mj28d6v4qkjfcq5phw0000gn/T/ipykernel_1693/241282647.py:8: FutureWarning: The provided callable <function median at 0x113466c00> is currently using SeriesGroupBy.median. In a future version of pandas, the provided callable will be used directly. To keep current behavior pass the string \"median\" instead.\n",
      "  df.groupby(\"groups\").aggregate([\"min\", np.median, max])\n",
      "/var/folders/8t/_v6tn9mj28d6v4qkjfcq5phw0000gn/T/ipykernel_1693/241282647.py:8: FutureWarning: The provided callable <built-in function max> is currently using SeriesGroupBy.max. In a future version of pandas, the provided callable will be used directly. To keep current behavior pass the string \"max\" instead.\n",
      "  df.groupby(\"groups\").aggregate([\"min\", np.median, max])\n",
      "/var/folders/8t/_v6tn9mj28d6v4qkjfcq5phw0000gn/T/ipykernel_1693/241282647.py:9: FutureWarning: The provided callable <function median at 0x113466c00> is currently using SeriesGroupBy.median. In a future version of pandas, the provided callable will be used directly. To keep current behavior pass the string \"median\" instead.\n",
      "  df.groupby(\"groups\").aggregate( {'var1': [\"min\", \"max\"],\n"
     ]
    },
    {
     "data": {
      "text/html": [
       "<div>\n",
       "<style scoped>\n",
       "    .dataframe tbody tr th:only-of-type {\n",
       "        vertical-align: middle;\n",
       "    }\n",
       "\n",
       "    .dataframe tbody tr th {\n",
       "        vertical-align: top;\n",
       "    }\n",
       "\n",
       "    .dataframe thead tr th {\n",
       "        text-align: left;\n",
       "    }\n",
       "\n",
       "    .dataframe thead tr:last-of-type th {\n",
       "        text-align: right;\n",
       "    }\n",
       "</style>\n",
       "<table border=\"1\" class=\"dataframe\">\n",
       "  <thead>\n",
       "    <tr>\n",
       "      <th></th>\n",
       "      <th colspan=\"2\" halign=\"left\">var1</th>\n",
       "      <th colspan=\"3\" halign=\"left\">var2</th>\n",
       "    </tr>\n",
       "    <tr>\n",
       "      <th></th>\n",
       "      <th>min</th>\n",
       "      <th>max</th>\n",
       "      <th>min</th>\n",
       "      <th>median</th>\n",
       "      <th>max</th>\n",
       "    </tr>\n",
       "    <tr>\n",
       "      <th>groups</th>\n",
       "      <th></th>\n",
       "      <th></th>\n",
       "      <th></th>\n",
       "      <th></th>\n",
       "      <th></th>\n",
       "    </tr>\n",
       "  </thead>\n",
       "  <tbody>\n",
       "    <tr>\n",
       "      <th>A</th>\n",
       "      <td>10</td>\n",
       "      <td>22</td>\n",
       "      <td>100</td>\n",
       "      <td>181.0</td>\n",
       "      <td>262</td>\n",
       "    </tr>\n",
       "    <tr>\n",
       "      <th>B</th>\n",
       "      <td>11</td>\n",
       "      <td>23</td>\n",
       "      <td>111</td>\n",
       "      <td>182.0</td>\n",
       "      <td>253</td>\n",
       "    </tr>\n",
       "    <tr>\n",
       "      <th>C</th>\n",
       "      <td>33</td>\n",
       "      <td>99</td>\n",
       "      <td>333</td>\n",
       "      <td>651.0</td>\n",
       "      <td>969</td>\n",
       "    </tr>\n",
       "  </tbody>\n",
       "</table>\n",
       "</div>"
      ],
      "text/plain": [
       "       var1     var2            \n",
       "        min max  min median  max\n",
       "groups                          \n",
       "A        10  22  100  181.0  262\n",
       "B        11  23  111  182.0  253\n",
       "C        33  99  333  651.0  969"
      ]
     },
     "execution_count": 38,
     "metadata": {},
     "output_type": "execute_result"
    }
   ],
   "source": [
    "import numpy as np\n",
    "import pandas as pd\n",
    "df = pd.DataFrame( {'groups': ['A', 'B', 'C', 'A', 'B', 'C'],\n",
    "                   'var1': [10,23,33,22,11,99],\n",
    "                   'var2': [100,253,333,262,111,969]},\n",
    "                 columns = ['groups', 'var1', 'var2'])\n",
    "\n",
    "df.groupby(\"groups\").aggregate([\"min\", np.median, max])\n",
    "\n",
    "df.groupby(\"groups\").aggregate( {'var1': [\"min\", \"max\"], \n",
    "                                 'var2': [\"min\", np.median, \"max\"]} )"
   ]
  },
  {
   "cell_type": "markdown",
   "id": "b470f17a-8686-480c-9f85-c6a6f55a864d",
   "metadata": {},
   "source": [
    "***\n",
    "#### **Filter**\n",
    "* Filtrelemek için fonkisyon oluşturup istediğimiz değişkenler üzerinden uygulayacağız çünkü bunları direkt değişken üzerinden yaparasak çok kod karmaşıklığı oluyor:"
   ]
  },
  {
   "cell_type": "code",
   "execution_count": null,
   "id": "beb3e958-1566-42f3-be6f-790396cfaf0a",
   "metadata": {},
   "outputs": [],
   "source": []
  },
  {
   "cell_type": "code",
   "execution_count": 52,
   "id": "f6b35725-e3f0-4bbc-bc7d-e5e46ec2a8a6",
   "metadata": {},
   "outputs": [
    {
     "data": {
      "text/html": [
       "<div>\n",
       "<style scoped>\n",
       "    .dataframe tbody tr th:only-of-type {\n",
       "        vertical-align: middle;\n",
       "    }\n",
       "\n",
       "    .dataframe tbody tr th {\n",
       "        vertical-align: top;\n",
       "    }\n",
       "\n",
       "    .dataframe thead th {\n",
       "        text-align: right;\n",
       "    }\n",
       "</style>\n",
       "<table border=\"1\" class=\"dataframe\">\n",
       "  <thead>\n",
       "    <tr style=\"text-align: right;\">\n",
       "      <th></th>\n",
       "      <th>groups</th>\n",
       "      <th>var1</th>\n",
       "      <th>var2</th>\n",
       "    </tr>\n",
       "  </thead>\n",
       "  <tbody>\n",
       "    <tr>\n",
       "      <th>2</th>\n",
       "      <td>C</td>\n",
       "      <td>33</td>\n",
       "      <td>333</td>\n",
       "    </tr>\n",
       "    <tr>\n",
       "      <th>5</th>\n",
       "      <td>C</td>\n",
       "      <td>99</td>\n",
       "      <td>969</td>\n",
       "    </tr>\n",
       "  </tbody>\n",
       "</table>\n",
       "</div>"
      ],
      "text/plain": [
       "  groups  var1  var2\n",
       "2      C    33   333\n",
       "5      C    99   969"
      ]
     },
     "execution_count": 52,
     "metadata": {},
     "output_type": "execute_result"
    }
   ],
   "source": [
    "def filter_func(x):\n",
    "    return x[\"var1\"].std() > 9 # Standart sapması 9dan büyük olan değerler \n",
    "\n",
    "df.groupby(\"groups\").filter(filter_func)"
   ]
  },
  {
   "cell_type": "code",
   "execution_count": null,
   "id": "1051e539-46e1-4a3c-9d96-c0b609b8df7d",
   "metadata": {},
   "outputs": [],
   "source": []
  },
  {
   "cell_type": "markdown",
   "id": "f9e50d17-be2c-484d-bbfa-b1fe3bf21539",
   "metadata": {},
   "source": [
    "***\n",
    "#### **Transform**\n",
    "* Bir DataFrame'in değişkenleri altındaki elemanlara bir dönüştürme(Transform) yapmak istiyoruz ve bu dönüştürme işlemini de kendimiz yapmak istiyoruz diyelim: Mesela her elemanı 9 ile çarpmak gibi ama bu zaten DataFrame Pandas içerisinde var:\n",
    "  > df.[\"var1\"]*9\n",
    "* İşte hazır olarak olmayan Transform işlemlerini kendimiz bir fonksiyon tanımlayarak yapmalıyız:\n",
    "  > lambda kullanarak isimsiz fonksiyon oluşturmayı da hatırlayalım:"
   ]
  },
  {
   "cell_type": "code",
   "execution_count": 55,
   "id": "d161d901-5a94-4262-8f3c-544bb8e3be60",
   "metadata": {},
   "outputs": [
    {
     "data": {
      "text/html": [
       "<div>\n",
       "<style scoped>\n",
       "    .dataframe tbody tr th:only-of-type {\n",
       "        vertical-align: middle;\n",
       "    }\n",
       "\n",
       "    .dataframe tbody tr th {\n",
       "        vertical-align: top;\n",
       "    }\n",
       "\n",
       "    .dataframe thead th {\n",
       "        text-align: right;\n",
       "    }\n",
       "</style>\n",
       "<table border=\"1\" class=\"dataframe\">\n",
       "  <thead>\n",
       "    <tr style=\"text-align: right;\">\n",
       "      <th></th>\n",
       "      <th>var1</th>\n",
       "      <th>var2</th>\n",
       "    </tr>\n",
       "  </thead>\n",
       "  <tbody>\n",
       "    <tr>\n",
       "      <th>0</th>\n",
       "      <td>-23.0</td>\n",
       "      <td>-238.0</td>\n",
       "    </tr>\n",
       "    <tr>\n",
       "      <th>1</th>\n",
       "      <td>-10.0</td>\n",
       "      <td>-85.0</td>\n",
       "    </tr>\n",
       "    <tr>\n",
       "      <th>2</th>\n",
       "      <td>0.0</td>\n",
       "      <td>-5.0</td>\n",
       "    </tr>\n",
       "    <tr>\n",
       "      <th>3</th>\n",
       "      <td>-11.0</td>\n",
       "      <td>-76.0</td>\n",
       "    </tr>\n",
       "    <tr>\n",
       "      <th>4</th>\n",
       "      <td>-22.0</td>\n",
       "      <td>-227.0</td>\n",
       "    </tr>\n",
       "    <tr>\n",
       "      <th>5</th>\n",
       "      <td>66.0</td>\n",
       "      <td>631.0</td>\n",
       "    </tr>\n",
       "  </tbody>\n",
       "</table>\n",
       "</div>"
      ],
      "text/plain": [
       "   var1   var2\n",
       "0 -23.0 -238.0\n",
       "1 -10.0  -85.0\n",
       "2   0.0   -5.0\n",
       "3 -11.0  -76.0\n",
       "4 -22.0 -227.0\n",
       "5  66.0  631.0"
      ]
     },
     "execution_count": 55,
     "metadata": {},
     "output_type": "execute_result"
    }
   ],
   "source": [
    "df_a = df.iloc[:, 1:3]  # Groups ifadesi matematiksel olmadığı için onsuz yapmalıyız hata vermemesi için:\n",
    "df_a.transform(lambda x: x-x.mean())"
   ]
  },
  {
   "cell_type": "markdown",
   "id": "027329e4-7317-4474-9293-51ca6c490be5",
   "metadata": {},
   "source": [
    "***\n",
    "#### **Apply**\n",
    "* Apply fonksiyonu, tıpkı transform fonksiyonu, filter fonksiyonu gibi DF'in değişkenleri üzerinde gezinme yeteneği olan ve Aggregation amacıyla kullanılabilen bir fonksiyondur.\n",
    "* Yine mesela df DataFrame'inin Group olmadan var1 ve var2 değerlerinin tüm elemanlarının toplamını yapalım:\n",
    "  > df_a.apply(np.sum)\n",
    "* Biz bunu Transform'da da yapabiliyorduk. Ama işte burada 'Group' variable'ı olsa da matematiksel işlem olmamasına rağmen toplar:\n",
    "  > df.groupby('groups').apply(np.sum)"
   ]
  },
  {
   "cell_type": "code",
   "execution_count": 63,
   "id": "fca18576-1544-40a1-b9fb-0665dd8bad51",
   "metadata": {},
   "outputs": [
    {
     "name": "stderr",
     "output_type": "stream",
     "text": [
      "/opt/anaconda3/lib/python3.12/site-packages/numpy/core/fromnumeric.py:86: FutureWarning: The behavior of DataFrame.sum with axis=None is deprecated, in a future version this will reduce over both axes and return a scalar. To retain the old behavior, pass axis=0 (or do not pass axis)\n",
      "  return reduction(axis=axis, out=out, **passkwargs)\n",
      "/opt/anaconda3/lib/python3.12/site-packages/numpy/core/fromnumeric.py:86: FutureWarning: The behavior of DataFrame.sum with axis=None is deprecated, in a future version this will reduce over both axes and return a scalar. To retain the old behavior, pass axis=0 (or do not pass axis)\n",
      "  return reduction(axis=axis, out=out, **passkwargs)\n",
      "/opt/anaconda3/lib/python3.12/site-packages/numpy/core/fromnumeric.py:86: FutureWarning: The behavior of DataFrame.sum with axis=None is deprecated, in a future version this will reduce over both axes and return a scalar. To retain the old behavior, pass axis=0 (or do not pass axis)\n",
      "  return reduction(axis=axis, out=out, **passkwargs)\n",
      "/var/folders/8t/_v6tn9mj28d6v4qkjfcq5phw0000gn/T/ipykernel_1693/3945069680.py:2: DeprecationWarning: DataFrameGroupBy.apply operated on the grouping columns. This behavior is deprecated, and in a future version of pandas the grouping columns will be excluded from the operation. Either pass `include_groups=False` to exclude the groupings or explicitly select the grouping columns after groupby to silence this warning.\n",
      "  df.groupby('groups').apply(np.sum)\n"
     ]
    },
    {
     "data": {
      "text/html": [
       "<div>\n",
       "<style scoped>\n",
       "    .dataframe tbody tr th:only-of-type {\n",
       "        vertical-align: middle;\n",
       "    }\n",
       "\n",
       "    .dataframe tbody tr th {\n",
       "        vertical-align: top;\n",
       "    }\n",
       "\n",
       "    .dataframe thead th {\n",
       "        text-align: right;\n",
       "    }\n",
       "</style>\n",
       "<table border=\"1\" class=\"dataframe\">\n",
       "  <thead>\n",
       "    <tr style=\"text-align: right;\">\n",
       "      <th></th>\n",
       "      <th>groups</th>\n",
       "      <th>var1</th>\n",
       "      <th>var2</th>\n",
       "    </tr>\n",
       "    <tr>\n",
       "      <th>groups</th>\n",
       "      <th></th>\n",
       "      <th></th>\n",
       "      <th></th>\n",
       "    </tr>\n",
       "  </thead>\n",
       "  <tbody>\n",
       "    <tr>\n",
       "      <th>A</th>\n",
       "      <td>AA</td>\n",
       "      <td>32</td>\n",
       "      <td>362</td>\n",
       "    </tr>\n",
       "    <tr>\n",
       "      <th>B</th>\n",
       "      <td>BB</td>\n",
       "      <td>34</td>\n",
       "      <td>364</td>\n",
       "    </tr>\n",
       "    <tr>\n",
       "      <th>C</th>\n",
       "      <td>CC</td>\n",
       "      <td>132</td>\n",
       "      <td>1302</td>\n",
       "    </tr>\n",
       "  </tbody>\n",
       "</table>\n",
       "</div>"
      ],
      "text/plain": [
       "       groups  var1  var2\n",
       "groups                   \n",
       "A          AA    32   362\n",
       "B          BB    34   364\n",
       "C          CC   132  1302"
      ]
     },
     "execution_count": 63,
     "metadata": {},
     "output_type": "execute_result"
    }
   ],
   "source": [
    "df_a.apply(np.sum)\n",
    "df.groupby('groups').apply(np.sum)"
   ]
  },
  {
   "cell_type": "markdown",
   "id": "a1303b8e-2d49-4cd6-93e2-6b6439dfb425",
   "metadata": {},
   "source": [
    "<hr style=\"border: 1px solid blue;\">\n",
    "\n",
    "#### **Pivot Tablolar**\n",
    "* Groupby fonksiyonu ile benzerdir ama bu onun çok fonksiyonlu hali diyebiliriz.\n",
    "\n",
    "#### * Önce groupby ile yapmak istediğimizi yapış şeklimize bakalım: \n",
    "* Aşağıdaki tabloda cinsiyete('sex') göre veriyi gruplayıp sağ kalma('survived') durumlarını inceleyelim:\n",
    "  > titanic.groupby('sex')[['survived']].mean()\n",
    ">\n",
    "* Şimdi ise bu yukarıdaki işlemi genişletelim:\n",
    "  > titanic.groupby(['sex', 'class'])[['survived']].aggregate(\"mean\")\n",
    "  >> Böylece elimizde iki kategorik değişkenli sürekli değişken var, bunları bir pivot table aracılığı ile tablobamış olduk\n",
    "\n",
    "#### * Şimdi ise Pivot Table kullanarak yukarıda yaptığımız şeyi ne kadar kolay yapabildiğimize bakalım:\n",
    "* Önce bize soruyor, odaklandığın değişken nedir? Index'i nedir? Başka hangi değişkene odaklanmak istersin?\n",
    "  > titanic.pivot_table('survived', index='sex', columns='class')\n",
    "* Yani aslında index olarak girdiğimiz satırlar oluyor, columns olarak girdiklerimiz ise sütunlar oluyor. Başta girdiğimiz 'survived' ise bize değerlerin temelini oluşturuyor"
   ]
  },
  {
   "cell_type": "code",
   "execution_count": 91,
   "id": "1c1f952d-ba0d-47d1-8b5c-b6e7c91177e1",
   "metadata": {},
   "outputs": [
    {
     "name": "stderr",
     "output_type": "stream",
     "text": [
      "/var/folders/8t/_v6tn9mj28d6v4qkjfcq5phw0000gn/T/ipykernel_1693/1897602858.py:8: FutureWarning: The default of observed=False is deprecated and will be changed to True in a future version of pandas. Pass observed=False to retain current behavior or observed=True to adopt the future default and silence this warning.\n",
      "  titanic.groupby(['sex', 'class'])[['survived']].aggregate(\"mean\").unstack()\n",
      "/var/folders/8t/_v6tn9mj28d6v4qkjfcq5phw0000gn/T/ipykernel_1693/1897602858.py:10: FutureWarning: The default value of observed=False is deprecated and will change to observed=True in a future version of pandas. Specify observed=False to silence this warning and retain the current behavior\n",
      "  titanic.pivot_table(\"survived\", index='sex', columns='class')\n"
     ]
    },
    {
     "data": {
      "text/html": [
       "<div>\n",
       "<style scoped>\n",
       "    .dataframe tbody tr th:only-of-type {\n",
       "        vertical-align: middle;\n",
       "    }\n",
       "\n",
       "    .dataframe tbody tr th {\n",
       "        vertical-align: top;\n",
       "    }\n",
       "\n",
       "    .dataframe thead th {\n",
       "        text-align: right;\n",
       "    }\n",
       "</style>\n",
       "<table border=\"1\" class=\"dataframe\">\n",
       "  <thead>\n",
       "    <tr style=\"text-align: right;\">\n",
       "      <th>class</th>\n",
       "      <th>First</th>\n",
       "      <th>Second</th>\n",
       "      <th>Third</th>\n",
       "    </tr>\n",
       "    <tr>\n",
       "      <th>sex</th>\n",
       "      <th></th>\n",
       "      <th></th>\n",
       "      <th></th>\n",
       "    </tr>\n",
       "  </thead>\n",
       "  <tbody>\n",
       "    <tr>\n",
       "      <th>female</th>\n",
       "      <td>0.968085</td>\n",
       "      <td>0.921053</td>\n",
       "      <td>0.500000</td>\n",
       "    </tr>\n",
       "    <tr>\n",
       "      <th>male</th>\n",
       "      <td>0.368852</td>\n",
       "      <td>0.157407</td>\n",
       "      <td>0.135447</td>\n",
       "    </tr>\n",
       "  </tbody>\n",
       "</table>\n",
       "</div>"
      ],
      "text/plain": [
       "class      First    Second     Third\n",
       "sex                                 \n",
       "female  0.968085  0.921053  0.500000\n",
       "male    0.368852  0.157407  0.135447"
      ]
     },
     "execution_count": 91,
     "metadata": {},
     "output_type": "execute_result"
    }
   ],
   "source": [
    "import pandas as pd\n",
    "import seaborn as sns\n",
    "titanic = sns.load_dataset('titanic')\n",
    "titanic.head()\n",
    "\n",
    "titanic.groupby('sex')[['survived']].mean() \n",
    "\n",
    "titanic.groupby(['sex', 'class'])[['survived']].aggregate(\"mean\").unstack()\n",
    "\n",
    "titanic.pivot_table(\"survived\", index='sex', columns='class')"
   ]
  },
  {
   "cell_type": "markdown",
   "id": "977f7a8e-7ce0-4b2c-bf3d-28d3f8418336",
   "metadata": {},
   "source": [
    "***\n",
    "#### **Verileri aralıklara bölme**\n",
    "* Mesela diyelim ki elde etmek istediğimiz tabloda 'age' değişkeni altında yaşlar aralıklarla yazsın mesela 0-18, 18-100 gibi yani aslında yetişkin-yetişkin olmayan olarak gibi. Nasıl yaparız:\n",
    "* age_range = pd.cut(titanic['age'], [0, 18, 100])\n",
    "  > Neyi böleceğim? -> Titanik verisi içerisindeki 'age' değişkenini böl\n",
    "    Hangi aralıklarla böleyim -> [0, 18, 100]\n",
    "* Şimdi ise asıl tablomuzu tasarlıyalım:\n",
    "  > titanic.pivot_table('survived', ['sex', age_range], 'class')"
   ]
  },
  {
   "cell_type": "code",
   "execution_count": 108,
   "id": "c6083950-3bc1-4a82-a887-ff483dd2a1b2",
   "metadata": {},
   "outputs": [
    {
     "name": "stderr",
     "output_type": "stream",
     "text": [
      "/var/folders/8t/_v6tn9mj28d6v4qkjfcq5phw0000gn/T/ipykernel_1693/3632004818.py:2: FutureWarning: The default value of observed=False is deprecated and will change to observed=True in a future version of pandas. Specify observed=False to silence this warning and retain the current behavior\n",
      "  titanic.pivot_table('survived', ['sex', age_range], 'class')\n"
     ]
    },
    {
     "data": {
      "text/html": [
       "<div>\n",
       "<style scoped>\n",
       "    .dataframe tbody tr th:only-of-type {\n",
       "        vertical-align: middle;\n",
       "    }\n",
       "\n",
       "    .dataframe tbody tr th {\n",
       "        vertical-align: top;\n",
       "    }\n",
       "\n",
       "    .dataframe thead th {\n",
       "        text-align: right;\n",
       "    }\n",
       "</style>\n",
       "<table border=\"1\" class=\"dataframe\">\n",
       "  <thead>\n",
       "    <tr style=\"text-align: right;\">\n",
       "      <th></th>\n",
       "      <th>class</th>\n",
       "      <th>First</th>\n",
       "      <th>Second</th>\n",
       "      <th>Third</th>\n",
       "    </tr>\n",
       "    <tr>\n",
       "      <th>sex</th>\n",
       "      <th>age</th>\n",
       "      <th></th>\n",
       "      <th></th>\n",
       "      <th></th>\n",
       "    </tr>\n",
       "  </thead>\n",
       "  <tbody>\n",
       "    <tr>\n",
       "      <th rowspan=\"2\" valign=\"top\">female</th>\n",
       "      <th>(0, 18]</th>\n",
       "      <td>0.909091</td>\n",
       "      <td>1.000000</td>\n",
       "      <td>0.511628</td>\n",
       "    </tr>\n",
       "    <tr>\n",
       "      <th>(18, 90]</th>\n",
       "      <td>0.972973</td>\n",
       "      <td>0.900000</td>\n",
       "      <td>0.423729</td>\n",
       "    </tr>\n",
       "    <tr>\n",
       "      <th rowspan=\"2\" valign=\"top\">male</th>\n",
       "      <th>(0, 18]</th>\n",
       "      <td>0.800000</td>\n",
       "      <td>0.600000</td>\n",
       "      <td>0.215686</td>\n",
       "    </tr>\n",
       "    <tr>\n",
       "      <th>(18, 90]</th>\n",
       "      <td>0.375000</td>\n",
       "      <td>0.071429</td>\n",
       "      <td>0.133663</td>\n",
       "    </tr>\n",
       "  </tbody>\n",
       "</table>\n",
       "</div>"
      ],
      "text/plain": [
       "class               First    Second     Third\n",
       "sex    age                                   \n",
       "female (0, 18]   0.909091  1.000000  0.511628\n",
       "       (18, 90]  0.972973  0.900000  0.423729\n",
       "male   (0, 18]   0.800000  0.600000  0.215686\n",
       "       (18, 90]  0.375000  0.071429  0.133663"
      ]
     },
     "execution_count": 108,
     "metadata": {},
     "output_type": "execute_result"
    }
   ],
   "source": [
    "age_range = pd.cut(titanic[\"age\"], [0, 18, 90])\n",
    "titanic.pivot_table('survived', index=['sex', age_range], columns='class')"
   ]
  },
  {
   "cell_type": "code",
   "execution_count": null,
   "id": "bc18e15f-0dba-49f3-8f14-b5ec4d04623c",
   "metadata": {},
   "outputs": [],
   "source": []
  }
 ],
 "metadata": {
  "kernelspec": {
   "display_name": "Python [conda env:base] *",
   "language": "python",
   "name": "conda-base-py"
  },
  "language_info": {
   "codemirror_mode": {
    "name": "ipython",
    "version": 3
   },
   "file_extension": ".py",
   "mimetype": "text/x-python",
   "name": "python",
   "nbconvert_exporter": "python",
   "pygments_lexer": "ipython3",
   "version": "3.12.7"
  }
 },
 "nbformat": 4,
 "nbformat_minor": 5
}

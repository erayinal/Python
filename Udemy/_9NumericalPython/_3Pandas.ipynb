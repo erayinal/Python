{
 "cells": [
  {
   "cell_type": "markdown",
   "id": "0245b846-81df-4c72-b305-6701e09a901c",
   "metadata": {},
   "source": [
    "# **Pandas**\n",
    "* '**Panel Data**'nın kısaltılmasıdır\n",
    "* NumPy'ın alternatifi değildir, NumPy'ın özelliklerini kullanan ve bunu genişleten bir kütüphanedir\n",
    "* En büyük farklarından birisi: NumPy'da 'Fixed Type' varken Pandas'ta farklı veri tipleri barınabilir\n",
    "* **Panel Data** nedir peki?\n",
    "> Pandas temelinde ekonometrik ve finansal çalışmalar için doğmuştur.  \n",
    ">  * Panel Data: Kesit veri ve zaman verisinin bir arada olduğu veri tipidir.  \n",
    ">  * Klasik veri yerine zaman verisini daha önemseyen bir yapıdır\n",
    "* Temeli 2008 yılında atılmıştır\n",
    "* R DataFrame yapısını Python dünyasına taşımıs ve DataFrame'ler üzerinde hızlı ve etkili çalışabilme imkani sağlamıştır."
   ]
  },
  {
   "cell_type": "markdown",
   "id": "0b60e7ee-d1bc-4676-b50f-abf914eae935",
   "metadata": {},
   "source": [
    "***\n",
    "### **Pandas Serisi Oluşturmak**\n",
    "* import pandas as pd\n",
    "* Değerleri onların indexleri ile beraber tutar\n",
    "  > mySeries.axes -> Bize index bilgilerini verir (start=0, stop=5 step=1)  \n",
    "  > mySeries.ndim  \n",
    "  > mySeries.size  \n",
    "  > mySeries.values -> İçerisindeki değerleri numpy array'i gibiymişçesine bize array çevirir  \n",
    "  > mySeries.head(4) -> İlk 4 elemanı verir"
   ]
  },
  {
   "cell_type": "code",
   "execution_count": 8,
   "id": "9b770b7e-6f1e-44f1-b8f8-46710932431c",
   "metadata": {},
   "outputs": [],
   "source": [
    "import numpy as np\n",
    "import pandas as pd\n",
    "mySeries = pd.Series([11,12,13,14,15])"
   ]
  },
  {
   "cell_type": "markdown",
   "id": "bfb47fc8-4571-4c42-afff-81ee16e2c8a1",
   "metadata": {},
   "source": [
    "<hr style=\"border: 1px solid blue;\">\n",
    "\n",
    "#### **Index İsimlendirme**\n",
    "* Kendisi default olarka indexleri 0dan başlayarak tutar ama biz istersek indexlerin isimlerindirebiliriz\n",
    "  > pd.Series([199,22,332,94,51], index = [\"a\",3,5,7,9]) "
   ]
  },
  {
   "cell_type": "code",
   "execution_count": 44,
   "id": "2abd9ad9-b493-445c-8fbc-7850a863e620",
   "metadata": {},
   "outputs": [
    {
     "data": {
      "text/plain": [
       "a    199\n",
       "3     22\n",
       "5    332\n",
       "7     94\n",
       "9     51\n",
       "dtype: int64"
      ]
     },
     "execution_count": 44,
     "metadata": {},
     "output_type": "execute_result"
    }
   ],
   "source": [
    "pd.Series([199,22,332,94,51], index = [\"a\",3,5,7,9]) "
   ]
  },
  {
   "cell_type": "markdown",
   "id": "ef8536af-8910-4314-b6ed-10ba4b85fd72",
   "metadata": {},
   "source": [
    "<hr style=\"border: 1px solid blue;\">\n",
    "\n",
    "#### **Sözlük ile pandas serisi oluşturma**\n",
    "* Önce sözlük tanımlayıp sonra içine yerleştirelim:\n",
    "  > dict = {\"reg\":10, \"log\":11, \"cart\": 12}  \n",
    "    mySeries = pd.Series(dict)\n",
    "  \n",
    "* Yine bunun aynısını numpy arrayleri ile de yapabiliriz:\n",
    "  > a = np.array([99,88,34,67])\n",
    "    series = pd.Series(a)"
   ]
  },
  {
   "cell_type": "code",
   "execution_count": 51,
   "id": "d562f4a2-4d06-4edd-b0de-11690de77fbd",
   "metadata": {},
   "outputs": [
    {
     "data": {
      "text/plain": [
       "reg     10\n",
       "log     11\n",
       "cart    12\n",
       "dtype: int64"
      ]
     },
     "execution_count": 51,
     "metadata": {},
     "output_type": "execute_result"
    }
   ],
   "source": [
    "dict = {\"reg\":10, \"log\":11, \"cart\": 12}\n",
    "mySeries = pd.Series(dict)\n",
    "mySeries"
   ]
  },
  {
   "cell_type": "markdown",
   "id": "dc82fd9f-a237-4a33-a715-9f840605c43a",
   "metadata": {},
   "source": [
    "<hr style=\"border: 1px solid blue;\">\n",
    "\n",
    "#### **Pandas'ın Önemli Fonksiyonları**\n",
    "#### **Birleştirme**\n",
    "* pd.concat([seri1, seri2])"
   ]
  },
  {
   "cell_type": "markdown",
   "id": "4eca004d-8dff-44eb-be45-8d2f157951fd",
   "metadata": {},
   "source": [
    "<hr style=\"border: 1px solid blue;\">\n",
    "\n",
    "#### **Eleman Sorgulama**\n",
    "* \"reg\" in mySeries -> mySeries serisinde \"reg\" **index**'i varsa true döner."
   ]
  },
  {
   "cell_type": "code",
   "execution_count": 10,
   "id": "3ee2fb92-afd8-40ae-90e2-a17bce49655d",
   "metadata": {},
   "outputs": [
    {
     "name": "stdout",
     "output_type": "stream",
     "text": [
      "False\n",
      "True\n",
      "3 s\n"
     ]
    }
   ],
   "source": [
    "s = pd.Series([1,2,3,4],\n",
    "             index = [\"e\", \"r\", \"a\", \"y\"])\n",
    "print('3' in s)\n",
    "print('r' in s)\n",
    "print(3, \"s\")"
   ]
  },
  {
   "cell_type": "markdown",
   "id": "1c386689-d94b-440a-ad5c-6d494cbb74fc",
   "metadata": {},
   "source": [
    "<hr style=\"border: 4px solid red;\">\n",
    "\n",
    "## **Pandas DataFrame**\n",
    "* Pandas kütüphanesi içerisinde yer alır.\n",
    "* **Nedir?** Yapısal bir veri tipidir. Excel veri yapısına benzerdir.\n",
    "* **NumPy varken neden DataFrame'ine ihtiyacımız var?** NumPy fix type veri tipidir.\n",
    "##### **Nasıl oluşturulur:** \n",
    "* Bir Boyutlu:\n",
    "  > pd.DataFrame([1,3,56,44], columns = [\"My Var\"])\n",
    "  > * Tabi istersek np array ile de oluşturabiliriz:\n",
    "  >> pd.DataFrame(np.array([1,4,9,7]), columns=[\"Numbers\"])\n",
    "* İki boyutlu:\n",
    "  > m = np.arange(1,10).reshape((3,3))  \n",
    "  > pd.DataFrame(m , columns=[\"Var1\", \"Var2\", \"Var3\"])\n",
    "\n",
    "##### **Nasıl Erişilir:**"
   ]
  },
  {
   "cell_type": "code",
   "execution_count": 202,
   "id": "c369e299-65b0-4739-baad-e57fe3404ae2",
   "metadata": {},
   "outputs": [
    {
     "data": {
      "text/html": [
       "<div>\n",
       "<style scoped>\n",
       "    .dataframe tbody tr th:only-of-type {\n",
       "        vertical-align: middle;\n",
       "    }\n",
       "\n",
       "    .dataframe tbody tr th {\n",
       "        vertical-align: top;\n",
       "    }\n",
       "\n",
       "    .dataframe thead th {\n",
       "        text-align: right;\n",
       "    }\n",
       "</style>\n",
       "<table border=\"1\" class=\"dataframe\">\n",
       "  <thead>\n",
       "    <tr style=\"text-align: right;\">\n",
       "      <th></th>\n",
       "      <th>My Var</th>\n",
       "    </tr>\n",
       "  </thead>\n",
       "  <tbody>\n",
       "    <tr>\n",
       "      <th>0</th>\n",
       "      <td>1</td>\n",
       "    </tr>\n",
       "    <tr>\n",
       "      <th>1</th>\n",
       "      <td>2</td>\n",
       "    </tr>\n",
       "    <tr>\n",
       "      <th>2</th>\n",
       "      <td>39</td>\n",
       "    </tr>\n",
       "    <tr>\n",
       "      <th>3</th>\n",
       "      <td>34</td>\n",
       "    </tr>\n",
       "  </tbody>\n",
       "</table>\n",
       "</div>"
      ],
      "text/plain": [
       "   My Var\n",
       "0       1\n",
       "1       2\n",
       "2      39\n",
       "3      34"
      ]
     },
     "execution_count": 202,
     "metadata": {},
     "output_type": "execute_result"
    }
   ],
   "source": [
    "import pandas as pd\n",
    "import numpy as np\n",
    "pd.DataFrame([1,2,39,34], columns = [\"My Var\"])"
   ]
  },
  {
   "cell_type": "code",
   "execution_count": 204,
   "id": "82467124-ce63-4b9b-95dd-24cde1bd7bf5",
   "metadata": {},
   "outputs": [
    {
     "data": {
      "text/html": [
       "<div>\n",
       "<style scoped>\n",
       "    .dataframe tbody tr th:only-of-type {\n",
       "        vertical-align: middle;\n",
       "    }\n",
       "\n",
       "    .dataframe tbody tr th {\n",
       "        vertical-align: top;\n",
       "    }\n",
       "\n",
       "    .dataframe thead th {\n",
       "        text-align: right;\n",
       "    }\n",
       "</style>\n",
       "<table border=\"1\" class=\"dataframe\">\n",
       "  <thead>\n",
       "    <tr style=\"text-align: right;\">\n",
       "      <th></th>\n",
       "      <th>Var1</th>\n",
       "      <th>Var2</th>\n",
       "      <th>Var3</th>\n",
       "    </tr>\n",
       "  </thead>\n",
       "  <tbody>\n",
       "    <tr>\n",
       "      <th>0</th>\n",
       "      <td>1</td>\n",
       "      <td>2</td>\n",
       "      <td>3</td>\n",
       "    </tr>\n",
       "    <tr>\n",
       "      <th>1</th>\n",
       "      <td>4</td>\n",
       "      <td>5</td>\n",
       "      <td>6</td>\n",
       "    </tr>\n",
       "    <tr>\n",
       "      <th>2</th>\n",
       "      <td>7</td>\n",
       "      <td>8</td>\n",
       "      <td>9</td>\n",
       "    </tr>\n",
       "  </tbody>\n",
       "</table>\n",
       "</div>"
      ],
      "text/plain": [
       "   Var1  Var2  Var3\n",
       "0     1     2     3\n",
       "1     4     5     6\n",
       "2     7     8     9"
      ]
     },
     "execution_count": 204,
     "metadata": {},
     "output_type": "execute_result"
    }
   ],
   "source": [
    "m = np.arange(1,10).reshape((3,3))\n",
    "pd.DataFrame(m , columns=[\"Var1\", \"Var2\", \"Var3\"])"
   ]
  },
  {
   "cell_type": "markdown",
   "id": "52c1b5cc-4484-431e-98b3-2eaf86ba72c5",
   "metadata": {},
   "source": [
    "<hr style=\"border: 1px solid blue;\">\n",
    "\n",
    "##### **Kolon isimlendirmeleri nasıl değiştirilir:**\n",
    "  > df = pd.DataFrame(m , columns=[\"Var1\", \"Var2\", \"Var3\"])  \n",
    "    df.columns -> Kolon isimlerini verir  \n",
    "    df.columns = (\"deg1\", \"deg2\", \"deg3\")"
   ]
  },
  {
   "cell_type": "code",
   "execution_count": null,
   "id": "4f6040f3-740e-47a6-8c77-6ba0b3fa4d0f",
   "metadata": {},
   "outputs": [],
   "source": [
    "df = pd.DataFrame(m , columns=[\"Var1\", \"Var2\", \"Var3\"])\n",
    "print(df.columns)\n",
    "df.columns = (\"deg1\", \"deg2\", \"deg3\")\n",
    "df"
   ]
  },
  {
   "cell_type": "markdown",
   "id": "b8cdc040-9db7-43f5-9c49-6fa9a41c0b0f",
   "metadata": {},
   "source": [
    "<hr style=\"border: 1px solid red;\">\n",
    "\n",
    "## **Eleman İşlemleri**\n",
    "* s1 = np.random.randint(10, size=5)  \n",
    "  s2 = np.random.randint(10, size=5)  \n",
    "  s3 = np.random.randint(10, size=5)\n",
    "  \n",
    "* dictinory = {\"var1\": s1 , \"var2\": s2 , \"var3\": s3}\n",
    "\n",
    "* Şimdi DataFrame oluşturalım:  \n",
    "  df = pd.DataFrame(dictionary)\n",
    "\n",
    "* Eğer pandas index isimlerini değiştirmek de istersek onu da yapabiliyorduk hatırlarsak:\n",
    "  df.index = [\"a\", \"b\", \"c\", \"d\", \"e\"]"
   ]
  },
  {
   "cell_type": "code",
   "execution_count": 123,
   "id": "3df5b5b1-6508-4436-a209-94dd9ded766c",
   "metadata": {},
   "outputs": [
    {
     "data": {
      "text/html": [
       "<div>\n",
       "<style scoped>\n",
       "    .dataframe tbody tr th:only-of-type {\n",
       "        vertical-align: middle;\n",
       "    }\n",
       "\n",
       "    .dataframe tbody tr th {\n",
       "        vertical-align: top;\n",
       "    }\n",
       "\n",
       "    .dataframe thead th {\n",
       "        text-align: right;\n",
       "    }\n",
       "</style>\n",
       "<table border=\"1\" class=\"dataframe\">\n",
       "  <thead>\n",
       "    <tr style=\"text-align: right;\">\n",
       "      <th></th>\n",
       "      <th>var1</th>\n",
       "      <th>var2</th>\n",
       "      <th>var3</th>\n",
       "    </tr>\n",
       "  </thead>\n",
       "  <tbody>\n",
       "    <tr>\n",
       "      <th>a</th>\n",
       "      <td>8</td>\n",
       "      <td>9</td>\n",
       "      <td>9</td>\n",
       "    </tr>\n",
       "    <tr>\n",
       "      <th>b</th>\n",
       "      <td>0</td>\n",
       "      <td>5</td>\n",
       "      <td>3</td>\n",
       "    </tr>\n",
       "    <tr>\n",
       "      <th>c</th>\n",
       "      <td>4</td>\n",
       "      <td>4</td>\n",
       "      <td>3</td>\n",
       "    </tr>\n",
       "    <tr>\n",
       "      <th>d</th>\n",
       "      <td>2</td>\n",
       "      <td>5</td>\n",
       "      <td>0</td>\n",
       "    </tr>\n",
       "    <tr>\n",
       "      <th>e</th>\n",
       "      <td>7</td>\n",
       "      <td>1</td>\n",
       "      <td>1</td>\n",
       "    </tr>\n",
       "  </tbody>\n",
       "</table>\n",
       "</div>"
      ],
      "text/plain": [
       "   var1  var2  var3\n",
       "a     8     9     9\n",
       "b     0     5     3\n",
       "c     4     4     3\n",
       "d     2     5     0\n",
       "e     7     1     1"
      ]
     },
     "execution_count": 123,
     "metadata": {},
     "output_type": "execute_result"
    }
   ],
   "source": [
    "s1 = np.random.randint(10, size=5)\n",
    "s2 = np.random.randint(10, size=5)\n",
    "s3 = np.random.randint(10, size=5)\n",
    "dictionary = {\"var1\": s1 , \"var2\": s2 , \"var3\": s3}\n",
    "\n",
    "df = pd.DataFrame(dictionary)\n",
    "df.index = [\"a\", \"b\", \"c\", \"d\", \"e\"]\n",
    "df"
   ]
  },
  {
   "cell_type": "markdown",
   "id": "db236e7b-7f36-4582-9ae5-11a687d532b8",
   "metadata": {},
   "source": [
    "<hr style=\"border: 1px solid blue;\">\n",
    "\n",
    "#### **Çağırma**\n",
    "* df[\"var1\"][\"a\"] -> Bu bize 6 ifadesini verir\n",
    "* Tüm sütunu çağırmak istersek:\n",
    "  > df[\"var1\"]"
   ]
  },
  {
   "cell_type": "code",
   "execution_count": 81,
   "id": "92c4871d-f5c4-4f9b-ba92-8d8f9156996a",
   "metadata": {},
   "outputs": [
    {
     "data": {
      "text/plain": [
       "6"
      ]
     },
     "execution_count": 81,
     "metadata": {},
     "output_type": "execute_result"
    }
   ],
   "source": [
    "df[\"var1\"][\"a\"]"
   ]
  },
  {
   "cell_type": "markdown",
   "id": "b56c422f-8249-42c9-b58c-213cd6bbee6c",
   "metadata": {},
   "source": [
    "<hr style=\"border: 1px solid blue;\">\n",
    "\n",
    "#### **Silme**\n",
    "##### **Satır:**\n",
    "* df.drop(\"var1\", axis=1)  **-> Tek sütun silmek**  \n",
    "  df.drop([\"var1\", \"var2\"], axis=1)  **-> Birden fazla sütun silmek**\n",
    "\n",
    "##### **Sütun:**\n",
    "* df.drop(\"a\", axis=0)  **-> Tek satır silmek**  \n",
    "  df.drop([\"a\", \"b\"], axis=0)  **-> Birden fazla satır silmek**\n",
    "\n",
    "##### **Eleman:**\n",
    "* Pandas'ta tek bil elemanı silmek diye bir şey **yoktur** Pandas DataFrame'ler matris benzeri bir yapıdadır.\n",
    "* Eksik değerler veya silmek istediğimiz değer yerine **NaN** barındırabilir:\n",
    "  > df.at[\"b\", \"var2\"] = np.nan **-> b. satır var2. sütununu**\n",
    "\n",
    "##### **Inplace:**\n",
    "* Bu yukarıdaki yapılan değişiklikler ana DataFrame yapısı üzerinde değişikliğe neden olmaz sadece istersek başka bir değişkene atayabiliriz.\n",
    "* Eğer ana DataFrame üzerinde değişikliklerin kaydedilmesini istiyorsak **inplace=True** yapmalıyız"
   ]
  },
  {
   "cell_type": "code",
   "execution_count": 125,
   "id": "81433905-0f09-41c1-b146-d074fa1e7682",
   "metadata": {},
   "outputs": [
    {
     "name": "stdout",
     "output_type": "stream",
     "text": [
      "   var1  var2  var3\n",
      "a     8     9     9\n",
      "b     0     5     3\n",
      "c     4     4     3\n",
      "d     2     5     0\n",
      "e     7     1     1 \n",
      "\n",
      "   var1  var2  var3\n",
      "b     0     5     3\n",
      "c     4     4     3\n",
      "d     2     5     0\n",
      "e     7     1     1 \n",
      "\n",
      "   var2  var3\n",
      "b     5     3\n",
      "c     4     3\n",
      "d     5     0\n",
      "e     1     1\n"
     ]
    }
   ],
   "source": [
    "df.drop(\"a\", axis=0)\n",
    "print(df, \"\\n\")\n",
    "\n",
    "df.drop(\"a\", axis=0, inplace=True)\n",
    "print(df, \"\\n\")\n",
    "\n",
    "df.drop(\"var1\", axis=1, inplace=True)\n",
    "print(df)"
   ]
  },
  {
   "cell_type": "markdown",
   "id": "1b45c9ed-2164-4804-9e6c-e97fd40dc9e2",
   "metadata": {},
   "source": [
    "<hr style=\"border: 1px solid blue;\">\n",
    "\n",
    "#### **Ekleme**\n",
    "##### **Satır Ekleme:**\n",
    "* df.loc[\"f\"] = [8, 2, 2] -> 'f' adında yeni bir satır oluşturur ve kolonlara 8,2,2 değerlerini verir.\n",
    "  > Eğer kolon sayısından az veya fazla eleman yazarsak error verir\n",
    "\n",
    "##### **Sütun Ekleme:**\n",
    "* df[\"var4\"] = [8,2,3,4,5,6] -> Eğer 'var4' adında bir sütun yoksa yeni elemanlar ile o sütunu oluşturur\n",
    "  > Yok eğer 'var4' adında bir sütun varsa o dütundaki elemanların değerlerini yeni elemanlarla değiştirir\n",
    "* df = df.assign(var4=[8,2,1,2,3,4]) -> Yine önceki gibi 'var4' adında bir sütun yoksa yeni elemanlar ile o sütunu oluşturur\n",
    "* df.insert(1, \"var0\", [0, 0, 0, 0, 0, 0]) -> Belirtmiş olduğumuz sayıdaki sütuna ekleme yapar. Yani birinci sütundan hemen sonra ikinci bir sütun ekler.\n",
    "\n",
    "##### **Belirli Hücreye Eleman Ekleme/Güncelleme:**\n",
    "* df.loc[\"b\", \"var2\"] = 99\n",
    "* df.at[\"c\", \"var3\"] = 100\n",
    "* df.iloc[2, 1] = 50  **-> Index bazlı eleman ekler yani 2. satır, 1. sütundaki değeri günceller**\n",
    "\n",
    "<div style=\"background-color:yellow; padding:10px; border-radius:5px;\">\n",
    "    Peki satır veya sütun eklerken eleman sayılarını nasıl öğrenicez de doğru gireceğiz:<br>\n",
    "  <strong>Satır Eklemek İçin Sütun Sayısı:</strong>  <br>\n",
    "  * sütun_sayısı = df.shape[1] <br>\n",
    "    sütun_sayısı = len(df.columns) <br>\n",
    "  <br>\n",
    "  <strong>Sütun Eklemek İçin Satır Sayısı:</strong>  <br>\n",
    "    * satır_sayısı = df.shape[0] <br>\n",
    "      satır_sayısı = len(df.index)\n",
    "</div>"
   ]
  },
  {
   "cell_type": "code",
   "execution_count": 297,
   "id": "338fc410-8748-4c85-97a7-81385d738fc0",
   "metadata": {},
   "outputs": [
    {
     "data": {
      "text/html": [
       "<div>\n",
       "<style scoped>\n",
       "    .dataframe tbody tr th:only-of-type {\n",
       "        vertical-align: middle;\n",
       "    }\n",
       "\n",
       "    .dataframe tbody tr th {\n",
       "        vertical-align: top;\n",
       "    }\n",
       "\n",
       "    .dataframe thead th {\n",
       "        text-align: right;\n",
       "    }\n",
       "</style>\n",
       "<table border=\"1\" class=\"dataframe\">\n",
       "  <thead>\n",
       "    <tr style=\"text-align: right;\">\n",
       "      <th></th>\n",
       "      <th>var1</th>\n",
       "      <th>var0</th>\n",
       "      <th>var2</th>\n",
       "      <th>var3</th>\n",
       "      <th>var4</th>\n",
       "    </tr>\n",
       "  </thead>\n",
       "  <tbody>\n",
       "    <tr>\n",
       "      <th>a</th>\n",
       "      <td>6</td>\n",
       "      <td>0</td>\n",
       "      <td>2</td>\n",
       "      <td>3</td>\n",
       "      <td>8</td>\n",
       "    </tr>\n",
       "    <tr>\n",
       "      <th>b</th>\n",
       "      <td>0</td>\n",
       "      <td>0</td>\n",
       "      <td>4</td>\n",
       "      <td>9</td>\n",
       "      <td>2</td>\n",
       "    </tr>\n",
       "    <tr>\n",
       "      <th>c</th>\n",
       "      <td>4</td>\n",
       "      <td>0</td>\n",
       "      <td>1</td>\n",
       "      <td>8</td>\n",
       "      <td>1</td>\n",
       "    </tr>\n",
       "    <tr>\n",
       "      <th>d</th>\n",
       "      <td>7</td>\n",
       "      <td>0</td>\n",
       "      <td>4</td>\n",
       "      <td>9</td>\n",
       "      <td>2</td>\n",
       "    </tr>\n",
       "    <tr>\n",
       "      <th>e</th>\n",
       "      <td>2</td>\n",
       "      <td>0</td>\n",
       "      <td>6</td>\n",
       "      <td>2</td>\n",
       "      <td>3</td>\n",
       "    </tr>\n",
       "    <tr>\n",
       "      <th>f</th>\n",
       "      <td>8</td>\n",
       "      <td>0</td>\n",
       "      <td>2</td>\n",
       "      <td>3</td>\n",
       "      <td>4</td>\n",
       "    </tr>\n",
       "  </tbody>\n",
       "</table>\n",
       "</div>"
      ],
      "text/plain": [
       "   var1  var0  var2  var3  var4\n",
       "a     6     0     2     3     8\n",
       "b     0     0     4     9     2\n",
       "c     4     0     1     8     1\n",
       "d     7     0     4     9     2\n",
       "e     2     0     6     2     3\n",
       "f     8     0     2     3     4"
      ]
     },
     "execution_count": 297,
     "metadata": {},
     "output_type": "execute_result"
    }
   ],
   "source": [
    "s1 = np.random.randint(10, size=5)\n",
    "s2 = np.random.randint(10, size=5)\n",
    "s3 = np.random.randint(10, size=5)\n",
    "dictionary = {\"var1\": s1 , \"var2\": s2 , \"var3\": s3}\n",
    "\n",
    "df = pd.DataFrame(dictionary)\n",
    "df.index = [\"a\", \"b\", \"c\", \"d\", \"e\"]\n",
    "\n",
    "df.loc[\"f\"] = [8,2,3]\n",
    "df[\"var4\"] = [8,2,3,4,5,6]\n",
    "\n",
    "df = df.assign(var4=[8,2,1,2,3,4])\n",
    "df.insert(1, \"var0\", [0, 0, 0, 0, 0, 0])\n",
    "\n",
    "\n",
    "df"
   ]
  },
  {
   "cell_type": "markdown",
   "id": "82a083fc-d5d2-43dd-9f64-0d29dad369aa",
   "metadata": {},
   "source": [
    "<hr style=\"border: 1px solid red;\">\n",
    "\n",
    "### **Koşullu Eleman İşlemleri**\n",
    "\n",
    "#### **Koşullu Listeleme:**\n",
    "* df[df.var1 > 5] **->** 'var1' sütunundaki 5'ten büyük olan **tüm sütunları** listeler sadece var1'i değil\n",
    "* df[df.var1 > 5][\"var1\"] **->** **var1 altındaki** de 5ten büyük olan var1 altındaki değerleri listeler\n",
    "* df.loc[(df.var1>5), [\"var1\", \"var2\"]] **->** var1 sütunundaki 5'ten büyük olan değelerin bulunduğu var1 ve var2 sütununu listeler\n",
    "* df[df.var1>5][[\"var1\", \"var2\"]] **->** Yukarıdaki işlemle aynı\n",
    "> ***\n",
    "* df[(df.var1 > 5) & (df.var4 >2)] **->** Birden fazla koşul ekleyebiliriz\n",
    "\n",
    "#### **Ekleme/Güncelleme:**\n",
    "* df.loc[df[\"var1\"] > 5, \"var3\"] = -1  **->** 'var1' sütununda değeri 5'ten büyük olan satırların 'var3' sütununu -1 yap"
   ]
  },
  {
   "cell_type": "code",
   "execution_count": 314,
   "id": "24b7cd21-84db-4ebb-a744-682a111ec31d",
   "metadata": {},
   "outputs": [
    {
     "data": {
      "text/html": [
       "<div>\n",
       "<style scoped>\n",
       "    .dataframe tbody tr th:only-of-type {\n",
       "        vertical-align: middle;\n",
       "    }\n",
       "\n",
       "    .dataframe tbody tr th {\n",
       "        vertical-align: top;\n",
       "    }\n",
       "\n",
       "    .dataframe thead th {\n",
       "        text-align: right;\n",
       "    }\n",
       "</style>\n",
       "<table border=\"1\" class=\"dataframe\">\n",
       "  <thead>\n",
       "    <tr style=\"text-align: right;\">\n",
       "      <th></th>\n",
       "      <th>var1</th>\n",
       "      <th>var3</th>\n",
       "    </tr>\n",
       "  </thead>\n",
       "  <tbody>\n",
       "    <tr>\n",
       "      <th>a</th>\n",
       "      <td>6</td>\n",
       "      <td>3</td>\n",
       "    </tr>\n",
       "    <tr>\n",
       "      <th>d</th>\n",
       "      <td>7</td>\n",
       "      <td>9</td>\n",
       "    </tr>\n",
       "    <tr>\n",
       "      <th>f</th>\n",
       "      <td>8</td>\n",
       "      <td>3</td>\n",
       "    </tr>\n",
       "  </tbody>\n",
       "</table>\n",
       "</div>"
      ],
      "text/plain": [
       "   var1  var3\n",
       "a     6     3\n",
       "d     7     9\n",
       "f     8     3"
      ]
     },
     "execution_count": 314,
     "metadata": {},
     "output_type": "execute_result"
    }
   ],
   "source": [
    "df[df.var1>5][[\"var1\", \"var3\"]]"
   ]
  },
  {
   "cell_type": "code",
   "execution_count": 341,
   "id": "aae66804-be72-4faa-b18f-47243efe9e15",
   "metadata": {},
   "outputs": [],
   "source": [
    "m = np.random.randint(1,30, (5,3))\n",
    "df = pd.DataFrame(m, columns=[\"var1\", \"var2\", \"var3\"]) # Sonraki adımlar için df'yi güncelledim"
   ]
  },
  {
   "cell_type": "markdown",
   "id": "3afef9c1-bdfd-4ee4-84e3-5a45e0e764eb",
   "metadata": {},
   "source": [
    "<hr style=\"border: 1px solid blue;\">\n",
    "\n",
    "#### **Birleştirme (Join)**\n",
    "* df2 = df + 99  **->** df'nin tüm elemanlarına 99 ekler ve bu iki DataFrame'i birleştirmek istersek:\n",
    "  > pd.concat([df, df2])\n",
    "  >> Ama burada şöyle bir sorun var, iki DF'i de aynı indexlerle birleştirir yani iki defa 0'dan 4'e gider: **ignore_index**\n",
    "  >> * pd.concat([df, df2], ignore_index=True)\n",
    "\n",
    "* Peki iki arrayde de aynı kolon ismine sahip değilse veya birisi 3x5 diğeri 4x4 ise ne olacak:\n",
    "  > pd.concat([df, df2], join=\"inner\") **->** iki DF arasındaki aynı olan kolon isimlerini birleştirir"
   ]
  },
  {
   "cell_type": "code",
   "execution_count": 352,
   "id": "9f8edf94-11dd-4bb6-bead-c54925737a12",
   "metadata": {},
   "outputs": [
    {
     "data": {
      "text/html": [
       "<div>\n",
       "<style scoped>\n",
       "    .dataframe tbody tr th:only-of-type {\n",
       "        vertical-align: middle;\n",
       "    }\n",
       "\n",
       "    .dataframe tbody tr th {\n",
       "        vertical-align: top;\n",
       "    }\n",
       "\n",
       "    .dataframe thead th {\n",
       "        text-align: right;\n",
       "    }\n",
       "</style>\n",
       "<table border=\"1\" class=\"dataframe\">\n",
       "  <thead>\n",
       "    <tr style=\"text-align: right;\">\n",
       "      <th></th>\n",
       "      <th>var1</th>\n",
       "      <th>var2</th>\n",
       "      <th>var3</th>\n",
       "    </tr>\n",
       "  </thead>\n",
       "  <tbody>\n",
       "    <tr>\n",
       "      <th>0</th>\n",
       "      <td>26</td>\n",
       "      <td>9</td>\n",
       "      <td>17</td>\n",
       "    </tr>\n",
       "    <tr>\n",
       "      <th>1</th>\n",
       "      <td>6</td>\n",
       "      <td>19</td>\n",
       "      <td>21</td>\n",
       "    </tr>\n",
       "    <tr>\n",
       "      <th>2</th>\n",
       "      <td>1</td>\n",
       "      <td>13</td>\n",
       "      <td>16</td>\n",
       "    </tr>\n",
       "    <tr>\n",
       "      <th>3</th>\n",
       "      <td>8</td>\n",
       "      <td>10</td>\n",
       "      <td>11</td>\n",
       "    </tr>\n",
       "    <tr>\n",
       "      <th>4</th>\n",
       "      <td>14</td>\n",
       "      <td>21</td>\n",
       "      <td>19</td>\n",
       "    </tr>\n",
       "    <tr>\n",
       "      <th>0</th>\n",
       "      <td>31</td>\n",
       "      <td>14</td>\n",
       "      <td>22</td>\n",
       "    </tr>\n",
       "    <tr>\n",
       "      <th>1</th>\n",
       "      <td>11</td>\n",
       "      <td>24</td>\n",
       "      <td>26</td>\n",
       "    </tr>\n",
       "    <tr>\n",
       "      <th>2</th>\n",
       "      <td>6</td>\n",
       "      <td>18</td>\n",
       "      <td>21</td>\n",
       "    </tr>\n",
       "    <tr>\n",
       "      <th>3</th>\n",
       "      <td>13</td>\n",
       "      <td>15</td>\n",
       "      <td>16</td>\n",
       "    </tr>\n",
       "    <tr>\n",
       "      <th>4</th>\n",
       "      <td>19</td>\n",
       "      <td>26</td>\n",
       "      <td>24</td>\n",
       "    </tr>\n",
       "  </tbody>\n",
       "</table>\n",
       "</div>"
      ],
      "text/plain": [
       "   var1  var2  var3\n",
       "0    26     9    17\n",
       "1     6    19    21\n",
       "2     1    13    16\n",
       "3     8    10    11\n",
       "4    14    21    19\n",
       "0    31    14    22\n",
       "1    11    24    26\n",
       "2     6    18    21\n",
       "3    13    15    16\n",
       "4    19    26    24"
      ]
     },
     "execution_count": 352,
     "metadata": {},
     "output_type": "execute_result"
    }
   ],
   "source": [
    "df2 = df + 5\n",
    "pd.concat([df, df2])\n",
    "pd.concat([df, df2], ignore_index=True)\n",
    "pd.concat([df, df2], join=\"inner\")"
   ]
  },
  {
   "cell_type": "markdown",
   "id": "88acb20a-b63a-4846-ac6d-2f7351dfc3d5",
   "metadata": {},
   "source": [
    "* Tüm Sütunları Birleştirmek:\n",
    "  > pd.concat( [df, df2], join=\"outer\", axis=0 ) **->** Aynı isimde olsun olmasın tüm kolonları basar ve kesişmeyenlere 'NaN'\n",
    " yazar\n",
    "\n",
    "* Belirli Sütunları Birleştirmek:\n",
    "  > pd.concat( [df, df2.reindex(columns=df.columns)], axis=0 ) **->** Yine kesişen elemanları birleştirir ama onların dışında 'df' DF'inin tüm kolonlarını yazdırır, ve kesişmeyen kısımlara 'NaN' yazdırır."
   ]
  },
  {
   "cell_type": "code",
   "execution_count": 387,
   "id": "5f19dfea-a456-430d-a803-b4750a687b10",
   "metadata": {},
   "outputs": [
    {
     "data": {
      "text/html": [
       "<div>\n",
       "<style scoped>\n",
       "    .dataframe tbody tr th:only-of-type {\n",
       "        vertical-align: middle;\n",
       "    }\n",
       "\n",
       "    .dataframe tbody tr th {\n",
       "        vertical-align: top;\n",
       "    }\n",
       "\n",
       "    .dataframe thead th {\n",
       "        text-align: right;\n",
       "    }\n",
       "</style>\n",
       "<table border=\"1\" class=\"dataframe\">\n",
       "  <thead>\n",
       "    <tr style=\"text-align: right;\">\n",
       "      <th></th>\n",
       "      <th>var1</th>\n",
       "      <th>var2</th>\n",
       "      <th>var3</th>\n",
       "    </tr>\n",
       "  </thead>\n",
       "  <tbody>\n",
       "    <tr>\n",
       "      <th>0</th>\n",
       "      <td>26</td>\n",
       "      <td>9</td>\n",
       "      <td>17.0</td>\n",
       "    </tr>\n",
       "    <tr>\n",
       "      <th>1</th>\n",
       "      <td>6</td>\n",
       "      <td>19</td>\n",
       "      <td>21.0</td>\n",
       "    </tr>\n",
       "    <tr>\n",
       "      <th>2</th>\n",
       "      <td>1</td>\n",
       "      <td>13</td>\n",
       "      <td>16.0</td>\n",
       "    </tr>\n",
       "    <tr>\n",
       "      <th>3</th>\n",
       "      <td>8</td>\n",
       "      <td>10</td>\n",
       "      <td>11.0</td>\n",
       "    </tr>\n",
       "    <tr>\n",
       "      <th>4</th>\n",
       "      <td>14</td>\n",
       "      <td>21</td>\n",
       "      <td>19.0</td>\n",
       "    </tr>\n",
       "    <tr>\n",
       "      <th>0</th>\n",
       "      <td>31</td>\n",
       "      <td>14</td>\n",
       "      <td>NaN</td>\n",
       "    </tr>\n",
       "    <tr>\n",
       "      <th>1</th>\n",
       "      <td>11</td>\n",
       "      <td>24</td>\n",
       "      <td>NaN</td>\n",
       "    </tr>\n",
       "    <tr>\n",
       "      <th>2</th>\n",
       "      <td>6</td>\n",
       "      <td>18</td>\n",
       "      <td>NaN</td>\n",
       "    </tr>\n",
       "    <tr>\n",
       "      <th>3</th>\n",
       "      <td>13</td>\n",
       "      <td>15</td>\n",
       "      <td>NaN</td>\n",
       "    </tr>\n",
       "    <tr>\n",
       "      <th>4</th>\n",
       "      <td>19</td>\n",
       "      <td>26</td>\n",
       "      <td>NaN</td>\n",
       "    </tr>\n",
       "  </tbody>\n",
       "</table>\n",
       "</div>"
      ],
      "text/plain": [
       "   var1  var2  var3\n",
       "0    26     9  17.0\n",
       "1     6    19  21.0\n",
       "2     1    13  16.0\n",
       "3     8    10  11.0\n",
       "4    14    21  19.0\n",
       "0    31    14   NaN\n",
       "1    11    24   NaN\n",
       "2     6    18   NaN\n",
       "3    13    15   NaN\n",
       "4    19    26   NaN"
      ]
     },
     "execution_count": 387,
     "metadata": {},
     "output_type": "execute_result"
    }
   ],
   "source": [
    "df2.columns = [\"var1\", \"var2\", \"clm\"] #Burada pd2'nin kolon isimlerini değiştirdik.\n",
    "\n",
    "pd.concat( [df, df2.reindex(columns=df.columns)], axis=0 )"
   ]
  },
  {
   "cell_type": "code",
   "execution_count": null,
   "id": "2b4090d4-a90b-43bf-9a1f-ef400f1b51c2",
   "metadata": {},
   "outputs": [],
   "source": []
  }
 ],
 "metadata": {
  "kernelspec": {
   "display_name": "Python [conda env:base] *",
   "language": "python",
   "name": "conda-base-py"
  },
  "language_info": {
   "codemirror_mode": {
    "name": "ipython",
    "version": 3
   },
   "file_extension": ".py",
   "mimetype": "text/x-python",
   "name": "python",
   "nbconvert_exporter": "python",
   "pygments_lexer": "ipython3",
   "version": "3.12.7"
  }
 },
 "nbformat": 4,
 "nbformat_minor": 5
}

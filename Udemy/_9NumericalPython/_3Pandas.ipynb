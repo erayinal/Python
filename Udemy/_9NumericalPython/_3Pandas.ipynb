{
 "cells": [
  {
   "cell_type": "markdown",
   "id": "0245b846-81df-4c72-b305-6701e09a901c",
   "metadata": {},
   "source": [
    "# **Pandas**\n",
    "* '**Panel Data**'nın kısaltılmasıdır\n",
    "* NumPy'ın alternatifi değildir, NumPy'ın özelliklerini kullanan ve bunu genişleten bir kütüphanedir\n",
    "* En büyük farklarından birisi: NumPy'da 'Fixed Type' varken Pandas'ta farklı veri tipleri barınabilir\n",
    "* **Panel Data** nedir peki?\n",
    "> Pandas temelinde ekonometrik ve finansal çalışmalar için doğmuştur.  \n",
    ">  * Panel Data: Kesit veri ve zaman verisinin bir arada olduğu veri tipidir.  \n",
    ">  * Klasik veri yerine zaman verisini daha önemseyen bir yapıdır\n",
    "* Temeli 2008 yılında atılmıştır\n",
    "* R DataFrame yapısını Python dünyasına taşımıs ve DataFrame'ler üzerinde hızlı ve etkili çalışabilme imkani sağlamıştır."
   ]
  },
  {
   "cell_type": "markdown",
   "id": "0b60e7ee-d1bc-4676-b50f-abf914eae935",
   "metadata": {},
   "source": [
    "***\n",
    "### **Pandas Serisi Oluşturmak**\n",
    "* import pandas as pd\n",
    "* Değerleri onların indexleri ile beraber tutar\n",
    "  > mySeries.axes -> Bize index bilgilerini verir (start=0, stop=5 step=1)  \n",
    "  > mySeries.ndim  \n",
    "  > mySeries.size  \n",
    "  > mySeries.values -> İçerisindeki değerleri numpy array'i gibiymişçesine bize array çevirir  \n",
    "  > mySeries.head(4) -> İlk 4 elemanı verir"
   ]
  },
  {
   "cell_type": "code",
   "execution_count": 8,
   "id": "9b770b7e-6f1e-44f1-b8f8-46710932431c",
   "metadata": {},
   "outputs": [],
   "source": [
    "import numpy as np\n",
    "import pandas as pd\n",
    "mySeries = pd.Series([11,12,13,14,15])"
   ]
  },
  {
   "cell_type": "markdown",
   "id": "bfb47fc8-4571-4c42-afff-81ee16e2c8a1",
   "metadata": {},
   "source": [
    "***\n",
    "#### **Index İsimlendirme**\n",
    "* Kendisi default olarka indexleri 0dan başlayarak tutar ama biz istersek indexlerin isimlerindirebiliriz\n",
    "  > pd.Series([199,22,332,94,51], index = [\"a\",3,5,7,9]) "
   ]
  },
  {
   "cell_type": "code",
   "execution_count": 44,
   "id": "2abd9ad9-b493-445c-8fbc-7850a863e620",
   "metadata": {},
   "outputs": [
    {
     "data": {
      "text/plain": [
       "a    199\n",
       "3     22\n",
       "5    332\n",
       "7     94\n",
       "9     51\n",
       "dtype: int64"
      ]
     },
     "execution_count": 44,
     "metadata": {},
     "output_type": "execute_result"
    }
   ],
   "source": [
    "pd.Series([199,22,332,94,51], index = [\"a\",3,5,7,9]) "
   ]
  },
  {
   "cell_type": "markdown",
   "id": "ef8536af-8910-4314-b6ed-10ba4b85fd72",
   "metadata": {},
   "source": [
    "***\n",
    "#### **Sözlük ile pandas serisi oluşturma**\n",
    "* Önce sözlük tanımlayıp sonra içine yerleştirelim:\n",
    "  > dict = {\"reg\":10, \"log\":11, \"cart\": 12}  \n",
    "    mySeries = pd.Series(dict)\n",
    "  \n",
    "* Yine bunun aynısını numpy arrayleri ile de yapabiliriz:\n",
    "  > a = np.array([99,88,34,67])\n",
    "    series = pd.Series(a)"
   ]
  },
  {
   "cell_type": "code",
   "execution_count": 51,
   "id": "d562f4a2-4d06-4edd-b0de-11690de77fbd",
   "metadata": {},
   "outputs": [
    {
     "data": {
      "text/plain": [
       "reg     10\n",
       "log     11\n",
       "cart    12\n",
       "dtype: int64"
      ]
     },
     "execution_count": 51,
     "metadata": {},
     "output_type": "execute_result"
    }
   ],
   "source": [
    "dict = {\"reg\":10, \"log\":11, \"cart\": 12}\n",
    "mySeries = pd.Series(dict)\n",
    "mySeries"
   ]
  },
  {
   "cell_type": "markdown",
   "id": "dc82fd9f-a237-4a33-a715-9f840605c43a",
   "metadata": {},
   "source": [
    "***\n",
    "#### **Pandas'ın Önemli Fonksiyonları**\n",
    "#### **Birleştirme**\n",
    "* pd.concat([seri1, seri2])"
   ]
  },
  {
   "cell_type": "markdown",
   "id": "4eca004d-8dff-44eb-be45-8d2f157951fd",
   "metadata": {},
   "source": [
    "***\n",
    "#### **Eleman Sorgulama**\n",
    "* \"reg\" in mySeries -> mySeries serisinde \"reg\" **index**'i varsa true döner."
   ]
  },
  {
   "cell_type": "code",
   "execution_count": 10,
   "id": "3ee2fb92-afd8-40ae-90e2-a17bce49655d",
   "metadata": {},
   "outputs": [
    {
     "name": "stdout",
     "output_type": "stream",
     "text": [
      "False\n",
      "True\n",
      "3 s\n"
     ]
    }
   ],
   "source": [
    "s = pd.Series([1,2,3,4],\n",
    "             index = [\"e\", \"r\", \"a\", \"y\"])\n",
    "print('3' in s)\n",
    "print('r' in s)\n",
    "print(3, \"s\")"
   ]
  },
  {
   "cell_type": "markdown",
   "id": "b8cdc040-9db7-43f5-9c49-6fa9a41c0b0f",
   "metadata": {},
   "source": [
    "***\n",
    "***\n",
    "## **Eleman İşlemleri**\n",
    "* s1 = np.random.randint(10, size=5)  \n",
    "  s2 = np.random.randint(10, size=5)  \n",
    "  s3 = np.random.randint(10, size=5)\n",
    "  \n",
    "* dictinory = {\"var1\": s1 , \"var2\": s2 , \"var3\": s3}\n",
    "\n",
    "* Şimdi DataFrame oluşturalım:  \n",
    "  df = pd.DataFrame(dictionary)\n",
    "\n",
    "* Eğer pandas index isimlerini değiştirmek de istersek onu da yapabiliyorduk hatırlarsak:\n",
    "  df.index = [\"a\", \"b\", \"c\", \"d\", \"e\"]"
   ]
  },
  {
   "cell_type": "code",
   "execution_count": 67,
   "id": "3df5b5b1-6508-4436-a209-94dd9ded766c",
   "metadata": {},
   "outputs": [
    {
     "data": {
      "text/html": [
       "<div>\n",
       "<style scoped>\n",
       "    .dataframe tbody tr th:only-of-type {\n",
       "        vertical-align: middle;\n",
       "    }\n",
       "\n",
       "    .dataframe tbody tr th {\n",
       "        vertical-align: top;\n",
       "    }\n",
       "\n",
       "    .dataframe thead th {\n",
       "        text-align: right;\n",
       "    }\n",
       "</style>\n",
       "<table border=\"1\" class=\"dataframe\">\n",
       "  <thead>\n",
       "    <tr style=\"text-align: right;\">\n",
       "      <th></th>\n",
       "      <th>var1</th>\n",
       "      <th>var2</th>\n",
       "      <th>var3</th>\n",
       "    </tr>\n",
       "  </thead>\n",
       "  <tbody>\n",
       "    <tr>\n",
       "      <th>a</th>\n",
       "      <td>3</td>\n",
       "      <td>1</td>\n",
       "      <td>2</td>\n",
       "    </tr>\n",
       "    <tr>\n",
       "      <th>b</th>\n",
       "      <td>2</td>\n",
       "      <td>0</td>\n",
       "      <td>9</td>\n",
       "    </tr>\n",
       "    <tr>\n",
       "      <th>c</th>\n",
       "      <td>8</td>\n",
       "      <td>6</td>\n",
       "      <td>6</td>\n",
       "    </tr>\n",
       "    <tr>\n",
       "      <th>d</th>\n",
       "      <td>1</td>\n",
       "      <td>4</td>\n",
       "      <td>0</td>\n",
       "    </tr>\n",
       "    <tr>\n",
       "      <th>e</th>\n",
       "      <td>3</td>\n",
       "      <td>4</td>\n",
       "      <td>3</td>\n",
       "    </tr>\n",
       "  </tbody>\n",
       "</table>\n",
       "</div>"
      ],
      "text/plain": [
       "   var1  var2  var3\n",
       "a     3     1     2\n",
       "b     2     0     9\n",
       "c     8     6     6\n",
       "d     1     4     0\n",
       "e     3     4     3"
      ]
     },
     "execution_count": 67,
     "metadata": {},
     "output_type": "execute_result"
    }
   ],
   "source": [
    "s1 = np.random.randint(10, size=5)\n",
    "s2 = np.random.randint(10, size=5)\n",
    "s3 = np.random.randint(10, size=5)\n",
    "dictionary = {\"var1\": s1 , \"var2\": s2 , \"var3\": s3}\n",
    "\n",
    "df = pd.DataFrame(dictionary)\n",
    "df.index = [\"a\", \"b\", \"c\", \"d\", \"e\"]\n",
    "df"
   ]
  },
  {
   "cell_type": "markdown",
   "id": "b56c422f-8249-42c9-b58c-213cd6bbee6c",
   "metadata": {},
   "source": [
    "***\n",
    "#### **Silme**\n",
    "* df.drop(\"a\", axis=1)\n",
    "  > Ama bunu yaptıktan sonra asıl 'df' DataFrame yapısı değişmez. Değişmesi için **'inplace=true'** yapmamız gerekir"
   ]
  },
  {
   "cell_type": "code",
   "execution_count": 69,
   "id": "81433905-0f09-41c1-b146-d074fa1e7682",
   "metadata": {},
   "outputs": [
    {
     "name": "stdout",
     "output_type": "stream",
     "text": [
      "   var1  var2  var3\n",
      "a     3     1     2\n",
      "b     2     0     9\n",
      "c     8     6     6\n",
      "d     1     4     0\n",
      "e     3     4     3 \n",
      "\n",
      "\n",
      "    var1  var2  var3\n",
      "b     2     0     9\n",
      "c     8     6     6\n",
      "d     1     4     0\n",
      "e     3     4     3\n"
     ]
    }
   ],
   "source": [
    "df.drop(\"a\", axis=0)   # Axis değerini 0 girmemiz; o satırı sileceğini belirtiyor\n",
    "print(df, \"\\n\")\n",
    "\n",
    "df.drop(\"a\", axis=0, inplace=True)\n",
    "print(df)"
   ]
  },
  {
   "cell_type": "code",
   "execution_count": null,
   "id": "8709ae8d-40bf-4527-a3ac-13ce3c94304d",
   "metadata": {},
   "outputs": [],
   "source": []
  }
 ],
 "metadata": {
  "kernelspec": {
   "display_name": "Python [conda env:base] *",
   "language": "python",
   "name": "conda-base-py"
  },
  "language_info": {
   "codemirror_mode": {
    "name": "ipython",
    "version": 3
   },
   "file_extension": ".py",
   "mimetype": "text/x-python",
   "name": "python",
   "nbconvert_exporter": "python",
   "pygments_lexer": "ipython3",
   "version": "3.12.7"
  }
 },
 "nbformat": 4,
 "nbformat_minor": 5
}

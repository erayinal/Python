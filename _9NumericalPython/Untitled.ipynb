{
 "cells": [
  {
   "cell_type": "markdown",
   "id": "0245b846-81df-4c72-b305-6701e09a901c",
   "metadata": {},
   "source": [
    "# **Pandas**\n"
   ]
  },
  {
   "cell_type": "code",
   "execution_count": null,
   "id": "e4f261b3-cdd9-4235-a43c-2e38da1c8f46",
   "metadata": {},
   "outputs": [],
   "source": []
  }
 ],
 "metadata": {
  "kernelspec": {
   "display_name": "Python [conda env:base] *",
   "language": "python",
   "name": "conda-base-py"
  },
  "language_info": {
   "codemirror_mode": {
    "name": "ipython",
    "version": 3
   },
   "file_extension": ".py",
   "mimetype": "text/x-python",
   "name": "python",
   "nbconvert_exporter": "python",
   "pygments_lexer": "ipython3",
   "version": "3.12.7"
  }
 },
 "nbformat": 4,
 "nbformat_minor": 5
}

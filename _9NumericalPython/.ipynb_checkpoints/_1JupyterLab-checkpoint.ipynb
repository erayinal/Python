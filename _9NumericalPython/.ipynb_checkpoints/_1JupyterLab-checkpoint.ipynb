{
 "cells": [
  {
   "cell_type": "markdown",
   "id": "9a737a7d-9385-415d-8b2c-946e42722c6f",
   "metadata": {},
   "source": [
    "Notebook'lar hücre dediğimiz yapılardan oluşur. Yukarıdan bu hücreleri 'Code' ve 'Markdown' olarak seçebiliriz.\n",
    "\n",
    "* İki satır arası boşluk için: Satır sonuna iki tane boşluk bırak veya <'br'> yaz\n",
    "\n",
    "**Code**: Python kodlarını çalıştırabildiğimiz alandır. Shift+enter ile çalıştırılabilir. <br>\n",
    "**Markdown**: Norlarımızı zengin bir şekilde oluşturabilmemizi sağlayan alandır\n",
    "\n",
    "_italik_\n",
    "\n",
    "* Madde\n",
    "\n",
    "> Alıntı\n",
    ">> Alıntı2\n",
    "\n",
    "\n",
    "#### Tablolar: \n",
    "| Başlık 1 | Başlık 2 | Başlık 3 |\n",
    "|----------|----------|----------|\n",
    "| İçerik 1  | İçerik 2  | İçerik 3  |\n",
    "| İçerik 4  | İçerik 5  | İçerik 6  |\n",
    "\n",
    "\n",
    "#### Yatay çizgi:\n",
    "***\n",
    "\n",
    "\n",
    "#### Görev Listesi:\n",
    "- [x] Yapıldı\n",
    "- [ ] Yapılacak\n",
    "- [ ] İncelenecek"
   ]
  },
  {
   "cell_type": "code",
   "execution_count": 3,
   "id": "56cb1803-ec77-4e32-89fe-223e12d183cb",
   "metadata": {},
   "outputs": [
    {
     "name": "stdout",
     "output_type": "stream",
     "text": [
      "a\n"
     ]
    }
   ],
   "source": [
    "print(\"a\")"
   ]
  },
  {
   "cell_type": "markdown",
   "id": "b56428ba-be45-4ae0-9b64-21acf5d46b7b",
   "metadata": {},
   "source": [
    "## **NumPy Nedir?**\n",
    "Açılımı Numerical Python'dır. Python'ın bazı numerik işlemlerde yetersiz kaldığı noktalarda ihtiyaçlarımızı gidermek için çıkmış bir modüldür.\n",
    "\n",
    "* Bilimsel hesaplamalar için kullanılır.\n",
    "* Arraylar / Çok boyutlu arrayler ve matrisler üzerinde yüksek performanslı çalışma imkanı sağlar.\n",
    "* Temelleri 1995 yılında içersinde Guido Van Rossum da olan bir topluluk tarafından atılmıştır ve 2005'te Travis Oliphant hayata geçmiştir.\n",
    "* Kullanacağımız npArray, Listelere benzerdir. Farkı ise verimli veri saklama ve vektörel operasyonlardır.\n"
   ]
  },
  {
   "cell_type": "markdown",
   "id": "511f5c0f-0682-4ab0-8981-5740c069bb54",
   "metadata": {},
   "source": [
    "#### **Neden NumPy?**\n",
    "* Daha üst seviye işlemleri daha kolay şekilde yapmamıza olanak sağlar\n",
    "* Maliyetleri de çok azaltır(Memorization)\n",
    "* Aşağıdaki hücrelerde sağladığı kolaylıklara bakalım:"
   ]
  },
  {
   "cell_type": "code",
   "execution_count": 95,
   "id": "34c2b67c-112e-45e3-909b-862cde387b4c",
   "metadata": {},
   "outputs": [],
   "source": [
    "import numpy as np\n",
    "a = np.array([1,2,3,4])\n",
    "b = np.array([2,4,6,8])"
   ]
  },
  {
   "cell_type": "code",
   "execution_count": 97,
   "id": "cedee49c-8a33-4ca7-81a6-439545a3b6c1",
   "metadata": {},
   "outputs": [
    {
     "data": {
      "text/plain": [
       "array([ 2,  8, 18, 32])"
      ]
     },
     "execution_count": 97,
     "metadata": {},
     "output_type": "execute_result"
    }
   ],
   "source": [
    "a*b #Gördüğümüz gibi arrayler arası kolayca çarpma yapabiliyoruz"
   ]
  },
  {
   "cell_type": "markdown",
   "id": "9785cdf7-c9ab-4567-82f2-4683355dd229",
   "metadata": {},
   "source": [
    "### **Array**\n",
    "Tek boyutlu array = **Vektör**  \n",
    "İki boyutlu array = **Matrix**\n",
    "\n",
    "* İstersek array'lerin type'ını belirleyebiliriz:\n",
    "> np.array([1,2,3,4], dtype = \"float32\")\n",
    "\n",
    "* Her elemanı 0 olan array oluşturabiliriz:\n",
    "> np.zeros(5)\n",
    ">> np.zeros(5, dtype=\"int\")\n",
    "\n",
    "* Aynı şekilde her elemanı 1 olan array de oluşturabiliriz ve hatta iki boyutlu array de oluşturabiliriz:\n",
    "  > np.ones(5)\n",
    "  >> np.ones((3,5))\n",
    "\n",
    "* Eğer belli bir sayıdan oluşan bir array oluşturmak istiyorsak:\n",
    "  > np.full((3,5) , 22)\n",
    "\n",
    "* Belirli bir aralıkta belirlediğimiz aralıklarla artan array de oluşturabiliriz:\n",
    "  > np.arange(0,31 , 3) **(kaçtan, kaça, kaçar kaçar)**\n",
    "\n",
    "* İki değer arasında istediğimiz sayıda eleman içeren array de oluştutabiliriz:\n",
    "  > np.linspace(0,1 , 10) **0 ile 1 arasında 10 tane eleman olacak şekilde array oluşturur**\n",
    "\n",
    "* İstediğimiz ortalama(average) ve standart sapmaya sahip olan ve istediğimiz boyuttta array oluşturma:\n",
    "  > np.random.normal(10, 4, (4,4)) **(ortalama, ss, arrayBoyutu)**\n",
    "\n",
    "* Ortlama ve ss ile uğraşmadan da istediğimiz boyutta random array oluşturabiliriz:\n",
    "  > np.random.randint(0, 10 , (4,4)) **(kaçtan, kaça, arrayBoyutu)**\n",
    "  >> np.random.randint(10, (4,4)) **Başlangıcı 0 olarak kabul eder ve aralığı 0-10 alır**"
   ]
  },
  {
   "cell_type": "code",
   "execution_count": 117,
   "id": "1a012fa0-40e9-404d-b2c6-1e61ee6f91f6",
   "metadata": {},
   "outputs": [
    {
     "data": {
      "text/plain": [
       "array([ 0,  3,  6,  9, 12, 15, 18, 21, 24, 27, 30])"
      ]
     },
     "execution_count": 117,
     "metadata": {},
     "output_type": "execute_result"
    }
   ],
   "source": [
    "a = np.arange(0,31 , 3)\n",
    "a"
   ]
  },
  {
   "cell_type": "markdown",
   "id": "4be4b509-79c2-43ef-889a-67d167692b73",
   "metadata": {},
   "source": [
    "#### **Array Özellikleri**\n",
    "* **ndim:** Array'in boyut bilgisini verir\n",
    "* **shape:** Hem boyut bilgisini verir hem de eleman sayısını verir\n",
    "  > (10,) şeklinde verirse 1 boyutlu ve 10 elemana sahip demektir\n",
    "  >> (3, 4) şeklinde verirse 3 satır 4 sütunlu iki boyutlu bir arraydir \n",
    "* **size:** Array'in toplam eleman sayısını verir\n",
    "* **dtype:** Array'in veri tipini verir\n",
    "\n"
   ]
  },
  {
   "cell_type": "code",
   "execution_count": 109,
   "id": "38c7f26a-f9d4-4239-b934-efee89d20b69",
   "metadata": {},
   "outputs": [
    {
     "data": {
      "text/plain": [
       "(3, 4)"
      ]
     },
     "execution_count": 109,
     "metadata": {},
     "output_type": "execute_result"
    }
   ],
   "source": [
    "a = np.random.randint(0, 10 , (3,4))\n",
    "a.shape"
   ]
  },
  {
   "cell_type": "markdown",
   "id": "6ec120ed-6808-42c6-82e2-272bd069408a",
   "metadata": {},
   "source": [
    "#### **Yeniden Şekillendirme (Reshaping)**\n",
    "* Mesela elimizde 1den 10a kadar sayıların olduğu 9 elemanlı tek boyutlu bir array var ve biz bu arrayi iki boyutlu 3x3 bir array yapmak istiyoruz:\n",
    "  > a = np.arange(1,10)  \n",
    "    a.reshape((3,3))"
   ]
  },
  {
   "cell_type": "code",
   "execution_count": 177,
   "id": "1c933051-0f75-4d39-a4c7-dfaa158c9fd9",
   "metadata": {},
   "outputs": [
    {
     "name": "stdout",
     "output_type": "stream",
     "text": [
      "[[1 2 3]\n",
      " [4 5 6]\n",
      " [7 8 9]]\n"
     ]
    }
   ],
   "source": [
    "a = np.arange(1,10)\n",
    "b = a.reshape((3,3))\n",
    "print(b)"
   ]
  },
  {
   "cell_type": "markdown",
   "id": "3a23a375-c9ac-4d68-9ee6-97100fd5a3cd",
   "metadata": {},
   "source": [
    "#### **Birleştirme (Concatenation)**\n",
    "* Tek Boyutlu:\n",
    "  > a = np.array([1,2,3,4])  \n",
    "    b = np.array([5,6,7,8])  \n",
    "    c = np.array([1,3,5])\n",
    "    >> np.concatenate([a,b,c])\n",
    "\n",
    "* İki boyutlu:\n",
    "  > a = np.array( [[1,2,3], [4,5,6]] )\n",
    "  > b = np.array( [[7,8,9], [1,3,5]] )\n",
    "    >> np.concatenate([a,b])  \n",
    "\n",
    "**NOT:** Peki biz satır bazlı birşeltirmek istersek:\n",
    "> np.concatenate([a,b] , axis = 1)  **Normalde axis'in default değeri 0dır ve bu da sütun bazlı birleştirme yapar**"
   ]
  },
  {
   "cell_type": "code",
   "execution_count": 175,
   "id": "e0c46981-9894-44cb-a667-73669809c497",
   "metadata": {},
   "outputs": [
    {
     "name": "stdout",
     "output_type": "stream",
     "text": [
      "[1 2 3 4 5 6 7 8 1 3 5]\n",
      " \n",
      "[[1 2 3]\n",
      " [4 5 6]\n",
      " [7 8 9]\n",
      " [1 3 5]]\n",
      " \n",
      "[[ 1  2  3  7  8  9 10]\n",
      " [ 4  5  6  1  3  5  7]]\n"
     ]
    }
   ],
   "source": [
    "a = np.array([1,2,3,4])  \n",
    "b = np.array([5,6,7,8])\n",
    "c = np.array([1,3,5])\n",
    "d = np.concatenate([a,b,c])\n",
    "print(d)\n",
    "print(\" \")\n",
    "\n",
    "\n",
    "a = np.array( [[1,2,3],\n",
    "               [4,5,6]] )\n",
    "b = np.array( [[7,8,9],\n",
    "               [1,3,5]] )\n",
    "c = np.concatenate([a,b])\n",
    "print(c)\n",
    "print(\" \")\n",
    "\n",
    "\n",
    "a = np.array( [[1,2,3],\n",
    "               [4,5,6]] )\n",
    "b = np.array( [[7,8,9,10],\n",
    "               [1,3,5,7]] )\n",
    "c = np.concatenate([a,b] , axis = 1)\n",
    "\n",
    "print(c)"
   ]
  },
  {
   "cell_type": "code",
   "execution_count": null,
   "id": "525a64a4-94bf-414c-ba49-f31bbbeda0c2",
   "metadata": {},
   "outputs": [],
   "source": []
  }
 ],
 "metadata": {
  "kernelspec": {
   "display_name": "Python [conda env:base] *",
   "language": "python",
   "name": "conda-base-py"
  },
  "language_info": {
   "codemirror_mode": {
    "name": "ipython",
    "version": 3
   },
   "file_extension": ".py",
   "mimetype": "text/x-python",
   "name": "python",
   "nbconvert_exporter": "python",
   "pygments_lexer": "ipython3",
   "version": "3.12.7"
  }
 },
 "nbformat": 4,
 "nbformat_minor": 5
}

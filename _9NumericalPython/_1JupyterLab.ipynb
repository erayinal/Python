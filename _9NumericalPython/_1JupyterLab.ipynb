{
 "cells": [
  {
   "cell_type": "markdown",
   "id": "9a737a7d-9385-415d-8b2c-946e42722c6f",
   "metadata": {},
   "source": [
    "Notebook'lar hücre dediğimiz yapılardan oluşur. Yukarıdan bu hücreleri 'Code' ve 'Markdown' olarak seçebiliriz.\n",
    "\n",
    "* İki satır arası boşluk için: Satır sonuna iki tane boşluk bırak veya <'br'> yaz\n",
    "\n",
    "**Code**: Python kodlarını çalıştırabildiğimiz alandır. Shift+enter ile çalıştırılabilir. <br>\n",
    "**Markdown**: Norlarımızı zengin bir şekilde oluşturabilmemizi sağlayan alandır\n",
    "\n",
    "_italik_\n",
    "\n",
    "* Madde\n",
    "\n",
    "> Alıntı\n",
    ">> Alıntı2\n",
    "\n",
    "\n",
    "#### Tablolar: \n",
    "| Başlık 1 | Başlık 2 | Başlık 3 |\n",
    "|----------|----------|----------|\n",
    "| İçerik 1  | İçerik 2  | İçerik 3  |\n",
    "| İçerik 4  | İçerik 5  | İçerik 6  |\n",
    "\n",
    "\n",
    "#### Yatay çizgi:\n",
    "***\n",
    "\n",
    "\n",
    "#### Görev Listesi:\n",
    "- [x] Yapıldı\n",
    "- [ ] Yapılacak\n",
    "- [ ] İncelenecek"
   ]
  },
  {
   "cell_type": "code",
   "execution_count": 3,
   "id": "56cb1803-ec77-4e32-89fe-223e12d183cb",
   "metadata": {},
   "outputs": [
    {
     "name": "stdout",
     "output_type": "stream",
     "text": [
      "a\n"
     ]
    }
   ],
   "source": [
    "print(\"a\")"
   ]
  },
  {
   "cell_type": "markdown",
   "id": "b56428ba-be45-4ae0-9b64-21acf5d46b7b",
   "metadata": {},
   "source": [
    "#### **NumPy Nedir?**\n",
    "Açılımı Numerical Python'dır. Python'ın bazı numerik işlemlerde yetersiz kaldığı noktalarda ihtiyaçlarımızı gidermek için çıkmış bir modüldür.\n",
    "\n",
    "* Bilimsel hesaplamalar için kullanılır.\n",
    "* Arraylar / Çok boyutlu arrayler ve matrisler üzerinde yüksek performanslı çalışma imkanı sağlar.\n",
    "* Temelleri 1995 yılında içersinde Guido Van Rossum da olan bir topluluk tarafından atılmıştır ve 2005'te Travis Oliphant hayata geçmiştir.\n",
    "* Kullanacağımız npArray, Listelere benzerdir. Farkı ise verimli veri saklama ve vektörel operasyonlardır.\n"
   ]
  },
  {
   "cell_type": "markdown",
   "id": "511f5c0f-0682-4ab0-8981-5740c069bb54",
   "metadata": {},
   "source": [
    "#### **Neden NumPy?**\n",
    "* Daha üst seviye işlemleri daha kolay şekilde yapmamıza olanak sağlar\n",
    "* Maliyetleri de çok azaltır(Memorization)\n",
    "* Aşağıdaki hücrelerde sağladığı kolaylıklara bakalım:"
   ]
  },
  {
   "cell_type": "code",
   "execution_count": 18,
   "id": "34c2b67c-112e-45e3-909b-862cde387b4c",
   "metadata": {},
   "outputs": [],
   "source": [
    "import numpy as np\n",
    "a = np.array([1,2,3,4])\n",
    "b = np.array([2,4,6,8])"
   ]
  },
  {
   "cell_type": "code",
   "execution_count": 22,
   "id": "cedee49c-8a33-4ca7-81a6-439545a3b6c1",
   "metadata": {},
   "outputs": [
    {
     "data": {
      "text/plain": [
       "array([ 2,  8, 18, 32])"
      ]
     },
     "execution_count": 22,
     "metadata": {},
     "output_type": "execute_result"
    }
   ],
   "source": [
    "a*b #Gördüğümüz gibi arrayler arası kolayca çarpma yapabiliyoruz"
   ]
  },
  {
   "cell_type": "markdown",
   "id": "9785cdf7-c9ab-4567-82f2-4683355dd229",
   "metadata": {},
   "source": [
    "#### **Array**\n",
    "Tek boyutlu array = **Vektör**  \n",
    "İki boyutlu array = **Matrix**\n",
    "\n",
    "* İstersek array'lerin type'ını belirleyebiliriz:\n",
    "> np.array([1,2,3,4], dtype = \"float32\")\n",
    "\n",
    "* Her elemanı 0 olan array oluşturabiliriz:\n",
    "> np.zeros(5)\n",
    ">> np.zeros(5, dtype=\"int\")\n",
    "\n",
    "* Aynı şekilde her elemanı 1 olan array de oluşturabiliriz ve hatta iki boyutlu array de oluşturabiliriz:\n",
    "  > np.ones(5)\n",
    "  >> np.ones((3,5))\n",
    "\n",
    "* Eğer belli bir sayıdan oluşan bir array oluşturmak istiyorsak:\n",
    "  > np.full((3,5) , 22)\n",
    "\n",
    "* Belirli bir aralıkta belirlediğimiz aralıklarla artan array de oluşturabiliriz:\n",
    "  > np.arrange(0,31 , 3) **(kaçtan, kaça, kaçar kaçar)**\n",
    "\n",
    "* İki değer arasında istediğimiz sayıda eleman içeren array de oluştutabiliriz:\n",
    "  > np.linspace(0,1 , 10) **0 ile 1 arasında 10 tane eleman olacak şekilde array oluşturur**\n",
    "\n",
    "* İstediğimiz ortalama(average) ve standart sapmaya sahip olan ve istediğimiz boyuttta array oluşturma:\n",
    "  > np.random.normal(10, 4, (4,4)) **(ortalama, ss, arrayBoyutu)**\n",
    "\n",
    "* Ortlama ve ss ile uğraşmadan da istediğimiz boyutta random array oluşturabiliriz:\n",
    "  > np.random.randint(0, 10 , (4,4)) **(kaçtan, kaça, arrayBoyutu)**\n",
    "\n",
    "* d "
   ]
  },
  {
   "cell_type": "code",
   "execution_count": 89,
   "id": "1a012fa0-40e9-404d-b2c6-1e61ee6f91f6",
   "metadata": {},
   "outputs": [
    {
     "data": {
      "text/plain": [
       "array([[8, 5, 4, 7],\n",
       "       [5, 0, 9, 4],\n",
       "       [5, 3, 7, 3],\n",
       "       [1, 3, 8, 6]])"
      ]
     },
     "execution_count": 89,
     "metadata": {},
     "output_type": "execute_result"
    }
   ],
   "source": [
    "a = np.random.randint(0, 10 , (4,4))\n",
    "a"
   ]
  },
  {
   "cell_type": "code",
   "execution_count": null,
   "id": "543cd03e-d746-435b-8701-a44ce0c2a9d6",
   "metadata": {},
   "outputs": [],
   "source": []
  }
 ],
 "metadata": {
  "kernelspec": {
   "display_name": "Python [conda env:base] *",
   "language": "python",
   "name": "conda-base-py"
  },
  "language_info": {
   "codemirror_mode": {
    "name": "ipython",
    "version": 3
   },
   "file_extension": ".py",
   "mimetype": "text/x-python",
   "name": "python",
   "nbconvert_exporter": "python",
   "pygments_lexer": "ipython3",
   "version": "3.12.7"
  }
 },
 "nbformat": 4,
 "nbformat_minor": 5
}
